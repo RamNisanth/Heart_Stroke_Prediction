{
  "nbformat": 4,
  "nbformat_minor": 0,
  "metadata": {
    "colab": {
      "provenance": []
    },
    "kernelspec": {
      "name": "python3",
      "display_name": "Python 3"
    },
    "language_info": {
      "name": "python"
    }
  },
  "cells": [
    {
      "cell_type": "code",
      "execution_count": null,
      "metadata": {
        "id": "WsoVtWMdNO1r"
      },
      "outputs": [],
      "source": [
        "import scipy.stats\n",
        "import pandas as pd\n",
        "import matplotlib as mt\n",
        "import scipy\n",
        "import math\n",
        "import sklearn\n",
        "from sklearn.linear_model import LinearRegression as LR\n",
        "from sklearn.model_selection import train_test_split\n",
        "from sklearn.model_selection import cross_val_score\n",
        "import numpy as np\n",
        "import seaborn as sns\n",
        "from sklearn.metrics import r2_score,mean_squared_error"
      ]
    },
    {
      "cell_type": "code",
      "source": [
        "from google.colab import drive\n",
        "drive.mount('/content/gdrive/', force_remount=True)"
      ],
      "metadata": {
        "colab": {
          "base_uri": "https://localhost:8080/"
        },
        "id": "emqsBGGDNaXz",
        "outputId": "3f61392b-4284-4ca6-e8fb-419b59ac3365"
      },
      "execution_count": null,
      "outputs": [
        {
          "output_type": "stream",
          "name": "stdout",
          "text": [
            "Mounted at /content/gdrive/\n"
          ]
        }
      ]
    },
    {
      "cell_type": "code",
      "source": [
        "heart_dataset=pd.read_csv('/content/gdrive/MyDrive/test.csv/Emp_train.csv')\n",
        "\n"
      ],
      "metadata": {
        "id": "vSodTlGVODxs"
      },
      "execution_count": null,
      "outputs": []
    },
    {
      "cell_type": "code",
      "source": [
        "heart_dataset.head(5)"
      ],
      "metadata": {
        "colab": {
          "base_uri": "https://localhost:8080/",
          "height": 229
        },
        "id": "TaD3UoGeq5kC",
        "outputId": "e79f1bb7-2ea9-4157-c593-a445d14a6a85"
      },
      "execution_count": null,
      "outputs": [
        {
          "output_type": "execute_result",
          "data": {
            "text/plain": [
              "   id  age  education sex is_smoking  cigsPerDay  BPMeds  prevalentStroke  \\\n",
              "0   0   64        2.0   F        YES         3.0     0.0                0   \n",
              "1   1   36        4.0   M         NO         0.0     0.0                0   \n",
              "2   2   46        1.0   F        YES        10.0     0.0                0   \n",
              "3   3   50        1.0   M        YES        20.0     0.0                0   \n",
              "4   4   64        1.0   F        YES        30.0     0.0                0   \n",
              "\n",
              "   prevalentHyp  diabetes  totChol  sysBP  diaBP    BMI  heartRate  glucose  \\\n",
              "0             0         0    221.0  148.0   85.0    NaN       90.0     80.0   \n",
              "1             1         0    212.0  168.0   98.0  29.77       72.0     75.0   \n",
              "2             0         0    250.0  116.0   71.0  20.35       88.0     94.0   \n",
              "3             1         0    233.0  158.0   88.0  28.26       68.0     94.0   \n",
              "4             0         0    241.0  136.5   85.0  26.42       70.0     77.0   \n",
              "\n",
              "   TenYearCHD  \n",
              "0           1  \n",
              "1           0  \n",
              "2           0  \n",
              "3           1  \n",
              "4           0  "
            ],
            "text/html": [
              "\n",
              "  <div id=\"df-46f39673-23c5-4880-bce6-e624e81f49c0\">\n",
              "    <div class=\"colab-df-container\">\n",
              "      <div>\n",
              "<style scoped>\n",
              "    .dataframe tbody tr th:only-of-type {\n",
              "        vertical-align: middle;\n",
              "    }\n",
              "\n",
              "    .dataframe tbody tr th {\n",
              "        vertical-align: top;\n",
              "    }\n",
              "\n",
              "    .dataframe thead th {\n",
              "        text-align: right;\n",
              "    }\n",
              "</style>\n",
              "<table border=\"1\" class=\"dataframe\">\n",
              "  <thead>\n",
              "    <tr style=\"text-align: right;\">\n",
              "      <th></th>\n",
              "      <th>id</th>\n",
              "      <th>age</th>\n",
              "      <th>education</th>\n",
              "      <th>sex</th>\n",
              "      <th>is_smoking</th>\n",
              "      <th>cigsPerDay</th>\n",
              "      <th>BPMeds</th>\n",
              "      <th>prevalentStroke</th>\n",
              "      <th>prevalentHyp</th>\n",
              "      <th>diabetes</th>\n",
              "      <th>totChol</th>\n",
              "      <th>sysBP</th>\n",
              "      <th>diaBP</th>\n",
              "      <th>BMI</th>\n",
              "      <th>heartRate</th>\n",
              "      <th>glucose</th>\n",
              "      <th>TenYearCHD</th>\n",
              "    </tr>\n",
              "  </thead>\n",
              "  <tbody>\n",
              "    <tr>\n",
              "      <th>0</th>\n",
              "      <td>0</td>\n",
              "      <td>64</td>\n",
              "      <td>2.0</td>\n",
              "      <td>F</td>\n",
              "      <td>YES</td>\n",
              "      <td>3.0</td>\n",
              "      <td>0.0</td>\n",
              "      <td>0</td>\n",
              "      <td>0</td>\n",
              "      <td>0</td>\n",
              "      <td>221.0</td>\n",
              "      <td>148.0</td>\n",
              "      <td>85.0</td>\n",
              "      <td>NaN</td>\n",
              "      <td>90.0</td>\n",
              "      <td>80.0</td>\n",
              "      <td>1</td>\n",
              "    </tr>\n",
              "    <tr>\n",
              "      <th>1</th>\n",
              "      <td>1</td>\n",
              "      <td>36</td>\n",
              "      <td>4.0</td>\n",
              "      <td>M</td>\n",
              "      <td>NO</td>\n",
              "      <td>0.0</td>\n",
              "      <td>0.0</td>\n",
              "      <td>0</td>\n",
              "      <td>1</td>\n",
              "      <td>0</td>\n",
              "      <td>212.0</td>\n",
              "      <td>168.0</td>\n",
              "      <td>98.0</td>\n",
              "      <td>29.77</td>\n",
              "      <td>72.0</td>\n",
              "      <td>75.0</td>\n",
              "      <td>0</td>\n",
              "    </tr>\n",
              "    <tr>\n",
              "      <th>2</th>\n",
              "      <td>2</td>\n",
              "      <td>46</td>\n",
              "      <td>1.0</td>\n",
              "      <td>F</td>\n",
              "      <td>YES</td>\n",
              "      <td>10.0</td>\n",
              "      <td>0.0</td>\n",
              "      <td>0</td>\n",
              "      <td>0</td>\n",
              "      <td>0</td>\n",
              "      <td>250.0</td>\n",
              "      <td>116.0</td>\n",
              "      <td>71.0</td>\n",
              "      <td>20.35</td>\n",
              "      <td>88.0</td>\n",
              "      <td>94.0</td>\n",
              "      <td>0</td>\n",
              "    </tr>\n",
              "    <tr>\n",
              "      <th>3</th>\n",
              "      <td>3</td>\n",
              "      <td>50</td>\n",
              "      <td>1.0</td>\n",
              "      <td>M</td>\n",
              "      <td>YES</td>\n",
              "      <td>20.0</td>\n",
              "      <td>0.0</td>\n",
              "      <td>0</td>\n",
              "      <td>1</td>\n",
              "      <td>0</td>\n",
              "      <td>233.0</td>\n",
              "      <td>158.0</td>\n",
              "      <td>88.0</td>\n",
              "      <td>28.26</td>\n",
              "      <td>68.0</td>\n",
              "      <td>94.0</td>\n",
              "      <td>1</td>\n",
              "    </tr>\n",
              "    <tr>\n",
              "      <th>4</th>\n",
              "      <td>4</td>\n",
              "      <td>64</td>\n",
              "      <td>1.0</td>\n",
              "      <td>F</td>\n",
              "      <td>YES</td>\n",
              "      <td>30.0</td>\n",
              "      <td>0.0</td>\n",
              "      <td>0</td>\n",
              "      <td>0</td>\n",
              "      <td>0</td>\n",
              "      <td>241.0</td>\n",
              "      <td>136.5</td>\n",
              "      <td>85.0</td>\n",
              "      <td>26.42</td>\n",
              "      <td>70.0</td>\n",
              "      <td>77.0</td>\n",
              "      <td>0</td>\n",
              "    </tr>\n",
              "  </tbody>\n",
              "</table>\n",
              "</div>\n",
              "      <button class=\"colab-df-convert\" onclick=\"convertToInteractive('df-46f39673-23c5-4880-bce6-e624e81f49c0')\"\n",
              "              title=\"Convert this dataframe to an interactive table.\"\n",
              "              style=\"display:none;\">\n",
              "        \n",
              "  <svg xmlns=\"http://www.w3.org/2000/svg\" height=\"24px\"viewBox=\"0 0 24 24\"\n",
              "       width=\"24px\">\n",
              "    <path d=\"M0 0h24v24H0V0z\" fill=\"none\"/>\n",
              "    <path d=\"M18.56 5.44l.94 2.06.94-2.06 2.06-.94-2.06-.94-.94-2.06-.94 2.06-2.06.94zm-11 1L8.5 8.5l.94-2.06 2.06-.94-2.06-.94L8.5 2.5l-.94 2.06-2.06.94zm10 10l.94 2.06.94-2.06 2.06-.94-2.06-.94-.94-2.06-.94 2.06-2.06.94z\"/><path d=\"M17.41 7.96l-1.37-1.37c-.4-.4-.92-.59-1.43-.59-.52 0-1.04.2-1.43.59L10.3 9.45l-7.72 7.72c-.78.78-.78 2.05 0 2.83L4 21.41c.39.39.9.59 1.41.59.51 0 1.02-.2 1.41-.59l7.78-7.78 2.81-2.81c.8-.78.8-2.07 0-2.86zM5.41 20L4 18.59l7.72-7.72 1.47 1.35L5.41 20z\"/>\n",
              "  </svg>\n",
              "      </button>\n",
              "      \n",
              "  <style>\n",
              "    .colab-df-container {\n",
              "      display:flex;\n",
              "      flex-wrap:wrap;\n",
              "      gap: 12px;\n",
              "    }\n",
              "\n",
              "    .colab-df-convert {\n",
              "      background-color: #E8F0FE;\n",
              "      border: none;\n",
              "      border-radius: 50%;\n",
              "      cursor: pointer;\n",
              "      display: none;\n",
              "      fill: #1967D2;\n",
              "      height: 32px;\n",
              "      padding: 0 0 0 0;\n",
              "      width: 32px;\n",
              "    }\n",
              "\n",
              "    .colab-df-convert:hover {\n",
              "      background-color: #E2EBFA;\n",
              "      box-shadow: 0px 1px 2px rgba(60, 64, 67, 0.3), 0px 1px 3px 1px rgba(60, 64, 67, 0.15);\n",
              "      fill: #174EA6;\n",
              "    }\n",
              "\n",
              "    [theme=dark] .colab-df-convert {\n",
              "      background-color: #3B4455;\n",
              "      fill: #D2E3FC;\n",
              "    }\n",
              "\n",
              "    [theme=dark] .colab-df-convert:hover {\n",
              "      background-color: #434B5C;\n",
              "      box-shadow: 0px 1px 3px 1px rgba(0, 0, 0, 0.15);\n",
              "      filter: drop-shadow(0px 1px 2px rgba(0, 0, 0, 0.3));\n",
              "      fill: #FFFFFF;\n",
              "    }\n",
              "  </style>\n",
              "\n",
              "      <script>\n",
              "        const buttonEl =\n",
              "          document.querySelector('#df-46f39673-23c5-4880-bce6-e624e81f49c0 button.colab-df-convert');\n",
              "        buttonEl.style.display =\n",
              "          google.colab.kernel.accessAllowed ? 'block' : 'none';\n",
              "\n",
              "        async function convertToInteractive(key) {\n",
              "          const element = document.querySelector('#df-46f39673-23c5-4880-bce6-e624e81f49c0');\n",
              "          const dataTable =\n",
              "            await google.colab.kernel.invokeFunction('convertToInteractive',\n",
              "                                                     [key], {});\n",
              "          if (!dataTable) return;\n",
              "\n",
              "          const docLinkHtml = 'Like what you see? Visit the ' +\n",
              "            '<a target=\"_blank\" href=https://colab.research.google.com/notebooks/data_table.ipynb>data table notebook</a>'\n",
              "            + ' to learn more about interactive tables.';\n",
              "          element.innerHTML = '';\n",
              "          dataTable['output_type'] = 'display_data';\n",
              "          await google.colab.output.renderOutput(dataTable, element);\n",
              "          const docLink = document.createElement('div');\n",
              "          docLink.innerHTML = docLinkHtml;\n",
              "          element.appendChild(docLink);\n",
              "        }\n",
              "      </script>\n",
              "    </div>\n",
              "  </div>\n",
              "  "
            ]
          },
          "metadata": {},
          "execution_count": 111
        }
      ]
    },
    {
      "cell_type": "code",
      "source": [
        "#len(sample_data1)\n",
        "# sample_data1.to_csv('sample1.csv')\n",
        "# !cp sample1.csv \"/content/gdrive/MyDrive/test.csv/\"   #/content/gdrive/MyDrive/test.csv/Emp_train.csv"
      ],
      "metadata": {
        "id": "mJJRRg2qgiq9"
      },
      "execution_count": null,
      "outputs": []
    },
    {
      "cell_type": "markdown",
      "source": [
        "*DATA* SET DESCRIPTION"
      ],
      "metadata": {
        "id": "giJjARjziTkq"
      }
    },
    {
      "cell_type": "code",
      "source": [
        "heart_dataset.columns #column names in the dataframe"
      ],
      "metadata": {
        "colab": {
          "base_uri": "https://localhost:8080/"
        },
        "id": "0vFyZ59yihg-",
        "outputId": "3d376679-ffb7-462b-83f3-467bc3cff5b6"
      },
      "execution_count": null,
      "outputs": [
        {
          "output_type": "execute_result",
          "data": {
            "text/plain": [
              "Index(['id', 'age', 'education', 'sex', 'is_smoking', 'cigsPerDay', 'BPMeds',\n",
              "       'prevalentStroke', 'prevalentHyp', 'diabetes', 'totChol', 'sysBP',\n",
              "       'diaBP', 'BMI', 'heartRate', 'glucose', 'TenYearCHD'],\n",
              "      dtype='object')"
            ]
          },
          "metadata": {},
          "execution_count": 8
        }
      ]
    },
    {
      "cell_type": "code",
      "source": [
        "#values in the variables\n",
        "heart_dataset.head(5)"
      ],
      "metadata": {
        "colab": {
          "base_uri": "https://localhost:8080/",
          "height": 270
        },
        "id": "j9SnflM5i-jN",
        "outputId": "b7a03502-cfa8-400d-f04d-005cb0860c6c"
      },
      "execution_count": null,
      "outputs": [
        {
          "output_type": "execute_result",
          "data": {
            "text/plain": [
              "   id  age  education sex is_smoking  cigsPerDay  BPMeds  prevalentStroke  \\\n",
              "0   0   64        2.0   F        YES         3.0     0.0                0   \n",
              "1   1   36        4.0   M         NO         0.0     0.0                0   \n",
              "2   2   46        1.0   F        YES        10.0     0.0                0   \n",
              "3   3   50        1.0   M        YES        20.0     0.0                0   \n",
              "4   4   64        1.0   F        YES        30.0     0.0                0   \n",
              "\n",
              "   prevalentHyp  diabetes  totChol  sysBP  diaBP    BMI  heartRate  glucose  \\\n",
              "0             0         0    221.0  148.0   85.0    NaN       90.0     80.0   \n",
              "1             1         0    212.0  168.0   98.0  29.77       72.0     75.0   \n",
              "2             0         0    250.0  116.0   71.0  20.35       88.0     94.0   \n",
              "3             1         0    233.0  158.0   88.0  28.26       68.0     94.0   \n",
              "4             0         0    241.0  136.5   85.0  26.42       70.0     77.0   \n",
              "\n",
              "   TenYearCHD  \n",
              "0           1  \n",
              "1           0  \n",
              "2           0  \n",
              "3           1  \n",
              "4           0  "
            ],
            "text/html": [
              "\n",
              "  <div id=\"df-128c48c8-004c-481f-9fcd-ed605d5a4189\">\n",
              "    <div class=\"colab-df-container\">\n",
              "      <div>\n",
              "<style scoped>\n",
              "    .dataframe tbody tr th:only-of-type {\n",
              "        vertical-align: middle;\n",
              "    }\n",
              "\n",
              "    .dataframe tbody tr th {\n",
              "        vertical-align: top;\n",
              "    }\n",
              "\n",
              "    .dataframe thead th {\n",
              "        text-align: right;\n",
              "    }\n",
              "</style>\n",
              "<table border=\"1\" class=\"dataframe\">\n",
              "  <thead>\n",
              "    <tr style=\"text-align: right;\">\n",
              "      <th></th>\n",
              "      <th>id</th>\n",
              "      <th>age</th>\n",
              "      <th>education</th>\n",
              "      <th>sex</th>\n",
              "      <th>is_smoking</th>\n",
              "      <th>cigsPerDay</th>\n",
              "      <th>BPMeds</th>\n",
              "      <th>prevalentStroke</th>\n",
              "      <th>prevalentHyp</th>\n",
              "      <th>diabetes</th>\n",
              "      <th>totChol</th>\n",
              "      <th>sysBP</th>\n",
              "      <th>diaBP</th>\n",
              "      <th>BMI</th>\n",
              "      <th>heartRate</th>\n",
              "      <th>glucose</th>\n",
              "      <th>TenYearCHD</th>\n",
              "    </tr>\n",
              "  </thead>\n",
              "  <tbody>\n",
              "    <tr>\n",
              "      <th>0</th>\n",
              "      <td>0</td>\n",
              "      <td>64</td>\n",
              "      <td>2.0</td>\n",
              "      <td>F</td>\n",
              "      <td>YES</td>\n",
              "      <td>3.0</td>\n",
              "      <td>0.0</td>\n",
              "      <td>0</td>\n",
              "      <td>0</td>\n",
              "      <td>0</td>\n",
              "      <td>221.0</td>\n",
              "      <td>148.0</td>\n",
              "      <td>85.0</td>\n",
              "      <td>NaN</td>\n",
              "      <td>90.0</td>\n",
              "      <td>80.0</td>\n",
              "      <td>1</td>\n",
              "    </tr>\n",
              "    <tr>\n",
              "      <th>1</th>\n",
              "      <td>1</td>\n",
              "      <td>36</td>\n",
              "      <td>4.0</td>\n",
              "      <td>M</td>\n",
              "      <td>NO</td>\n",
              "      <td>0.0</td>\n",
              "      <td>0.0</td>\n",
              "      <td>0</td>\n",
              "      <td>1</td>\n",
              "      <td>0</td>\n",
              "      <td>212.0</td>\n",
              "      <td>168.0</td>\n",
              "      <td>98.0</td>\n",
              "      <td>29.77</td>\n",
              "      <td>72.0</td>\n",
              "      <td>75.0</td>\n",
              "      <td>0</td>\n",
              "    </tr>\n",
              "    <tr>\n",
              "      <th>2</th>\n",
              "      <td>2</td>\n",
              "      <td>46</td>\n",
              "      <td>1.0</td>\n",
              "      <td>F</td>\n",
              "      <td>YES</td>\n",
              "      <td>10.0</td>\n",
              "      <td>0.0</td>\n",
              "      <td>0</td>\n",
              "      <td>0</td>\n",
              "      <td>0</td>\n",
              "      <td>250.0</td>\n",
              "      <td>116.0</td>\n",
              "      <td>71.0</td>\n",
              "      <td>20.35</td>\n",
              "      <td>88.0</td>\n",
              "      <td>94.0</td>\n",
              "      <td>0</td>\n",
              "    </tr>\n",
              "    <tr>\n",
              "      <th>3</th>\n",
              "      <td>3</td>\n",
              "      <td>50</td>\n",
              "      <td>1.0</td>\n",
              "      <td>M</td>\n",
              "      <td>YES</td>\n",
              "      <td>20.0</td>\n",
              "      <td>0.0</td>\n",
              "      <td>0</td>\n",
              "      <td>1</td>\n",
              "      <td>0</td>\n",
              "      <td>233.0</td>\n",
              "      <td>158.0</td>\n",
              "      <td>88.0</td>\n",
              "      <td>28.26</td>\n",
              "      <td>68.0</td>\n",
              "      <td>94.0</td>\n",
              "      <td>1</td>\n",
              "    </tr>\n",
              "    <tr>\n",
              "      <th>4</th>\n",
              "      <td>4</td>\n",
              "      <td>64</td>\n",
              "      <td>1.0</td>\n",
              "      <td>F</td>\n",
              "      <td>YES</td>\n",
              "      <td>30.0</td>\n",
              "      <td>0.0</td>\n",
              "      <td>0</td>\n",
              "      <td>0</td>\n",
              "      <td>0</td>\n",
              "      <td>241.0</td>\n",
              "      <td>136.5</td>\n",
              "      <td>85.0</td>\n",
              "      <td>26.42</td>\n",
              "      <td>70.0</td>\n",
              "      <td>77.0</td>\n",
              "      <td>0</td>\n",
              "    </tr>\n",
              "  </tbody>\n",
              "</table>\n",
              "</div>\n",
              "      <button class=\"colab-df-convert\" onclick=\"convertToInteractive('df-128c48c8-004c-481f-9fcd-ed605d5a4189')\"\n",
              "              title=\"Convert this dataframe to an interactive table.\"\n",
              "              style=\"display:none;\">\n",
              "        \n",
              "  <svg xmlns=\"http://www.w3.org/2000/svg\" height=\"24px\"viewBox=\"0 0 24 24\"\n",
              "       width=\"24px\">\n",
              "    <path d=\"M0 0h24v24H0V0z\" fill=\"none\"/>\n",
              "    <path d=\"M18.56 5.44l.94 2.06.94-2.06 2.06-.94-2.06-.94-.94-2.06-.94 2.06-2.06.94zm-11 1L8.5 8.5l.94-2.06 2.06-.94-2.06-.94L8.5 2.5l-.94 2.06-2.06.94zm10 10l.94 2.06.94-2.06 2.06-.94-2.06-.94-.94-2.06-.94 2.06-2.06.94z\"/><path d=\"M17.41 7.96l-1.37-1.37c-.4-.4-.92-.59-1.43-.59-.52 0-1.04.2-1.43.59L10.3 9.45l-7.72 7.72c-.78.78-.78 2.05 0 2.83L4 21.41c.39.39.9.59 1.41.59.51 0 1.02-.2 1.41-.59l7.78-7.78 2.81-2.81c.8-.78.8-2.07 0-2.86zM5.41 20L4 18.59l7.72-7.72 1.47 1.35L5.41 20z\"/>\n",
              "  </svg>\n",
              "      </button>\n",
              "      \n",
              "  <style>\n",
              "    .colab-df-container {\n",
              "      display:flex;\n",
              "      flex-wrap:wrap;\n",
              "      gap: 12px;\n",
              "    }\n",
              "\n",
              "    .colab-df-convert {\n",
              "      background-color: #E8F0FE;\n",
              "      border: none;\n",
              "      border-radius: 50%;\n",
              "      cursor: pointer;\n",
              "      display: none;\n",
              "      fill: #1967D2;\n",
              "      height: 32px;\n",
              "      padding: 0 0 0 0;\n",
              "      width: 32px;\n",
              "    }\n",
              "\n",
              "    .colab-df-convert:hover {\n",
              "      background-color: #E2EBFA;\n",
              "      box-shadow: 0px 1px 2px rgba(60, 64, 67, 0.3), 0px 1px 3px 1px rgba(60, 64, 67, 0.15);\n",
              "      fill: #174EA6;\n",
              "    }\n",
              "\n",
              "    [theme=dark] .colab-df-convert {\n",
              "      background-color: #3B4455;\n",
              "      fill: #D2E3FC;\n",
              "    }\n",
              "\n",
              "    [theme=dark] .colab-df-convert:hover {\n",
              "      background-color: #434B5C;\n",
              "      box-shadow: 0px 1px 3px 1px rgba(0, 0, 0, 0.15);\n",
              "      filter: drop-shadow(0px 1px 2px rgba(0, 0, 0, 0.3));\n",
              "      fill: #FFFFFF;\n",
              "    }\n",
              "  </style>\n",
              "\n",
              "      <script>\n",
              "        const buttonEl =\n",
              "          document.querySelector('#df-128c48c8-004c-481f-9fcd-ed605d5a4189 button.colab-df-convert');\n",
              "        buttonEl.style.display =\n",
              "          google.colab.kernel.accessAllowed ? 'block' : 'none';\n",
              "\n",
              "        async function convertToInteractive(key) {\n",
              "          const element = document.querySelector('#df-128c48c8-004c-481f-9fcd-ed605d5a4189');\n",
              "          const dataTable =\n",
              "            await google.colab.kernel.invokeFunction('convertToInteractive',\n",
              "                                                     [key], {});\n",
              "          if (!dataTable) return;\n",
              "\n",
              "          const docLinkHtml = 'Like what you see? Visit the ' +\n",
              "            '<a target=\"_blank\" href=https://colab.research.google.com/notebooks/data_table.ipynb>data table notebook</a>'\n",
              "            + ' to learn more about interactive tables.';\n",
              "          element.innerHTML = '';\n",
              "          dataTable['output_type'] = 'display_data';\n",
              "          await google.colab.output.renderOutput(dataTable, element);\n",
              "          const docLink = document.createElement('div');\n",
              "          docLink.innerHTML = docLinkHtml;\n",
              "          element.appendChild(docLink);\n",
              "        }\n",
              "      </script>\n",
              "    </div>\n",
              "  </div>\n",
              "  "
            ]
          },
          "metadata": {},
          "execution_count": 9
        }
      ]
    },
    {
      "cell_type": "code",
      "source": [
        "#data types of all the variables present in the dataset\n",
        "\n",
        "heart_dataset.info()"
      ],
      "metadata": {
        "colab": {
          "base_uri": "https://localhost:8080/"
        },
        "id": "ZxlEYpjRjQ1w",
        "outputId": "8ffe4730-fb35-4d8b-d6d8-17b4f966b3cb"
      },
      "execution_count": null,
      "outputs": [
        {
          "output_type": "stream",
          "name": "stdout",
          "text": [
            "<class 'pandas.core.frame.DataFrame'>\n",
            "RangeIndex: 3390 entries, 0 to 3389\n",
            "Data columns (total 17 columns):\n",
            " #   Column           Non-Null Count  Dtype  \n",
            "---  ------           --------------  -----  \n",
            " 0   id               3390 non-null   int64  \n",
            " 1   age              3390 non-null   int64  \n",
            " 2   education        3303 non-null   float64\n",
            " 3   sex              3390 non-null   object \n",
            " 4   is_smoking       3390 non-null   object \n",
            " 5   cigsPerDay       3368 non-null   float64\n",
            " 6   BPMeds           3346 non-null   float64\n",
            " 7   prevalentStroke  3390 non-null   int64  \n",
            " 8   prevalentHyp     3390 non-null   int64  \n",
            " 9   diabetes         3390 non-null   int64  \n",
            " 10  totChol          3352 non-null   float64\n",
            " 11  sysBP            3390 non-null   float64\n",
            " 12  diaBP            3390 non-null   float64\n",
            " 13  BMI              3376 non-null   float64\n",
            " 14  heartRate        3389 non-null   float64\n",
            " 15  glucose          3086 non-null   float64\n",
            " 16  TenYearCHD       3390 non-null   int64  \n",
            "dtypes: float64(9), int64(6), object(2)\n",
            "memory usage: 450.4+ KB\n"
          ]
        }
      ]
    },
    {
      "cell_type": "markdown",
      "source": [
        "sample 1\n"
      ],
      "metadata": {
        "id": "XzARVFcl0MgT"
      }
    },
    {
      "cell_type": "code",
      "source": [
        "sample_one = pd.read_csv('/content/gdrive/MyDrive/test.csv/sample1.csv')\n"
      ],
      "metadata": {
        "id": "cH49mI6CKcF2"
      },
      "execution_count": null,
      "outputs": []
    },
    {
      "cell_type": "code",
      "source": [
        "#correlation matrix\n",
        "sample_one.corr()"
      ],
      "metadata": {
        "colab": {
          "base_uri": "https://localhost:8080/",
          "height": 632
        },
        "id": "DJjvJWGLj0s5",
        "outputId": "bf0b4ae6-2709-4b05-c50d-d8fafe7d5a4a"
      },
      "execution_count": null,
      "outputs": [
        {
          "output_type": "execute_result",
          "data": {
            "text/plain": [
              "                 Unnamed: 0        id       age  education  cigsPerDay  \\\n",
              "Unnamed: 0         1.000000  1.000000 -0.007194  -0.287682    0.104898   \n",
              "id                 1.000000  1.000000 -0.007194  -0.287682    0.104898   \n",
              "age               -0.007194 -0.007194  1.000000  -0.077405   -0.177646   \n",
              "education         -0.287682 -0.287682 -0.077405   1.000000   -0.026996   \n",
              "cigsPerDay         0.104898  0.104898 -0.177646  -0.026996    1.000000   \n",
              "BPMeds            -0.023928 -0.023928  0.119126  -0.127254   -0.120967   \n",
              "prevalentStroke   -0.162328 -0.162328  0.191655  -0.089728    0.111973   \n",
              "prevalentHyp       0.054440  0.054440  0.310877  -0.131018   -0.013828   \n",
              "diabetes          -0.010728 -0.010728  0.109599  -0.204863   -0.053295   \n",
              "totChol            0.022159  0.022159  0.303625  -0.207221   -0.196330   \n",
              "sysBP              0.084782  0.084782  0.275020  -0.211889   -0.090241   \n",
              "diaBP              0.081186  0.081186  0.168464  -0.190074   -0.048099   \n",
              "BMI                0.133001  0.133001  0.018845  -0.232931   -0.196358   \n",
              "heartRate          0.209859  0.209859 -0.145734  -0.094038    0.234695   \n",
              "glucose            0.202017  0.202017  0.052902  -0.119975    0.006679   \n",
              "TenYearCHD        -0.068139 -0.068139  0.056687  -0.064370    0.131303   \n",
              "\n",
              "                   BPMeds  prevalentStroke  prevalentHyp  diabetes   totChol  \\\n",
              "Unnamed: 0      -0.023928        -0.162328      0.054440 -0.010728  0.022159   \n",
              "id              -0.023928        -0.162328      0.054440 -0.010728  0.022159   \n",
              "age              0.119126         0.191655      0.310877  0.109599  0.303625   \n",
              "education       -0.127254        -0.089728     -0.131018 -0.204863 -0.207221   \n",
              "cigsPerDay      -0.120967         0.111973     -0.013828 -0.053295 -0.196330   \n",
              "BPMeds           1.000000        -0.020515      0.272166 -0.046829  0.135082   \n",
              "prevalentStroke -0.020515         1.000000      0.134005 -0.023057 -0.074308   \n",
              "prevalentHyp     0.272166         0.134005      1.000000  0.019118  0.091622   \n",
              "diabetes        -0.046829        -0.023057      0.019118  1.000000  0.150478   \n",
              "totChol          0.135082        -0.074308      0.091622  0.150478  1.000000   \n",
              "sysBP            0.326191         0.125548      0.784741  0.060518  0.102522   \n",
              "diaBP            0.231909         0.081340      0.666128  0.154827  0.138882   \n",
              "BMI              0.035864              NaN      0.398416  0.111286  0.172414   \n",
              "heartRate        0.075381         0.000964      0.169057  0.103425 -0.112624   \n",
              "glucose         -0.061773        -0.050007      0.140218  0.699574  0.149599   \n",
              "TenYearCHD      -0.075378         0.272166      0.235925 -0.084717  0.023073   \n",
              "\n",
              "                    sysBP     diaBP       BMI  heartRate   glucose  TenYearCHD  \n",
              "Unnamed: 0       0.084782  0.081186  0.133001   0.209859  0.202017   -0.068139  \n",
              "id               0.084782  0.081186  0.133001   0.209859  0.202017   -0.068139  \n",
              "age              0.275020  0.168464  0.018845  -0.145734  0.052902    0.056687  \n",
              "education       -0.211889 -0.190074 -0.232931  -0.094038 -0.119975   -0.064370  \n",
              "cigsPerDay      -0.090241 -0.048099 -0.196358   0.234695  0.006679    0.131303  \n",
              "BPMeds           0.326191  0.231909  0.035864   0.075381 -0.061773   -0.075378  \n",
              "prevalentStroke  0.125548  0.081340       NaN   0.000964 -0.050007    0.272166  \n",
              "prevalentHyp     0.784741  0.666128  0.398416   0.169057  0.140218    0.235925  \n",
              "diabetes         0.060518  0.154827  0.111286   0.103425  0.699574   -0.084717  \n",
              "totChol          0.102522  0.138882  0.172414  -0.112624  0.149599    0.023073  \n",
              "sysBP            1.000000  0.797326  0.543559   0.197653  0.209817    0.225817  \n",
              "diaBP            0.797326  1.000000  0.639845   0.245009  0.302453    0.248294  \n",
              "BMI              0.543559  0.639845  1.000000   0.060764  0.370710    0.068329  \n",
              "heartRate        0.197653  0.245009  0.060764   1.000000  0.164199    0.100948  \n",
              "glucose          0.209817  0.302453  0.370710   0.164199  1.000000   -0.137443  \n",
              "TenYearCHD       0.225817  0.248294  0.068329   0.100948 -0.137443    1.000000  "
            ],
            "text/html": [
              "\n",
              "  <div id=\"df-bfd66b13-6938-41a2-b7d6-683ebe9e42a5\">\n",
              "    <div class=\"colab-df-container\">\n",
              "      <div>\n",
              "<style scoped>\n",
              "    .dataframe tbody tr th:only-of-type {\n",
              "        vertical-align: middle;\n",
              "    }\n",
              "\n",
              "    .dataframe tbody tr th {\n",
              "        vertical-align: top;\n",
              "    }\n",
              "\n",
              "    .dataframe thead th {\n",
              "        text-align: right;\n",
              "    }\n",
              "</style>\n",
              "<table border=\"1\" class=\"dataframe\">\n",
              "  <thead>\n",
              "    <tr style=\"text-align: right;\">\n",
              "      <th></th>\n",
              "      <th>Unnamed: 0</th>\n",
              "      <th>id</th>\n",
              "      <th>age</th>\n",
              "      <th>education</th>\n",
              "      <th>cigsPerDay</th>\n",
              "      <th>BPMeds</th>\n",
              "      <th>prevalentStroke</th>\n",
              "      <th>prevalentHyp</th>\n",
              "      <th>diabetes</th>\n",
              "      <th>totChol</th>\n",
              "      <th>sysBP</th>\n",
              "      <th>diaBP</th>\n",
              "      <th>BMI</th>\n",
              "      <th>heartRate</th>\n",
              "      <th>glucose</th>\n",
              "      <th>TenYearCHD</th>\n",
              "    </tr>\n",
              "  </thead>\n",
              "  <tbody>\n",
              "    <tr>\n",
              "      <th>Unnamed: 0</th>\n",
              "      <td>1.000000</td>\n",
              "      <td>1.000000</td>\n",
              "      <td>-0.007194</td>\n",
              "      <td>-0.287682</td>\n",
              "      <td>0.104898</td>\n",
              "      <td>-0.023928</td>\n",
              "      <td>-0.162328</td>\n",
              "      <td>0.054440</td>\n",
              "      <td>-0.010728</td>\n",
              "      <td>0.022159</td>\n",
              "      <td>0.084782</td>\n",
              "      <td>0.081186</td>\n",
              "      <td>0.133001</td>\n",
              "      <td>0.209859</td>\n",
              "      <td>0.202017</td>\n",
              "      <td>-0.068139</td>\n",
              "    </tr>\n",
              "    <tr>\n",
              "      <th>id</th>\n",
              "      <td>1.000000</td>\n",
              "      <td>1.000000</td>\n",
              "      <td>-0.007194</td>\n",
              "      <td>-0.287682</td>\n",
              "      <td>0.104898</td>\n",
              "      <td>-0.023928</td>\n",
              "      <td>-0.162328</td>\n",
              "      <td>0.054440</td>\n",
              "      <td>-0.010728</td>\n",
              "      <td>0.022159</td>\n",
              "      <td>0.084782</td>\n",
              "      <td>0.081186</td>\n",
              "      <td>0.133001</td>\n",
              "      <td>0.209859</td>\n",
              "      <td>0.202017</td>\n",
              "      <td>-0.068139</td>\n",
              "    </tr>\n",
              "    <tr>\n",
              "      <th>age</th>\n",
              "      <td>-0.007194</td>\n",
              "      <td>-0.007194</td>\n",
              "      <td>1.000000</td>\n",
              "      <td>-0.077405</td>\n",
              "      <td>-0.177646</td>\n",
              "      <td>0.119126</td>\n",
              "      <td>0.191655</td>\n",
              "      <td>0.310877</td>\n",
              "      <td>0.109599</td>\n",
              "      <td>0.303625</td>\n",
              "      <td>0.275020</td>\n",
              "      <td>0.168464</td>\n",
              "      <td>0.018845</td>\n",
              "      <td>-0.145734</td>\n",
              "      <td>0.052902</td>\n",
              "      <td>0.056687</td>\n",
              "    </tr>\n",
              "    <tr>\n",
              "      <th>education</th>\n",
              "      <td>-0.287682</td>\n",
              "      <td>-0.287682</td>\n",
              "      <td>-0.077405</td>\n",
              "      <td>1.000000</td>\n",
              "      <td>-0.026996</td>\n",
              "      <td>-0.127254</td>\n",
              "      <td>-0.089728</td>\n",
              "      <td>-0.131018</td>\n",
              "      <td>-0.204863</td>\n",
              "      <td>-0.207221</td>\n",
              "      <td>-0.211889</td>\n",
              "      <td>-0.190074</td>\n",
              "      <td>-0.232931</td>\n",
              "      <td>-0.094038</td>\n",
              "      <td>-0.119975</td>\n",
              "      <td>-0.064370</td>\n",
              "    </tr>\n",
              "    <tr>\n",
              "      <th>cigsPerDay</th>\n",
              "      <td>0.104898</td>\n",
              "      <td>0.104898</td>\n",
              "      <td>-0.177646</td>\n",
              "      <td>-0.026996</td>\n",
              "      <td>1.000000</td>\n",
              "      <td>-0.120967</td>\n",
              "      <td>0.111973</td>\n",
              "      <td>-0.013828</td>\n",
              "      <td>-0.053295</td>\n",
              "      <td>-0.196330</td>\n",
              "      <td>-0.090241</td>\n",
              "      <td>-0.048099</td>\n",
              "      <td>-0.196358</td>\n",
              "      <td>0.234695</td>\n",
              "      <td>0.006679</td>\n",
              "      <td>0.131303</td>\n",
              "    </tr>\n",
              "    <tr>\n",
              "      <th>BPMeds</th>\n",
              "      <td>-0.023928</td>\n",
              "      <td>-0.023928</td>\n",
              "      <td>0.119126</td>\n",
              "      <td>-0.127254</td>\n",
              "      <td>-0.120967</td>\n",
              "      <td>1.000000</td>\n",
              "      <td>-0.020515</td>\n",
              "      <td>0.272166</td>\n",
              "      <td>-0.046829</td>\n",
              "      <td>0.135082</td>\n",
              "      <td>0.326191</td>\n",
              "      <td>0.231909</td>\n",
              "      <td>0.035864</td>\n",
              "      <td>0.075381</td>\n",
              "      <td>-0.061773</td>\n",
              "      <td>-0.075378</td>\n",
              "    </tr>\n",
              "    <tr>\n",
              "      <th>prevalentStroke</th>\n",
              "      <td>-0.162328</td>\n",
              "      <td>-0.162328</td>\n",
              "      <td>0.191655</td>\n",
              "      <td>-0.089728</td>\n",
              "      <td>0.111973</td>\n",
              "      <td>-0.020515</td>\n",
              "      <td>1.000000</td>\n",
              "      <td>0.134005</td>\n",
              "      <td>-0.023057</td>\n",
              "      <td>-0.074308</td>\n",
              "      <td>0.125548</td>\n",
              "      <td>0.081340</td>\n",
              "      <td>NaN</td>\n",
              "      <td>0.000964</td>\n",
              "      <td>-0.050007</td>\n",
              "      <td>0.272166</td>\n",
              "    </tr>\n",
              "    <tr>\n",
              "      <th>prevalentHyp</th>\n",
              "      <td>0.054440</td>\n",
              "      <td>0.054440</td>\n",
              "      <td>0.310877</td>\n",
              "      <td>-0.131018</td>\n",
              "      <td>-0.013828</td>\n",
              "      <td>0.272166</td>\n",
              "      <td>0.134005</td>\n",
              "      <td>1.000000</td>\n",
              "      <td>0.019118</td>\n",
              "      <td>0.091622</td>\n",
              "      <td>0.784741</td>\n",
              "      <td>0.666128</td>\n",
              "      <td>0.398416</td>\n",
              "      <td>0.169057</td>\n",
              "      <td>0.140218</td>\n",
              "      <td>0.235925</td>\n",
              "    </tr>\n",
              "    <tr>\n",
              "      <th>diabetes</th>\n",
              "      <td>-0.010728</td>\n",
              "      <td>-0.010728</td>\n",
              "      <td>0.109599</td>\n",
              "      <td>-0.204863</td>\n",
              "      <td>-0.053295</td>\n",
              "      <td>-0.046829</td>\n",
              "      <td>-0.023057</td>\n",
              "      <td>0.019118</td>\n",
              "      <td>1.000000</td>\n",
              "      <td>0.150478</td>\n",
              "      <td>0.060518</td>\n",
              "      <td>0.154827</td>\n",
              "      <td>0.111286</td>\n",
              "      <td>0.103425</td>\n",
              "      <td>0.699574</td>\n",
              "      <td>-0.084717</td>\n",
              "    </tr>\n",
              "    <tr>\n",
              "      <th>totChol</th>\n",
              "      <td>0.022159</td>\n",
              "      <td>0.022159</td>\n",
              "      <td>0.303625</td>\n",
              "      <td>-0.207221</td>\n",
              "      <td>-0.196330</td>\n",
              "      <td>0.135082</td>\n",
              "      <td>-0.074308</td>\n",
              "      <td>0.091622</td>\n",
              "      <td>0.150478</td>\n",
              "      <td>1.000000</td>\n",
              "      <td>0.102522</td>\n",
              "      <td>0.138882</td>\n",
              "      <td>0.172414</td>\n",
              "      <td>-0.112624</td>\n",
              "      <td>0.149599</td>\n",
              "      <td>0.023073</td>\n",
              "    </tr>\n",
              "    <tr>\n",
              "      <th>sysBP</th>\n",
              "      <td>0.084782</td>\n",
              "      <td>0.084782</td>\n",
              "      <td>0.275020</td>\n",
              "      <td>-0.211889</td>\n",
              "      <td>-0.090241</td>\n",
              "      <td>0.326191</td>\n",
              "      <td>0.125548</td>\n",
              "      <td>0.784741</td>\n",
              "      <td>0.060518</td>\n",
              "      <td>0.102522</td>\n",
              "      <td>1.000000</td>\n",
              "      <td>0.797326</td>\n",
              "      <td>0.543559</td>\n",
              "      <td>0.197653</td>\n",
              "      <td>0.209817</td>\n",
              "      <td>0.225817</td>\n",
              "    </tr>\n",
              "    <tr>\n",
              "      <th>diaBP</th>\n",
              "      <td>0.081186</td>\n",
              "      <td>0.081186</td>\n",
              "      <td>0.168464</td>\n",
              "      <td>-0.190074</td>\n",
              "      <td>-0.048099</td>\n",
              "      <td>0.231909</td>\n",
              "      <td>0.081340</td>\n",
              "      <td>0.666128</td>\n",
              "      <td>0.154827</td>\n",
              "      <td>0.138882</td>\n",
              "      <td>0.797326</td>\n",
              "      <td>1.000000</td>\n",
              "      <td>0.639845</td>\n",
              "      <td>0.245009</td>\n",
              "      <td>0.302453</td>\n",
              "      <td>0.248294</td>\n",
              "    </tr>\n",
              "    <tr>\n",
              "      <th>BMI</th>\n",
              "      <td>0.133001</td>\n",
              "      <td>0.133001</td>\n",
              "      <td>0.018845</td>\n",
              "      <td>-0.232931</td>\n",
              "      <td>-0.196358</td>\n",
              "      <td>0.035864</td>\n",
              "      <td>NaN</td>\n",
              "      <td>0.398416</td>\n",
              "      <td>0.111286</td>\n",
              "      <td>0.172414</td>\n",
              "      <td>0.543559</td>\n",
              "      <td>0.639845</td>\n",
              "      <td>1.000000</td>\n",
              "      <td>0.060764</td>\n",
              "      <td>0.370710</td>\n",
              "      <td>0.068329</td>\n",
              "    </tr>\n",
              "    <tr>\n",
              "      <th>heartRate</th>\n",
              "      <td>0.209859</td>\n",
              "      <td>0.209859</td>\n",
              "      <td>-0.145734</td>\n",
              "      <td>-0.094038</td>\n",
              "      <td>0.234695</td>\n",
              "      <td>0.075381</td>\n",
              "      <td>0.000964</td>\n",
              "      <td>0.169057</td>\n",
              "      <td>0.103425</td>\n",
              "      <td>-0.112624</td>\n",
              "      <td>0.197653</td>\n",
              "      <td>0.245009</td>\n",
              "      <td>0.060764</td>\n",
              "      <td>1.000000</td>\n",
              "      <td>0.164199</td>\n",
              "      <td>0.100948</td>\n",
              "    </tr>\n",
              "    <tr>\n",
              "      <th>glucose</th>\n",
              "      <td>0.202017</td>\n",
              "      <td>0.202017</td>\n",
              "      <td>0.052902</td>\n",
              "      <td>-0.119975</td>\n",
              "      <td>0.006679</td>\n",
              "      <td>-0.061773</td>\n",
              "      <td>-0.050007</td>\n",
              "      <td>0.140218</td>\n",
              "      <td>0.699574</td>\n",
              "      <td>0.149599</td>\n",
              "      <td>0.209817</td>\n",
              "      <td>0.302453</td>\n",
              "      <td>0.370710</td>\n",
              "      <td>0.164199</td>\n",
              "      <td>1.000000</td>\n",
              "      <td>-0.137443</td>\n",
              "    </tr>\n",
              "    <tr>\n",
              "      <th>TenYearCHD</th>\n",
              "      <td>-0.068139</td>\n",
              "      <td>-0.068139</td>\n",
              "      <td>0.056687</td>\n",
              "      <td>-0.064370</td>\n",
              "      <td>0.131303</td>\n",
              "      <td>-0.075378</td>\n",
              "      <td>0.272166</td>\n",
              "      <td>0.235925</td>\n",
              "      <td>-0.084717</td>\n",
              "      <td>0.023073</td>\n",
              "      <td>0.225817</td>\n",
              "      <td>0.248294</td>\n",
              "      <td>0.068329</td>\n",
              "      <td>0.100948</td>\n",
              "      <td>-0.137443</td>\n",
              "      <td>1.000000</td>\n",
              "    </tr>\n",
              "  </tbody>\n",
              "</table>\n",
              "</div>\n",
              "      <button class=\"colab-df-convert\" onclick=\"convertToInteractive('df-bfd66b13-6938-41a2-b7d6-683ebe9e42a5')\"\n",
              "              title=\"Convert this dataframe to an interactive table.\"\n",
              "              style=\"display:none;\">\n",
              "        \n",
              "  <svg xmlns=\"http://www.w3.org/2000/svg\" height=\"24px\"viewBox=\"0 0 24 24\"\n",
              "       width=\"24px\">\n",
              "    <path d=\"M0 0h24v24H0V0z\" fill=\"none\"/>\n",
              "    <path d=\"M18.56 5.44l.94 2.06.94-2.06 2.06-.94-2.06-.94-.94-2.06-.94 2.06-2.06.94zm-11 1L8.5 8.5l.94-2.06 2.06-.94-2.06-.94L8.5 2.5l-.94 2.06-2.06.94zm10 10l.94 2.06.94-2.06 2.06-.94-2.06-.94-.94-2.06-.94 2.06-2.06.94z\"/><path d=\"M17.41 7.96l-1.37-1.37c-.4-.4-.92-.59-1.43-.59-.52 0-1.04.2-1.43.59L10.3 9.45l-7.72 7.72c-.78.78-.78 2.05 0 2.83L4 21.41c.39.39.9.59 1.41.59.51 0 1.02-.2 1.41-.59l7.78-7.78 2.81-2.81c.8-.78.8-2.07 0-2.86zM5.41 20L4 18.59l7.72-7.72 1.47 1.35L5.41 20z\"/>\n",
              "  </svg>\n",
              "      </button>\n",
              "      \n",
              "  <style>\n",
              "    .colab-df-container {\n",
              "      display:flex;\n",
              "      flex-wrap:wrap;\n",
              "      gap: 12px;\n",
              "    }\n",
              "\n",
              "    .colab-df-convert {\n",
              "      background-color: #E8F0FE;\n",
              "      border: none;\n",
              "      border-radius: 50%;\n",
              "      cursor: pointer;\n",
              "      display: none;\n",
              "      fill: #1967D2;\n",
              "      height: 32px;\n",
              "      padding: 0 0 0 0;\n",
              "      width: 32px;\n",
              "    }\n",
              "\n",
              "    .colab-df-convert:hover {\n",
              "      background-color: #E2EBFA;\n",
              "      box-shadow: 0px 1px 2px rgba(60, 64, 67, 0.3), 0px 1px 3px 1px rgba(60, 64, 67, 0.15);\n",
              "      fill: #174EA6;\n",
              "    }\n",
              "\n",
              "    [theme=dark] .colab-df-convert {\n",
              "      background-color: #3B4455;\n",
              "      fill: #D2E3FC;\n",
              "    }\n",
              "\n",
              "    [theme=dark] .colab-df-convert:hover {\n",
              "      background-color: #434B5C;\n",
              "      box-shadow: 0px 1px 3px 1px rgba(0, 0, 0, 0.15);\n",
              "      filter: drop-shadow(0px 1px 2px rgba(0, 0, 0, 0.3));\n",
              "      fill: #FFFFFF;\n",
              "    }\n",
              "  </style>\n",
              "\n",
              "      <script>\n",
              "        const buttonEl =\n",
              "          document.querySelector('#df-bfd66b13-6938-41a2-b7d6-683ebe9e42a5 button.colab-df-convert');\n",
              "        buttonEl.style.display =\n",
              "          google.colab.kernel.accessAllowed ? 'block' : 'none';\n",
              "\n",
              "        async function convertToInteractive(key) {\n",
              "          const element = document.querySelector('#df-bfd66b13-6938-41a2-b7d6-683ebe9e42a5');\n",
              "          const dataTable =\n",
              "            await google.colab.kernel.invokeFunction('convertToInteractive',\n",
              "                                                     [key], {});\n",
              "          if (!dataTable) return;\n",
              "\n",
              "          const docLinkHtml = 'Like what you see? Visit the ' +\n",
              "            '<a target=\"_blank\" href=https://colab.research.google.com/notebooks/data_table.ipynb>data table notebook</a>'\n",
              "            + ' to learn more about interactive tables.';\n",
              "          element.innerHTML = '';\n",
              "          dataTable['output_type'] = 'display_data';\n",
              "          await google.colab.output.renderOutput(dataTable, element);\n",
              "          const docLink = document.createElement('div');\n",
              "          docLink.innerHTML = docLinkHtml;\n",
              "          element.appendChild(docLink);\n",
              "        }\n",
              "      </script>\n",
              "    </div>\n",
              "  </div>\n",
              "  "
            ]
          },
          "metadata": {},
          "execution_count": 12
        }
      ]
    },
    {
      "cell_type": "code",
      "source": [
        "#heatmap of all the data frame this gives the correlation between the vatiables\n",
        "sns.heatmap(sample_one.corr())\n",
        "sns.heatmap(sample_one.corr()).set_title('Correlation Heatmap', fontdict={'fontsize':18}, pad=12)"
      ],
      "metadata": {
        "colab": {
          "base_uri": "https://localhost:8080/",
          "height": 378
        },
        "id": "VqgaxZ8dkDlu",
        "outputId": "bc9c2076-60f0-475d-9cba-ca1986517266"
      },
      "execution_count": null,
      "outputs": [
        {
          "output_type": "execute_result",
          "data": {
            "text/plain": [
              "Text(0.5, 1.0, 'Correlation Heatmap')"
            ]
          },
          "metadata": {},
          "execution_count": 13
        },
        {
          "output_type": "display_data",
          "data": {
            "text/plain": [
              "<Figure size 432x288 with 3 Axes>"
            ],
            "image/png": "[encoded data removed]"
          },
          "metadata": {
            "needs_background": "light"
          }
        }
      ]
    },
    {
      "cell_type": "markdown",
      "source": [
        "VARIABLE_1 NUMBER OF CIGARETTES PER DAY"
      ],
      "metadata": {
        "id": "wnNNTWCrdWGy"
      }
    },
    {
      "cell_type": "markdown",
      "source": [
        "QUESTION  1"
      ],
      "metadata": {
        "id": "oI0GUAaciXr_"
      }
    },
    {
      "cell_type": "markdown",
      "source": [
        "Variable decelaration:\n",
        "n = sample size\n",
        "p = population proportion\n",
        "q = 1-p complement of p\n",
        "p_cap = sample proportion\n",
        "z = test statistic"
      ],
      "metadata": {
        "id": "ctM39pePLc_Y"
      }
    },
    {
      "cell_type": "code",
      "source": [
        "n = len(sample_one)\n",
        "p = len(heart_dataset[(heart_dataset['cigsPerDay']>0)&(heart_dataset['TenYearCHD']==1)])/len(heart_dataset)\n",
        "p_cap = len(sample_one[(sample_one['cigsPerDay']>0)&(sample_one['TenYearCHD']==1)])/n\n",
        "q=1-p\n",
        "z=(p_cap-p)/math.sqrt(p*q/n) #test statistic"
      ],
      "metadata": {
        "id": "H19LwtJMKk-v"
      },
      "execution_count": null,
      "outputs": []
    },
    {
      "cell_type": "code",
      "source": [
        "print(\"sample size: \"+str(n))\n",
        "print(\"population proportion: \"+str(p))\n",
        "print(\"sample Proportion: \"+str(p_cap))\n",
        "print(\"Z Statistic: \"+str(z))"
      ],
      "metadata": {
        "colab": {
          "base_uri": "https://localhost:8080/"
        },
        "id": "ohofE9XJLg9t",
        "outputId": "7691dd54-7321-4979-e464-ed4522eeadae"
      },
      "execution_count": null,
      "outputs": [
        {
          "output_type": "stream",
          "name": "stdout",
          "text": [
            "sample size: 100\n",
            "population proportion: 0.0808259587020649\n",
            "sample Proportion: 0.07\n",
            "Z Statistic: -0.39718428635447234\n"
          ]
        }
      ]
    },
    {
      "cell_type": "code",
      "source": [
        "P=scipy.stats.norm.sf(z)  #P (Area)\n",
        "P"
      ],
      "metadata": {
        "colab": {
          "base_uri": "https://localhost:8080/"
        },
        "id": "gs3ZEri1QAFC",
        "outputId": "69d2dfd7-afd9-4b50-e24b-3827d8928907"
      },
      "execution_count": null,
      "outputs": [
        {
          "output_type": "execute_result",
          "data": {
            "text/plain": [
              "0.6543842155560287"
            ]
          },
          "metadata": {},
          "execution_count": 16
        }
      ]
    },
    {
      "cell_type": "markdown",
      "source": [
        "Confidence Interval calculation for 95% confidence interval\n",
        "\n"
      ],
      "metadata": {
        "id": "Ni8XvXe4XFs8"
      }
    },
    {
      "cell_type": "code",
      "source": [
        "Z_alpha_by_2 = 1.96\n",
        "E = Z_alpha_by_2*math.sqrt(p_cap*(1-p_cap)/n)\n",
        "(Lower_limit, Upper_limit) = (p_cap-E,p_cap+E)\n",
        "print(\"Lower limit: \"+str(p_cap-E)+\"\\nUpper limit: \"+str(p_cap+E))"
      ],
      "metadata": {
        "colab": {
          "base_uri": "https://localhost:8080/"
        },
        "id": "AcQ7gGKwXD1U",
        "outputId": "4465a37d-6094-453f-a946-7432776d7a1b"
      },
      "execution_count": null,
      "outputs": [
        {
          "output_type": "stream",
          "name": "stdout",
          "text": [
            "Lower limit: 0.019991184777081554\n",
            "Upper limit: 0.12000881522291845\n"
          ]
        }
      ]
    },
    {
      "cell_type": "markdown",
      "source": [
        "**`Variable`** declaration:\n",
        "x_bar = sample mean,\n",
        "Mu = population mean,\n",
        "s= sample standard deviation."
      ],
      "metadata": {
        "id": "jSvQjF4mUz-o"
      }
    },
    {
      "cell_type": "code",
      "source": [
        "Mu = heart_dataset[(heart_dataset['TenYearCHD']==1)]['cigsPerDay'].mean()\n",
        "x_bar = sample_one[(sample_one['TenYearCHD']==1)]['cigsPerDay'].mean()\n",
        "s = sample_one[(sample_one['TenYearCHD']==1)]['cigsPerDay'].std()\n",
        "t= (x_bar-Mu)/(s/math.sqrt(n))"
      ],
      "metadata": {
        "id": "PLmHV68CSWCw"
      },
      "execution_count": null,
      "outputs": []
    },
    {
      "cell_type": "code",
      "source": [
        "  print(\"Population mean: \"+str(Mu))\n",
        "  print(\"sample mean: \"+str(x_bar))\n",
        "  print(\"sample standard deviation: \"+str(s))\n",
        "  print(\"t statistic: \"+str(t))"
      ],
      "metadata": {
        "id": "w9i0fo6yUVgb",
        "colab": {
          "base_uri": "https://localhost:8080/"
        },
        "outputId": "aba318cb-7a0e-4a8b-dc3a-53f8843ecb16"
      },
      "execution_count": null,
      "outputs": [
        {
          "output_type": "stream",
          "name": "stdout",
          "text": [
            "Population mean: 10.947058823529412\n",
            "sample mean: 12.0\n",
            "sample standard deviation: 12.713629050604066\n",
            "t statistic: 0.8281987560590023\n"
          ]
        }
      ]
    },
    {
      "cell_type": "code",
      "source": [
        "t"
      ],
      "metadata": {
        "colab": {
          "base_uri": "https://localhost:8080/"
        },
        "id": "mjuk2FlLVNnM",
        "outputId": "4d03ecee-66e2-4959-ee40-0c2d593c2595"
      },
      "execution_count": null,
      "outputs": [
        {
          "output_type": "execute_result",
          "data": {
            "text/plain": [
              "0.8281987560590023"
            ]
          },
          "metadata": {},
          "execution_count": 20
        }
      ]
    },
    {
      "cell_type": "code",
      "source": [
        "P=scipy.stats.norm.sf(t)\n",
        "P"
      ],
      "metadata": {
        "colab": {
          "base_uri": "https://localhost:8080/"
        },
        "id": "OTv0Wao_Vt8u",
        "outputId": "d25e8061-aee0-4771-9772-14c51b5f8633"
      },
      "execution_count": null,
      "outputs": [
        {
          "output_type": "execute_result",
          "data": {
            "text/plain": [
              "0.20377897410167878"
            ]
          },
          "metadata": {},
          "execution_count": 21
        }
      ]
    },
    {
      "cell_type": "markdown",
      "source": [
        "*Finding* confidence interval for 95% confidence"
      ],
      "metadata": {
        "id": "rtL4SiqWaAG2"
      }
    },
    {
      "cell_type": "code",
      "source": [
        "t_alpha_by_2 = 1.66                     # According to t table\n",
        "E = t_alpha_by_2*(s/math.sqrt(n))\n",
        "(Lower_limit, Upper_limit) = (p_cap-E,p_cap+E)\n",
        "print(\"Lower limit: \"+str(x_bar-E)+\"\\nUpper limit: \"+str(x_bar+E))"
      ],
      "metadata": {
        "colab": {
          "base_uri": "https://localhost:8080/"
        },
        "id": "A5IL5S6EZ_SR",
        "outputId": "cb5c65dc-4dac-4cd3-b6ee-8afe579cc76c"
      },
      "execution_count": null,
      "outputs": [
        {
          "output_type": "stream",
          "name": "stdout",
          "text": [
            "Lower limit: 9.889537577599725\n",
            "Upper limit: 14.110462422400275\n"
          ]
        }
      ]
    },
    {
      "cell_type": "markdown",
      "source": [
        "VARIABLE_2 BMI"
      ],
      "metadata": {
        "id": "pC62SCCydRSu"
      }
    },
    {
      "cell_type": "code",
      "source": [
        "n = len(sample_one)\n",
        "print(\"sample size: \"+str(n))\n",
        "p = len(heart_dataset[(heart_dataset['BMI']>26.45)&(heart_dataset['TenYearCHD']==1)])/len(heart_dataset)\n",
        "p_cap = len(sample_one[(sample_one['BMI']>26.45)&(sample_one['TenYearCHD']==1)])/n\n",
        "q=1-p\n",
        "print(\"sample proportion: \"+str(p_cap))\n",
        "z=(p_cap-p)/math.sqrt(p*q/n) #test statistic\n",
        "print(\"Z statistic: \"+str(z))\n",
        "print(\"popualation proportion: \"+str(p))\n",
        "P=scipy.stats.norm.sf(z)\n",
        "print(\"Area: \"+str(P))\n",
        "Z_alpha_by_2 = 1.96\n",
        "E = Z_alpha_by_2*math.sqrt(p_cap*(1-p_cap)/n)\n",
        "(Lower_limit, Upper_limit) = (p_cap-E,p_cap+E)\n",
        "print(\"Lower limit: \"+str(p_cap-E)+\"\\nUpper limit: \"+str(p_cap+E))\n"
      ],
      "metadata": {
        "colab": {
          "base_uri": "https://localhost:8080/"
        },
        "id": "eciNeSlHdQGB",
        "outputId": "fcaaa367-a34b-4537-a298-e89d6f02ff2d"
      },
      "execution_count": null,
      "outputs": [
        {
          "output_type": "stream",
          "name": "stdout",
          "text": [
            "sample size: 100\n",
            "sample proportion: 0.07\n",
            "Z statistic: 0.09755467878819886\n",
            "popualation proportion: 0.06755162241887906\n",
            "Area: 0.46114295693030716\n",
            "Lower limit: 0.019991184777081554\n",
            "Upper limit: 0.12000881522291845\n"
          ]
        }
      ]
    },
    {
      "cell_type": "code",
      "source": [
        "p_cap"
      ],
      "metadata": {
        "colab": {
          "base_uri": "https://localhost:8080/"
        },
        "id": "BWKHj117f-Ss",
        "outputId": "fdb382c8-a8b6-4650-a5df-e8ef5cbe23a7"
      },
      "execution_count": null,
      "outputs": [
        {
          "output_type": "execute_result",
          "data": {
            "text/plain": [
              "0.07"
            ]
          },
          "metadata": {},
          "execution_count": 24
        }
      ]
    },
    {
      "cell_type": "code",
      "source": [
        "z=(p_cap-p)/math.sqrt(p*q/n) #test statistic\n",
        "z\n"
      ],
      "metadata": {
        "colab": {
          "base_uri": "https://localhost:8080/"
        },
        "id": "daj3UJRrhX3q",
        "outputId": "a9ca3d06-d841-41bf-fa4d-99c5d8593169"
      },
      "execution_count": null,
      "outputs": [
        {
          "output_type": "execute_result",
          "data": {
            "text/plain": [
              "0.09755467878819886"
            ]
          },
          "metadata": {},
          "execution_count": 25
        }
      ]
    },
    {
      "cell_type": "code",
      "source": [
        "P=scipy.stats.norm.sf(z)\n",
        "print(\"Area: \"+str(P))\n",
        "\n",
        "Z_alpha_by_2 = 1.96\n",
        "E = Z_alpha_by_2*math.sqrt(p_cap*(1-p_cap)/n)\n",
        "(Lower_limit, Upper_limit) = (p_cap-E,p_cap+E)\n",
        "print(\"Lower limit: \"+str(p_cap-E)+\"\\nUpper limit: \"+str(p_cap+E))"
      ],
      "metadata": {
        "colab": {
          "base_uri": "https://localhost:8080/"
        },
        "id": "4lEZRFSkhedd",
        "outputId": "2a8db6e6-665b-44ed-c61c-04cb9d41c01e"
      },
      "execution_count": null,
      "outputs": [
        {
          "output_type": "stream",
          "name": "stdout",
          "text": [
            "Area: 0.46114295693030716\n",
            "Lower limit: 0.019991184777081554\n",
            "Upper limit: 0.12000881522291845\n"
          ]
        }
      ]
    },
    {
      "cell_type": "markdown",
      "source": [
        "FOR MEAN"
      ],
      "metadata": {
        "id": "GB3WUIspjkh6"
      }
    },
    {
      "cell_type": "code",
      "source": [
        "Mu = heart_dataset[(heart_dataset['TenYearCHD']==1)]['BMI'].mean()\n",
        "x_bar = sample_one[(sample_one['TenYearCHD']==1)]['BMI'].mean()\n",
        "s = sample_one[(sample_one['TenYearCHD']==1)]['BMI'].std()"
      ],
      "metadata": {
        "id": "a6wDKqB8jm_r"
      },
      "execution_count": null,
      "outputs": []
    },
    {
      "cell_type": "code",
      "source": [
        "print(\"Population mean: \"+str(Mu))\n",
        "print(\"sample mean: \"+str(x_bar))\n",
        "print(\"Standard deviation: \"+str(s))\n",
        "t= (x_bar-Mu)/(s/math.sqrt(n))\n",
        "print(\"T statistic: \"+str(t))\n",
        "P=scipy.stats.norm.sf(t)\n",
        "print(\"Area: \"+str(P))\n",
        "t_alpha_by_2 = 1.66 # According to t table\n",
        "E = t_alpha_by_2*(s/math.sqrt(n))\n",
        "(Lower_limit, Upper_limit) = (p_cap-E,p_cap+E)\n",
        "print(\"Lower limit: \"+str(x_bar-E)+\"\\nUpper limit: \"+str(x_bar+E))"
      ],
      "metadata": {
        "colab": {
          "base_uri": "https://localhost:8080/"
        },
        "id": "L3IgtD4dj84l",
        "outputId": "8a900a0c-0eec-47e1-f8e1-4edc69440e7b"
      },
      "execution_count": null,
      "outputs": [
        {
          "output_type": "stream",
          "name": "stdout",
          "text": [
            "Population mean: 26.452559523809523\n",
            "sample mean: 26.58272727272727\n",
            "Standard deviation: 3.9076952053840914\n",
            "T statistic: 0.333106197070842\n",
            "Area: 0.3695270608418958\n",
            "Lower limit: 25.934049868633508\n",
            "Upper limit: 27.23140467682103\n"
          ]
        }
      ]
    },
    {
      "cell_type": "markdown",
      "source": [
        "TOTAL COLESTROL LEVELS"
      ],
      "metadata": {
        "id": "zlQa4ERumx2B"
      }
    },
    {
      "cell_type": "code",
      "source": [
        "n = len(sample_one)\n",
        "p = len(heart_dataset[(heart_dataset['totChol']>247)&(heart_dataset['TenYearCHD']==1)])/len(heart_dataset)\n",
        "p_cap = len(sample_one[(sample_one['totChol']>247)&(sample_one['TenYearCHD']==1)])/n\n",
        "q=1-p\n",
        "z=(p_cap-p)/math.sqrt(p*q/n) #test statistic\n",
        "P=scipy.stats.norm.sf(z)\n",
        "print(\"Population proportion: \"+str(p))\n",
        "print(\"sample proportion: \"+str(p_cap))\n",
        "print(\"Z statistic: \"+str(z))\n",
        "print(\"Area :\"+str(P))\n",
        "Z_alpha_by_2 = 1.96\n",
        "E = Z_alpha_by_2*math.sqrt(p_cap*(1-p_cap)/n)\n",
        "(Lower_limit, Upper_limit) = (p_cap-E,p_cap+E)\n",
        "print(\"Lower limit: \"+str(p_cap-E)+\"\\nUpper limit: \"+str(p_cap+E))\n"
      ],
      "metadata": {
        "colab": {
          "base_uri": "https://localhost:8080/"
        },
        "id": "fmATLkSOm0PX",
        "outputId": "c9cd72c0-fe6f-4270-f09e-e9cdd89cf229"
      },
      "execution_count": null,
      "outputs": [
        {
          "output_type": "stream",
          "name": "stdout",
          "text": [
            "Population proportion: 0.06843657817109144\n",
            "sample proportion: 0.05\n",
            "Z statistic: -0.7301800484747465\n",
            "Area :0.7673599318316837\n",
            "Lower limit: 0.007282790353301406\n",
            "Upper limit: 0.0927172096466986\n"
          ]
        }
      ]
    },
    {
      "cell_type": "markdown",
      "source": [
        "Confidence Interval"
      ],
      "metadata": {
        "id": "e1qLJdfRpLaf"
      }
    },
    {
      "cell_type": "code",
      "source": [
        "Mu = heart_dataset[(heart_dataset['TenYearCHD']==1)]['totChol'].mean()\n",
        "x_bar = sample_one[(sample_one['TenYearCHD']==1)]['totChol'].mean()\n",
        "s = sample_one[(sample_one['TenYearCHD']==1)]['totChol'].std()\n",
        "t= (x_bar-Mu)/(s/math.sqrt(n))\n",
        "P=scipy.stats.norm.sf(t)\n",
        "print(\"Population mean: \"+str(Mu))\n",
        "print(\"sample mean: \"+str(x_bar))\n",
        "print(\"t statistic: \"+str(t))\n",
        "print(\"Area: \"+str(P))\n",
        "t_alpha_by_2 = 1.66 # According to t table\n",
        "E = t_alpha_by_2*(s/math.sqrt(n))\n",
        "(Lower_limit, Upper_limit) = (p_cap-E,p_cap+E)\n",
        "print(\"Lower limit: \"+str(x_bar-E)+\"\\nUpper limit: \"+str(x_bar+E))"
      ],
      "metadata": {
        "colab": {
          "base_uri": "https://localhost:8080/"
        },
        "id": "DKDbwkTanElH",
        "outputId": "62be0123-1fae-4824-9cab-2899c433dd44"
      },
      "execution_count": null,
      "outputs": [
        {
          "output_type": "stream",
          "name": "stdout",
          "text": [
            "Population mean: 247.21626984126985\n",
            "sample mean: 246.33333333333334\n",
            "t statistic: -0.21757582737253442\n",
            "Area: 0.5861201898739329\n",
            "Lower limit: 239.5969480424018\n",
            "Upper limit: 253.06971862426488\n"
          ]
        }
      ]
    },
    {
      "cell_type": "markdown",
      "source": [
        "CONFIDENCE INTERVAL"
      ],
      "metadata": {
        "id": "WnKrbVrxpy_t"
      }
    },
    {
      "cell_type": "markdown",
      "source": [
        "VARIABLE SYS_BP"
      ],
      "metadata": {
        "id": "5CkpVvx5rfPi"
      }
    },
    {
      "cell_type": "code",
      "source": [
        "n = len(sample_one)\n",
        "print(\"sample size: \"+str(n))\n",
        "p = len(heart_dataset[(heart_dataset['sysBP']>143)&(heart_dataset['TenYearCHD']==1)])/len(heart_dataset)\n",
        "p_cap = len(sample_one[(sample_one['sysBP']>143)&(sample_one['TenYearCHD']==1)])/n\n",
        "q=1-p\n",
        "z=(p_cap-p)/math.sqrt(p*q/n) #test statistic\n",
        "P=scipy.stats.norm.sf(z)\n",
        "print(\"Population proportion: \"+str(p))\n",
        "print(\"sample proportion: \"+str(p_cap))\n",
        "print(\"Z statistic: \"+str(z))\n",
        "print(\"Area :\"+str(P))\n",
        "Z_alpha_by_2 = 1.96\n",
        "E = Z_alpha_by_2*math.sqrt(p_cap*(1-p_cap)/n)\n",
        "(Lower_limit, Upper_limit) = (p_cap-E,p_cap+E)\n",
        "print(\"Lower limit: \"+str(p_cap-E)+\"\\nUpper limit: \"+str(p_cap+E))"
      ],
      "metadata": {
        "colab": {
          "base_uri": "https://localhost:8080/"
        },
        "id": "VHkbDxOArhQm",
        "outputId": "26b4ba73-b3d8-41f6-838e-7e06bde67f01"
      },
      "execution_count": null,
      "outputs": [
        {
          "output_type": "stream",
          "name": "stdout",
          "text": [
            "sample size: 100\n",
            "Population proportion: 0.06696165191740414\n",
            "sample proportion: 0.06\n",
            "Z statistic: -0.27851556976796116\n",
            "Area :0.6096916926308373\n",
            "Lower limit: 0.013452579018811368\n",
            "Upper limit: 0.10654742098118863\n"
          ]
        }
      ]
    },
    {
      "cell_type": "code",
      "source": [
        "Mu = heart_dataset[(heart_dataset['TenYearCHD']==1)]['sysBP'].mean()\n",
        "x_bar = sample_one[(sample_one['TenYearCHD']==1)]['sysBP'].mean()\n",
        "s = sample_one[(sample_one['TenYearCHD']==1)]['sysBP'].std()\n",
        "t= (x_bar-Mu)/(s/math.sqrt(n))\n",
        "P=scipy.stats.norm.sf(t)\n",
        "print(\"Population mean: \"+str(Mu))\n",
        "print(\"sample mean: \"+str(x_bar))\n",
        "print(\"t statistic: \"+str(t))\n",
        "print(\"Area: \"+str(P))\n",
        "t_alpha_by_2 = 1.66 # According to t table\n",
        "E = t_alpha_by_2*(s/math.sqrt(n))\n",
        "(Lower_limit, Upper_limit) = (p_cap-E,p_cap+E)\n",
        "print(\"Lower limit: \"+str(x_bar-E)+\"\\nUpper limit: \"+str(x_bar+E))"
      ],
      "metadata": {
        "colab": {
          "base_uri": "https://localhost:8080/"
        },
        "id": "ZhLVGE6ZrmKo",
        "outputId": "56572b86-32c3-4b7b-8527-ec3ab4a67e8e"
      },
      "execution_count": null,
      "outputs": [
        {
          "output_type": "stream",
          "name": "stdout",
          "text": [
            "Population mean: 143.8542074363992\n",
            "sample mean: 148.375\n",
            "t statistic: 2.5369256781275316\n",
            "Area: 0.005591534644818699\n",
            "Lower limit: 145.41688588562977\n",
            "Upper limit: 151.33311411437023\n"
          ]
        }
      ]
    },
    {
      "cell_type": "markdown",
      "source": [
        "VARIABLE diaBP"
      ],
      "metadata": {
        "id": "janvobX8xHen"
      }
    },
    {
      "cell_type": "code",
      "source": [
        "n = len(sample_one)\n",
        "print(\"sample size: \"+str(n))\n",
        "p = len(heart_dataset[(heart_dataset['diaBP']>87)&(heart_dataset['TenYearCHD']==1)])/len(heart_dataset)\n",
        "p_cap = len(sample_one[(sample_one['diaBP']>87)&(sample_one['TenYearCHD']==1)])/n\n",
        "q=1-p\n",
        "z=(p_cap-p)/math.sqrt(p*q/n) #test statistic\n",
        "P=scipy.stats.norm.sf(z)\n",
        "print(\"Population proportion: \"+str(p))\n",
        "print(\"sample proportion: \"+str(p_cap))\n",
        "print(\"Z statistic: \"+str(z))\n",
        "print(\"Area :\"+str(P))\n",
        "Z_alpha_by_2 = 1.96\n",
        "E = Z_alpha_by_2*math.sqrt(p_cap*(1-p_cap)/n)\n",
        "(Lower_limit, Upper_limit) = (p_cap-E,p_cap+E)\n",
        "print(\"Lower limit: \"+str(p_cap-E)+\"\\nUpper limit: \"+str(p_cap+E))"
      ],
      "metadata": {
        "colab": {
          "base_uri": "https://localhost:8080/"
        },
        "id": "8rRPpaQNyyBh",
        "outputId": "ff6f0ca8-69a5-469f-f251-d0787ed131b2"
      },
      "execution_count": null,
      "outputs": [
        {
          "output_type": "stream",
          "name": "stdout",
          "text": [
            "sample size: 100\n",
            "Population proportion: 0.06696165191740414\n",
            "sample proportion: 0.08\n",
            "Z statistic: 0.5216266179552485\n",
            "Area :0.3009651632892585\n",
            "Lower limit: 0.0268265329322979\n",
            "Upper limit: 0.1331734670677021\n"
          ]
        }
      ]
    },
    {
      "cell_type": "code",
      "source": [
        "Mu = heart_dataset[(heart_dataset['TenYearCHD']==1)]['diaBP'].mean()\n",
        "x_bar = sample_one[(sample_one['TenYearCHD']==1)]['diaBP'].mean()\n",
        "s = sample_one[(sample_one['TenYearCHD']==1)]['diaBP'].std()\n",
        "t= (x_bar-Mu)/(s/math.sqrt(n))\n",
        "P=scipy.stats.norm.sf(t)\n",
        "print(\"Population mean: \"+str(Mu))\n",
        "print(\"sample mean: \"+str(x_bar))\n",
        "print(\"t statistic: \"+str(t))\n",
        "print(\"Area: \"+str(P))\n",
        "t_alpha_by_2 = 1.66 # According to t table\n",
        "E = t_alpha_by_2*(s/math.sqrt(n))\n",
        "(Lower_limit, Upper_limit) = (p_cap-E,p_cap+E)\n",
        "print(\"Lower limit: \"+str(x_bar-E)+\"\\nUpper limit: \"+str(x_bar+E))"
      ],
      "metadata": {
        "colab": {
          "base_uri": "https://localhost:8080/"
        },
        "id": "9KeGTMh8y5tj",
        "outputId": "6f1e4700-2b6f-492b-f4af-f90e5f046d2a"
      },
      "execution_count": null,
      "outputs": [
        {
          "output_type": "stream",
          "name": "stdout",
          "text": [
            "Population mean: 86.76320939334639\n",
            "sample mean: 92.16666666666667\n",
            "t statistic: 5.322618948266213\n",
            "Area: 5.114192912320246e-08\n",
            "Lower limit: 90.48145508926576\n",
            "Upper limit: 93.85187824406758\n"
          ]
        }
      ]
    },
    {
      "cell_type": "markdown",
      "source": [
        "VARIABLE 5 AGE\n"
      ],
      "metadata": {
        "id": "d8VbDmYJ0b5B"
      }
    },
    {
      "cell_type": "code",
      "source": [
        "n = len(sample_one)\n",
        "print(\"sample size: \"+str(n))\n",
        "p = len(heart_dataset[(heart_dataset['age']>54.12)&(heart_dataset['TenYearCHD']==1)])/len(heart_dataset)\n",
        "p_cap = len(sample_one[(sample_one['age']>54.12)&(sample_one['TenYearCHD']==1)])/n\n",
        "q=1-p\n",
        "z=(p_cap-p)/math.sqrt(p*q/n) #test statistic\n",
        "P=scipy.stats.norm.sf(z)\n",
        "print(\"Population proportion: \"+str(p))\n",
        "print(\"sample proportion: \"+str(p_cap))\n",
        "print(\"Z statistic: \"+str(z))\n",
        "print(\"Area :\"+str(P))\n",
        "Z_alpha_by_2 = 1.96\n",
        "E = Z_alpha_by_2*math.sqrt(p_cap*(1-p_cap)/n)\n",
        "(Lower_limit, Upper_limit) = (p_cap-E,p_cap+E)\n",
        "print(\"Lower limit: \"+str(p_cap-E)+\"\\nUpper limit: \"+str(p_cap+E))"
      ],
      "metadata": {
        "colab": {
          "base_uri": "https://localhost:8080/"
        },
        "id": "SorqlxCV0ao2",
        "outputId": "08aa08ec-c5a4-4b90-b18b-a49d99df646d"
      },
      "execution_count": null,
      "outputs": [
        {
          "output_type": "stream",
          "name": "stdout",
          "text": [
            "sample size: 100\n",
            "Population proportion: 0.07699115044247788\n",
            "sample proportion: 0.04\n",
            "Z statistic: -1.3876326222816988\n",
            "Area :0.9173755287578558\n",
            "Lower limit: 0.0015920008331597735\n",
            "Upper limit: 0.07840799916684023\n"
          ]
        }
      ]
    },
    {
      "cell_type": "code",
      "source": [
        "Mu = heart_dataset[(heart_dataset['TenYearCHD']==1)]['age'].mean()\n",
        "x_bar = sample_one[(sample_one['TenYearCHD']==1)]['age'].mean()\n",
        "s = sample_one[(sample_one['TenYearCHD']==1)]['age'].std()\n",
        "print(\"standard deviation: \"+str(s))\n",
        "t= (x_bar-Mu)/(s/math.sqrt(n))\n",
        "P=scipy.stats.norm.sf(t)\n",
        "print(\"Population mean: \"+str(Mu))\n",
        "print(\"sample mean: \"+str(x_bar))\n",
        "print(\"t statistic: \"+str(t))\n",
        "print(\"Area: \"+str(P))\n",
        "t_alpha_by_2 = 1.66 # According to t table\n",
        "E = t_alpha_by_2*(s/math.sqrt(n))\n",
        "(Lower_limit, Upper_limit) = (p_cap-E,p_cap+E)\n",
        "print(\"Lower limit: \"+str(x_bar-E)+\"\\nUpper limit: \"+str(x_bar+E))"
      ],
      "metadata": {
        "colab": {
          "base_uri": "https://localhost:8080/"
        },
        "id": "cUSYrZjo0jge",
        "outputId": "ef70c131-b1a3-4c50-ce6f-2d9900d98d89"
      },
      "execution_count": null,
      "outputs": [
        {
          "output_type": "stream",
          "name": "stdout",
          "text": [
            "standard deviation: 7.8058835618921565\n",
            "Population mean: 54.12915851272016\n",
            "sample mean: 49.75\n",
            "t statistic: -5.610074090906176\n",
            "Area: 0.9999999898879994\n",
            "Lower limit: 48.4542233287259\n",
            "Upper limit: 51.0457766712741\n"
          ]
        }
      ]
    },
    {
      "cell_type": "markdown",
      "source": [
        "QUESTION 2"
      ],
      "metadata": {
        "id": "g-fcOGwo2Wze"
      }
    },
    {
      "cell_type": "code",
      "source": [
        "sample_two = pd.read_csv('/content/gdrive/MyDrive/test.csv/sample2.csv')"
      ],
      "metadata": {
        "id": "c4LknUBs3ASp"
      },
      "execution_count": null,
      "outputs": []
    },
    {
      "cell_type": "markdown",
      "source": [
        "VARIABLE 1 NUMBER OF CIGARETTES"
      ],
      "metadata": {
        "id": "kmmyHoqi5wB0"
      }
    },
    {
      "cell_type": "code",
      "source": [
        "n1 = len(sample_one)\n",
        "n2 = len(sample_two)\n",
        "p1 = len(heart_dataset[(heart_dataset['cigsPerDay']>0)&(heart_dataset['TenYearCHD']==1)])/len(heart_dataset)\n",
        "x1 = len(sample_one[(sample_one['cigsPerDay']>0)&(sample_one['TenYearCHD']==1)])\n",
        "x2 = len(sample_two[(sample_two['cigsPerDay']>0)&(sample_two['TenYearCHD']==1)])\n",
        "p_cap1 = x1/n1\n",
        "p_cap2 = x2/n2\n",
        "p_bar = (x1 + x2)/(n1+n2)\n",
        "q_cap1 = 1-p_cap1\n",
        "q_cap2 = 1-p_cap2\n",
        "q_bar = 1-p_bar\n",
        "z = (p_cap1-p_cap2) / (math.sqrt(p_bar*q_bar/n1 + p_bar*q_bar/n2))\n",
        "P=(1-scipy.stats.norm.sf(z))*2   #since two tailed\n",
        "Z_alpha_by_2 = 1.96\n",
        "E = Z_alpha_by_2*math.sqrt(p_cap1*q_cap1/n1+p_cap2*q_cap2/n2)\n",
        "(Lower_limit,Upper_limit)=((p_cap1-p_cap2)-E,(p_cap1-p_cap2)+E)\n",
        "print(\"sample size 1: \"+str(n1))\n",
        "print(\"sample size 2: \"+str(n2))\n",
        "print(\"population proportion: \"+str(p1))\n",
        "print(\"sample proportion 1: \"+str(p_cap1))\n",
        "print(\"sample proportion 2: \"+str(p_cap2))\n",
        "print(\"X1: \"+str(x1))\n",
        "print(\"X2: \"+str(x2))\n",
        "print(\"q1: \"+str(q_cap1))\n",
        "print(\"q2: \"+str(q_cap2))\n",
        "print(\"p_bar: \"+str(p_bar))\n",
        "print(\"q_bar: \"+str(q_bar))\n",
        "print(\"Z statistic: \"+str(z))\n",
        "print(\"Area: \"+str(P))\n",
        "print(\"Lower Limit: \"+str(Lower_limit))\n",
        "print(\"upper Limit: \"+str(Upper_limit))"
      ],
      "metadata": {
        "colab": {
          "base_uri": "https://localhost:8080/"
        },
        "id": "0_dNROuEEF1r",
        "outputId": "c3a52b3c-87c0-4fc2-b330-8c90b445f7d9"
      },
      "execution_count": null,
      "outputs": [
        {
          "output_type": "stream",
          "name": "stdout",
          "text": [
            "sample size 1: 100\n",
            "sample size 2: 200\n",
            "population proportion: 0.0808259587020649\n",
            "sample proportion 1: 0.07\n",
            "sample proportion 2: 0.095\n",
            "X1: 7\n",
            "X2: 19\n",
            "q1: 0.9299999999999999\n",
            "q2: 0.905\n",
            "p_bar: 0.08666666666666667\n",
            "q_bar: 0.9133333333333333\n",
            "Z statistic: -0.7255271660836932\n",
            "Area: 0.46812868516898165\n",
            "Lower Limit: -0.08943826037378726\n",
            "upper Limit: 0.03943826037378727\n"
          ]
        }
      ]
    },
    {
      "cell_type": "code",
      "source": [
        "Mu = heart_dataset[(heart_dataset['TenYearCHD']==1)]['cigsPerDay'].mean()\n",
        "S=heart_dataset[(heart_dataset['TenYearCHD']==1)]['cigsPerDay'].std()\n",
        "x1 = sample_one[(sample_one['TenYearCHD']==1)]['cigsPerDay'].mean()\n",
        "s1 = sample_one[(sample_one['TenYearCHD']==1)]['cigsPerDay'].std()\n",
        "x2 = sample_two[(sample_two['TenYearCHD']==1)]['cigsPerDay'].mean()\n",
        "s2 = sample_two[(sample_two['TenYearCHD']==1)]['cigsPerDay'].std()\n",
        "n1=len(sample_one)\n",
        "n2=len(sample_two)\n",
        "t = (x1-x2)/math.sqrt(s1*s1/n1+s2*s2/n2)\n",
        "P=(scipy.stats.norm.sf(t))*2 #since two tailed\n",
        "t_alpha_by_2 = 1.984 # According to t table\n",
        "E = t_alpha_by_2*math.sqrt(s1*s1/n1+s2*s2/n2)\n",
        "Upper_limit = (x1-x2)+E\n",
        "Lower_limit = (x1-x2)-E\n",
        "\n",
        "print(\"Population mean: \"+str(Mu))\n",
        "print(\"Population standard deviation: \"+str(S))\n",
        "print(\"sample mean1: \"+str(x1))\n",
        "print(\"sample standard deviation1: \"+str(s1))\n",
        "print(\"sample mean2: \"+str(x2))\n",
        "print(\"sample standard deviation2: \"+str(s2))\n",
        "print(\"t statistic: \"+str(t))\n",
        "print(\"Area: \"+str(P))\n",
        "print(\"Lowerlimit: \"+str(Lower_limit))\n",
        "print(\"Upperlimit: \"+str(Upper_limit))\n",
        "print(\"Error: \"+str(E))"
      ],
      "metadata": {
        "colab": {
          "base_uri": "https://localhost:8080/"
        },
        "id": "pXb4EKPqGBGj",
        "outputId": "24ed06d4-d36a-4ecf-da4b-a88d5a2ce52a"
      },
      "execution_count": null,
      "outputs": [
        {
          "output_type": "stream",
          "name": "stdout",
          "text": [
            "Population mean: 10.947058823529412\n",
            "Population standard deviation: 13.079143296403222\n",
            "sample mean1: 12.0\n",
            "sample standard deviation1: 12.713629050604066\n",
            "sample mean2: 11.655172413793103\n",
            "sample standard deviation2: 14.82101756210938\n",
            "t statistic: 0.20928734319351128\n",
            "Area: 0.8342239316717058\n",
            "Lowerlimit: -2.924065413222675\n",
            "Upperlimit: 3.6137205856364685\n",
            "Error: 3.2688929994295717\n"
          ]
        }
      ]
    },
    {
      "cell_type": "markdown",
      "source": [
        "TOTAL CHOLESTROL"
      ],
      "metadata": {
        "id": "bW-_G74VwhlI"
      }
    },
    {
      "cell_type": "code",
      "source": [
        "n1 = len(sample_one)\n",
        "n2 = len(sample_two)\n",
        "p1 = len(heart_dataset[(heart_dataset['totChol']>242.2)&(heart_dataset['TenYearCHD']==1)])/len(heart_dataset)\n",
        "x1 = len(sample_one[(sample_one['totChol']>242.2)&(sample_one['TenYearCHD']==1)])\n",
        "x2 = len(sample_two[(sample_two['totChol']>242.2)&(sample_two['TenYearCHD']==1)])\n",
        "p_cap1 = x1/n1\n",
        "p_cap2 = x2/n2\n",
        "p_bar = (x1 + x2)/(n1+n2)\n",
        "q_cap1 = 1-p_cap1\n",
        "q_cap2 = 1-p_cap2\n",
        "q_bar = 1-p_bar\n",
        "z = (p_cap1-p_cap2) / (math.sqrt(p_bar*q_bar/n1 + p_bar*q_bar/n2))\n",
        "P=(scipy.stats.norm.sf(z))*2   #since two tailed\n",
        "Z_alpha_by_2 = 1.96\n",
        "E = Z_alpha_by_2*math.sqrt(p_cap1*q_cap1/n1+p_cap2*q_cap2/n2)\n",
        "(Lower_limit,Upper_limit)=((p_cap1-p_cap2)-E,(p_cap1-p_cap2)+E)\n",
        "print(\"sample size 1: \"+str(n1))\n",
        "print(\"sample size 2: \"+str(n2))\n",
        "print(\"population proportion: \"+str(p1))\n",
        "print(\"sample proportion 1: \"+str(p_cap1))\n",
        "print(\"sample proportion 2: \"+str(p_cap2))\n",
        "print(\"X1: \"+str(x1))\n",
        "print(\"X2: \"+str(x2))\n",
        "print(\"q1: \"+str(q_cap1))\n",
        "print(\"q2: \"+str(q_cap2))\n",
        "print(\"p_bar: \"+str(p_bar))\n",
        "print(\"q_bar: \"+str(q_bar))\n",
        "print(\"Z statistic: \"+str(z))\n",
        "print(\"Area: \"+str(P))\n",
        "print(\"Lower Limit: \"+str(Lower_limit))\n",
        "print(\"upper Limit: \"+str(Upper_limit))"
      ],
      "metadata": {
        "colab": {
          "base_uri": "https://localhost:8080/"
        },
        "id": "kYmTcwk-nFC8",
        "outputId": "b8828e96-6d24-4dc9-e320-f4e24b81f22b"
      },
      "execution_count": null,
      "outputs": [
        {
          "output_type": "stream",
          "name": "stdout",
          "text": [
            "sample size 1: 100\n",
            "sample size 2: 200\n",
            "population proportion: 0.07463126843657818\n",
            "sample proportion 1: 0.05\n",
            "sample proportion 2: 0.045\n",
            "X1: 5\n",
            "X2: 9\n",
            "q1: 0.95\n",
            "q2: 0.955\n",
            "p_bar: 0.04666666666666667\n",
            "q_bar: 0.9533333333333334\n",
            "Z statistic: 0.1935524152846911\n",
            "Area: 0.8465263605763338\n",
            "Lower Limit: -0.04648032439680232\n",
            "upper Limit: 0.056480324396802326\n"
          ]
        }
      ]
    },
    {
      "cell_type": "code",
      "source": [
        "Mu = heart_dataset[(heart_dataset['TenYearCHD']==1)]['totChol'].mean()\n",
        "S=heart_dataset[(heart_dataset['TenYearCHD']==1)]['totChol'].std()\n",
        "x1 = sample_one[(sample_one['TenYearCHD']==1)]['totChol'].mean()\n",
        "s1 = sample_one[(sample_one['TenYearCHD']==1)]['totChol'].std()\n",
        "x2 = sample_two[(sample_two['TenYearCHD']==1)]['totChol'].mean()\n",
        "s2 = sample_two[(sample_two['TenYearCHD']==1)]['totChol'].std()\n",
        "n1=len(sample_one)\n",
        "n2=len(sample_two)\n",
        "t = (x1-x2)/math.sqrt(s1*s1/n1+s2*s2/n2)\n",
        "P=(1-scipy.stats.norm.sf(t))*2 #since two tailed\n",
        "t_alpha_by_2 = 1.984 # According to t table\n",
        "E = t_alpha_by_2*math.sqrt(s1*s1/n1+s2*s2/n2)\n",
        "Upper_limit = (x1-x2)+E\n",
        "Lower_limit = (x1-x2)-E\n",
        "\n",
        "print(\"Population mean: \"+str(Mu))\n",
        "print(\"Population standard deviation: \"+str(S))\n",
        "print(\"sample mean1: \"+str(x1))\n",
        "print(\"sample standard deviation1: \"+str(s1))\n",
        "print(\"sample mean2: \"+str(x2))\n",
        "print(\"sample standard deviation2: \"+str(s2))\n",
        "print(\"t statistic: \"+str(t))\n",
        "print(\"Area: \"+str(P))\n",
        "print(\"Lowerlimit: \"+str(Lower_limit))\n",
        "print(\"Upperlimit: \"+str(Upper_limit))"
      ],
      "metadata": {
        "colab": {
          "base_uri": "https://localhost:8080/"
        },
        "id": "KsNU-KKunVxY",
        "outputId": "2bef0022-d6be-41cb-d57b-d2bf95a91d9a"
      },
      "execution_count": null,
      "outputs": [
        {
          "output_type": "stream",
          "name": "stdout",
          "text": [
            "Population mean: 247.21626984126985\n",
            "Population standard deviation: 49.471228391291675\n",
            "sample mean1: 246.33333333333334\n",
            "sample standard deviation1: 40.580634282720105\n",
            "sample mean2: 238.10714285714286\n",
            "sample standard deviation2: 43.78426851406986\n",
            "t statistic: 1.6116410138836537\n",
            "Area: 1.8929599196797158\n",
            "Lowerlimit: -1.9006068466407005\n",
            "Upperlimit: 18.352987799021662\n"
          ]
        }
      ]
    },
    {
      "cell_type": "markdown",
      "source": [
        "VARIABLE 2 BMI"
      ],
      "metadata": {
        "id": "-7_YwmyCKmHm"
      }
    },
    {
      "cell_type": "code",
      "source": [
        "n1 = len(sample_one)\n",
        "n2 = len(sample_two)\n",
        "p1 = len(heart_dataset[(heart_dataset['BMI']>25.97)&(heart_dataset['TenYearCHD']==1)])/len(heart_dataset)\n",
        "x1 = len(sample_one[(sample_one['BMI']>25.97)&(sample_one['TenYearCHD']==1)])\n",
        "x2 = len(sample_two[(sample_two['BMI']>25.97)&(sample_two['TenYearCHD']==1)])\n",
        "p_cap1 = x1/n1\n",
        "p_cap2 = x2/n2\n",
        "p_bar = (x1 + x2)/(n1+n2)\n",
        "q_cap1 = 1-p_cap1\n",
        "q_cap2 = 1-p_cap2\n",
        "q_bar = 1-p_bar\n",
        "z = (p_cap1-p_cap2) /(math.sqrt(p_bar*q_bar/n1 + p_bar*q_bar/n2))\n",
        "P=(scipy.stats.norm.sf(z))*2   #since two tailed\n",
        "Z_alpha_by_2 = 1.96\n",
        "E = Z_alpha_by_2*math.sqrt(p_cap1*q_cap1/n1+p_cap2*q_cap2/n2)\n",
        "(Lower_limit,Upper_limit)=((p_cap1-p_cap2)-E,(p_cap1-p_cap2)+E)\n",
        "print(\"sample size 1: \"+str(n1))\n",
        "print(\"sample size 2: \"+str(n2))\n",
        "print(\"population proportion: \"+str(p1))\n",
        "print(\"sample proportion 1: \"+str(p_cap1))\n",
        "print(\"sample proportion 2: \"+str(p_cap2))\n",
        "print(\"X1: \"+str(x1))\n",
        "print(\"X2: \"+str(x2))\n",
        "print(\"q1: \"+str(q_cap1))\n",
        "print(\"q2: \"+str(q_cap2))\n",
        "print(\"p_bar: \"+str(p_bar))\n",
        "print(\"q_bar: \"+str(q_bar))\n",
        "print(\"Z statistic: \"+str(z))\n",
        "print(\"Area: \"+str(P))\n",
        "print(\"Lower Limit: \"+str(Lower_limit))\n",
        "print(\"upper Limit: \"+str(Upper_limit))"
      ],
      "metadata": {
        "colab": {
          "base_uri": "https://localhost:8080/"
        },
        "id": "KMDvNHldKpEE",
        "outputId": "c30febd1-a3db-4dfa-ac6f-37d43c623926"
      },
      "execution_count": null,
      "outputs": [
        {
          "output_type": "stream",
          "name": "stdout",
          "text": [
            "sample size 1: 100\n",
            "sample size 2: 200\n",
            "population proportion: 0.07640117994100296\n",
            "sample proportion 1: 0.07\n",
            "sample proportion 2: 0.05\n",
            "X1: 7\n",
            "X2: 10\n",
            "q1: 0.9299999999999999\n",
            "q2: 0.95\n",
            "p_bar: 0.056666666666666664\n",
            "q_bar: 0.9433333333333334\n",
            "Z statistic: 0.7062979445891563\n",
            "Area: 0.48000287138551245\n",
            "Lower Limit: -0.03842312555829241\n",
            "upper Limit: 0.07842312555829242\n"
          ]
        }
      ]
    },
    {
      "cell_type": "code",
      "source": [
        "Mu = heart_dataset[(heart_dataset['TenYearCHD']==1)]['BMI'].mean()\n",
        "S=heart_dataset[(heart_dataset['TenYearCHD']==1)]['BMI'].std()\n",
        "x1 = sample_one[(sample_one['TenYearCHD']==1)]['BMI'].mean()\n",
        "s1 = sample_one[(sample_one['TenYearCHD']==1)]['BMI'].std()\n",
        "x2 = sample_two[(sample_two['TenYearCHD']==1)]['BMI'].mean()\n",
        "s2 = sample_two[(sample_two['TenYearCHD']==1)]['BMI'].std()\n",
        "n1=len(sample_one)\n",
        "n2=len(sample_two)\n",
        "t = (x1-x2)/math.sqrt(s1*s1/n1+s2*s2/n2)\n",
        "t_alpha_by_2 = 1.984 # According to t table\n",
        "E = t_alpha_by_2*math.sqrt(s1*s1/n1+s2*s2/n2)\n",
        "Upper_limit = (x1-x2)+E\n",
        "Lower_limit = (x1-x2)-E\n",
        "P=(scipy.stats.norm.sf(t))*2 #since two tailed\n",
        "print(\"Population mean: \"+str(Mu))\n",
        "print(\"Population standard deviation: \"+str(S))\n",
        "print(\"sample mean1: \"+str(x1))\n",
        "print(\"sample standard deviation1: \"+str(s1))\n",
        "print(\"sample mean2: \"+str(x2))\n",
        "print(\"sample standard deviation2: \"+str(s2))\n",
        "print(\"t statistic: \"+str(t))\n",
        "print(\"Area: \"+str(P))\n",
        "print(\"Lowerlimit: \"+str(Lower_limit))\n",
        "print(\"Upperlimit: \"+str(Upper_limit))"
      ],
      "metadata": {
        "colab": {
          "base_uri": "https://localhost:8080/"
        },
        "id": "3VMF7e2LK1NU",
        "outputId": "7ed46621-269b-4c9d-c7fe-1d9f31fa36c2"
      },
      "execution_count": null,
      "outputs": [
        {
          "output_type": "stream",
          "name": "stdout",
          "text": [
            "Population mean: 26.452559523809523\n",
            "Population standard deviation: 4.590604719022398\n",
            "sample mean1: 26.58272727272727\n",
            "sample standard deviation1: 3.9076952053840914\n",
            "sample mean2: 25.36285714285714\n",
            "sample standard deviation2: 4.889467029307778\n",
            "t statistic: 2.3379833395216427\n",
            "Area: 0.01938811242749164\n",
            "Lowerlimit: 0.1846949441660597\n",
            "Upperlimit: 2.255045315574195\n"
          ]
        }
      ]
    },
    {
      "cell_type": "markdown",
      "source": [
        "VARIABLE 3 SYSBP"
      ],
      "metadata": {
        "id": "nEA5CP0AtFpK"
      }
    },
    {
      "cell_type": "code",
      "source": [
        "n1 = len(sample_one)\n",
        "n2 = len(sample_two)\n",
        "p1 = len(heart_dataset[(heart_dataset['sysBP']>143.13)&(heart_dataset['TenYearCHD']==1)])/len(heart_dataset)\n",
        "x1 = len(sample_one[(sample_one['sysBP']>143.13)&(sample_one['TenYearCHD']==1)])\n",
        "x2 = len(sample_two[(sample_two['sysBP']>143.13)&(sample_two['TenYearCHD']==1)])\n",
        "p_cap1 = x1/n1\n",
        "p_cap2 = x2/n2\n",
        "p_bar = (x1 + x2)/(n1+n2)\n",
        "q_cap1 = 1-p_cap1\n",
        "q_cap2 = 1-p_cap2\n",
        "q_bar = 1-p_bar\n",
        "z = (p_cap1-p_cap2) /(math.sqrt(p_bar*q_bar/n1 + p_bar*q_bar/n2))\n",
        "P=(scipy.stats.norm.sf(z))*2   #since two tailed\n",
        "Z_alpha_by_2 = 1.96\n",
        "E = Z_alpha_by_2*math.sqrt(p_cap1*q_cap1/n1+p_cap2*q_cap2/n2)\n",
        "(Lower_limit,Upper_limit)=((p_cap1-p_cap2)-E,(p_cap1-p_cap2)+E)\n",
        "print(\"sample size 1: \"+str(n1))\n",
        "print(\"sample size 2: \"+str(n2))\n",
        "print(\"population proportion: \"+str(p1))\n",
        "print(\"sample proportion 1: \"+str(p_cap1))\n",
        "print(\"sample proportion 2: \"+str(p_cap2))\n",
        "print(\"X1: \"+str(x1))\n",
        "print(\"X2: \"+str(x2))\n",
        "print(\"q1: \"+str(q_cap1))\n",
        "print(\"q2: \"+str(q_cap2))\n",
        "print(\"p_bar: \"+str(p_bar))\n",
        "print(\"q_bar: \"+str(q_bar))\n",
        "print(\"Z statistic: \"+str(z))\n",
        "print(\"Area: \"+str(P))\n",
        "print(\"Lower Limit: \"+str(Lower_limit))\n",
        "print(\"upper Limit: \"+str(Upper_limit))"
      ],
      "metadata": {
        "colab": {
          "base_uri": "https://localhost:8080/"
        },
        "id": "6lnVio0htER4",
        "outputId": "c757bd76-68fa-4503-8bda-819fe6714331"
      },
      "execution_count": null,
      "outputs": [
        {
          "output_type": "stream",
          "name": "stdout",
          "text": [
            "sample size 1: 100\n",
            "sample size 2: 200\n",
            "population proportion: 0.06696165191740414\n",
            "sample proportion 1: 0.06\n",
            "sample proportion 2: 0.055\n",
            "X1: 6\n",
            "X2: 11\n",
            "q1: 0.94\n",
            "q2: 0.945\n",
            "p_bar: 0.056666666666666664\n",
            "q_bar: 0.9433333333333334\n",
            "Z statistic: 0.17657448614728896\n",
            "Area: 0.8598426362568342\n",
            "Lower Limit: -0.05125831671850838\n",
            "upper Limit: 0.06125831671850838\n"
          ]
        }
      ]
    },
    {
      "cell_type": "code",
      "source": [
        "Mu = heart_dataset[(heart_dataset['TenYearCHD']==1)]['sysBP'].mean()\n",
        "S=heart_dataset[(heart_dataset['TenYearCHD']==1)]['sysBP'].std()\n",
        "x1 = sample_one[(sample_one['TenYearCHD']==1)]['sysBP'].mean()\n",
        "s1 = sample_one[(sample_one['TenYearCHD']==1)]['sysBP'].std()\n",
        "x2 = sample_two[(sample_two['TenYearCHD']==1)]['sysBP'].mean()\n",
        "s2 = sample_two[(sample_two['TenYearCHD']==1)]['sysBP'].std()\n",
        "n1=len(sample_one)\n",
        "n2=len(sample_two)\n",
        "t = (x1-x2)/math.sqrt(s1*s1/n1+s2*s2/n2)\n",
        "t_alpha_by_2 = 1.984 # According to t table\n",
        "E = t_alpha_by_2*math.sqrt(s1*s1/n1+s2*s2/n2)\n",
        "Upper_limit = (x1-x2)+E\n",
        "Lower_limit = (x1-x2)-E\n",
        "P=(scipy.stats.norm.sf(t))*2 #since two tailed\n",
        "print(\"Population mean: \"+str(Mu))\n",
        "print(\"Population standard deviation: \"+str(S))\n",
        "print(\"sample mean1: \"+str(x1))\n",
        "print(\"sample standard deviation1: \"+str(s1))\n",
        "print(\"sample mean2: \"+str(x2))\n",
        "print(\"sample standard deviation2: \"+str(s2))\n",
        "print(\"t statistic: \"+str(t))\n",
        "print(\"Area: \"+str(P))\n",
        "print(\"Lowerlimit: \"+str(Lower_limit))\n",
        "print(\"Upperlimit: \"+str(Upper_limit))"
      ],
      "metadata": {
        "colab": {
          "base_uri": "https://localhost:8080/"
        },
        "id": "H7JoS5-rtM5j",
        "outputId": "3ed07658-d449-48aa-cbc3-93198ae26e77"
      },
      "execution_count": null,
      "outputs": [
        {
          "output_type": "stream",
          "name": "stdout",
          "text": [
            "Population mean: 143.8542074363992\n",
            "Population standard deviation: 27.061219211335334\n",
            "sample mean1: 148.375\n",
            "sample standard deviation1: 17.81996454439897\n",
            "sample mean2: 137.89655172413794\n",
            "sample standard deviation2: 26.17297519469026\n",
            "t statistic: 4.078534411532575\n",
            "Area: 4.53204950251772e-05\n",
            "Lowerlimit: 5.381214985264806\n",
            "Upperlimit: 15.575681566459323\n"
          ]
        }
      ]
    },
    {
      "cell_type": "markdown",
      "source": [
        "VARIABLE 4 DIABP"
      ],
      "metadata": {
        "id": "LcFoABhrtNaY"
      }
    },
    {
      "cell_type": "code",
      "source": [
        "n1 = len(sample_one)\n",
        "n2 = len(sample_two)\n",
        "p1 = len(heart_dataset[(heart_dataset['diaBP']>88.7)&(heart_dataset['TenYearCHD']==1)])/len(heart_dataset)\n",
        "x1 = len(sample_one[(sample_one['diaBP']>88.7)&(sample_one['TenYearCHD']==1)])\n",
        "x2 = len(sample_two[(sample_two['diaBP']>88.7)&(sample_two['TenYearCHD']==1)])\n",
        "p_cap1 = x1/n1\n",
        "p_cap2 = x2/n2\n",
        "p_bar = (x1 + x2)/(n1+n2)\n",
        "q_cap1 = 1-p_cap1\n",
        "q_cap2 = 1-p_cap2\n",
        "q_bar = 1-p_bar\n",
        "z = (p_cap1-p_cap2) /(math.sqrt(p_bar*q_bar/n1 + p_bar*q_bar/n2))\n",
        "P=(scipy.stats.norm.sf(z))*2   #since two tailed\n",
        "Z_alpha_by_2 = 1.96\n",
        "E = Z_alpha_by_2*math.sqrt(p_cap1*q_cap1/n1+p_cap2*q_cap2/n2)\n",
        "(Lower_limit,Upper_limit)=((p_cap1-p_cap2)-E,(p_cap1-p_cap2)+E)\n",
        "print(\"sample size 1: \"+str(n1))\n",
        "print(\"sample size 2: \"+str(n2))\n",
        "print(\"population proportion: \"+str(p1))\n",
        "print(\"sample proportion 1: \"+str(p_cap1))\n",
        "print(\"sample proportion 2: \"+str(p_cap2))\n",
        "print(\"X1: \"+str(x1))\n",
        "print(\"X2: \"+str(x2))\n",
        "print(\"q1: \"+str(q_cap1))\n",
        "print(\"q2: \"+str(q_cap2))\n",
        "print(\"p_bar: \"+str(p_bar))\n",
        "print(\"q_bar: \"+str(q_bar))\n",
        "print(\"Z statistic: \"+str(z))\n",
        "print(\"Area: \"+str(P))\n",
        "print(\"Lower Limit: \"+str(Lower_limit))\n",
        "print(\"upper Limit: \"+str(Upper_limit))"
      ],
      "metadata": {
        "colab": {
          "base_uri": "https://localhost:8080/"
        },
        "id": "JI4In05FxHyO",
        "outputId": "657e75ba-50eb-486d-af2d-7c8122dc8f29"
      },
      "execution_count": null,
      "outputs": [
        {
          "output_type": "stream",
          "name": "stdout",
          "text": [
            "sample size 1: 100\n",
            "sample size 2: 200\n",
            "population proportion: 0.06165191740412979\n",
            "sample proportion 1: 0.07\n",
            "sample proportion 2: 0.04\n",
            "X1: 7\n",
            "X2: 8\n",
            "q1: 0.9299999999999999\n",
            "q2: 0.96\n",
            "p_bar: 0.05\n",
            "q_bar: 0.95\n",
            "Z statistic: 1.1239029738980328\n",
            "Area: 0.2610541895796574\n",
            "Lower Limit: -0.026907546072555258\n",
            "upper Limit: 0.08690754607255527\n"
          ]
        }
      ]
    },
    {
      "cell_type": "code",
      "source": [
        "Mu = heart_dataset[(heart_dataset['TenYearCHD']==1)]['diaBP'].mean()\n",
        "S=heart_dataset[(heart_dataset['TenYearCHD']==1)]['diaBP'].std()\n",
        "x1 = sample_one[(sample_one['TenYearCHD']==1)]['diaBP'].mean()\n",
        "s1 = sample_one[(sample_one['TenYearCHD']==1)]['diaBP'].std()\n",
        "x2 = sample_two[(sample_two['TenYearCHD']==1)]['diaBP'].mean()\n",
        "s2 = sample_two[(sample_two['TenYearCHD']==1)]['diaBP'].std()\n",
        "n1=len(sample_one)\n",
        "n2=len(sample_two)\n",
        "t = (x1-x2)/math.sqrt(s1*s1/n1+s2*s2/n2)\n",
        "t_alpha_by_2 = 1.984 # According to t table\n",
        "E = t_alpha_by_2*math.sqrt(s1*s1/n1+s2*s2/n2)\n",
        "Upper_limit = (x1-x2)+E\n",
        "Lower_limit = (x1-x2)-E\n",
        "P=(scipy.stats.norm.sf(t))*2 #since two tailed\n",
        "print(\"Population mean: \"+str(Mu))\n",
        "print(\"Population standard deviation: \"+str(S))\n",
        "print(\"sample mean1: \"+str(x1))\n",
        "print(\"sample standard deviation1: \"+str(s1))\n",
        "print(\"sample mean2: \"+str(x2))\n",
        "print(\"sample standard deviation2: \"+str(s2))\n",
        "print(\"t statistic: \"+str(t))\n",
        "print(\"Area: \"+str(P))\n",
        "print(\"Lowerlimit: \"+str(Lower_limit))\n",
        "print(\"Upperlimit: \"+str(Upper_limit))"
      ],
      "metadata": {
        "colab": {
          "base_uri": "https://localhost:8080/"
        },
        "id": "2tVDi_0rxMW4",
        "outputId": "da298d94-4471-4303-c7e9-cce69ebe9d0f"
      },
      "execution_count": null,
      "outputs": [
        {
          "output_type": "stream",
          "name": "stdout",
          "text": [
            "Population mean: 86.76320939334639\n",
            "Population standard deviation: 14.043025506131945\n",
            "sample mean1: 92.16666666666667\n",
            "sample standard deviation1: 10.151876972294634\n",
            "sample mean2: 85.24137931034483\n",
            "sample standard deviation2: 12.182848518698599\n",
            "t statistic: 5.2013769965431615\n",
            "Area: 1.9781737466654646e-07\n",
            "Lowerlimit: 4.283723377384344\n",
            "Upperlimit: 9.566851335259347\n"
          ]
        }
      ]
    },
    {
      "cell_type": "markdown",
      "source": [
        "AGE"
      ],
      "metadata": {
        "id": "khTUMWrxzNfq"
      }
    },
    {
      "cell_type": "code",
      "source": [
        "n1 = len(sample_one)\n",
        "n2 = len(sample_two)\n",
        "p1 = len(heart_dataset[(heart_dataset['age']>50)&(heart_dataset['TenYearCHD']==1)])/len(heart_dataset)\n",
        "x1 = len(sample_one[(sample_one['age']>50)&(sample_one['TenYearCHD']==1)])\n",
        "x2 = len(sample_two[(sample_two['age']>50)&(sample_two['TenYearCHD']==1)])\n",
        "p_cap1 = x1/n1\n",
        "p_cap2 = x2/n2\n",
        "p_bar = (x1 + x2)/(n1+n2)\n",
        "q_cap1 = 1-p_cap1\n",
        "q_cap2 = 1-p_cap2\n",
        "q_bar = 1-p_bar\n",
        "z = (p_cap1-p_cap2) /(math.sqrt(p_bar*q_bar/n1 + p_bar*q_bar/n2))\n",
        "P=(1-scipy.stats.norm.sf(z))*2   #since two tailed\n",
        "Z_alpha_by_2 = 1.96\n",
        "E = Z_alpha_by_2*math.sqrt(p_cap1*q_cap1/n1+p_cap2*q_cap2/n2)\n",
        "(Lower_limit,Upper_limit)=((p_cap1-p_cap2)-E,(p_cap1-p_cap2)+E)\n",
        "print(\"sample size 1: \"+str(n1))\n",
        "print(\"sample size 2: \"+str(n2))\n",
        "print(\"population proportion: \"+str(p1))\n",
        "print(\"sample proportion 1: \"+str(p_cap1))\n",
        "print(\"sample proportion 2: \"+str(p_cap2))\n",
        "print(\"X1: \"+str(x1))\n",
        "print(\"X2: \"+str(x2))\n",
        "print(\"q1: \"+str(q_cap1))\n",
        "print(\"q2: \"+str(q_cap2))\n",
        "print(\"p_bar: \"+str(p_bar))\n",
        "print(\"q_bar: \"+str(q_bar))\n",
        "print(\"Z statistic: \"+str(z))\n",
        "print(\"Area: \"+str(P))\n",
        "print(\"Lower Limit: \"+str(Lower_limit))\n",
        "print(\"upper Limit: \"+str(Upper_limit))"
      ],
      "metadata": {
        "colab": {
          "base_uri": "https://localhost:8080/"
        },
        "id": "9TcjC0S9zPEl",
        "outputId": "d4b8e2b7-15f6-42d1-8c13-87a8fbcfb1ea"
      },
      "execution_count": null,
      "outputs": [
        {
          "output_type": "stream",
          "name": "stdout",
          "text": [
            "sample size 1: 100\n",
            "sample size 2: 200\n",
            "population proportion: 0.10088495575221239\n",
            "sample proportion 1: 0.07\n",
            "sample proportion 2: 0.085\n",
            "X1: 7\n",
            "X2: 17\n",
            "q1: 0.9299999999999999\n",
            "q2: 0.915\n",
            "p_bar: 0.08\n",
            "q_bar: 0.92\n",
            "Z statistic: -0.4514469490716345\n",
            "Area: 0.6516674522284063\n",
            "Lower Limit: -0.07820430206876744\n",
            "upper Limit: 0.04820430206876744\n"
          ]
        }
      ]
    },
    {
      "cell_type": "code",
      "source": [
        "Mu = heart_dataset[(heart_dataset['TenYearCHD']==1)][ 'age'].mean()\n",
        "S=heart_dataset[(heart_dataset['TenYearCHD']==1)][ 'age'].std()\n",
        "x1 = sample_one[(sample_one['TenYearCHD']==1)][ 'age'].mean()\n",
        "s1 = sample_one[(sample_one['TenYearCHD']==1)][ 'age'].std()\n",
        "x2 = sample_two[(sample_two['TenYearCHD']==1)][ 'age'].mean()\n",
        "s2 = sample_two[(sample_two['TenYearCHD']==1)][ 'age'].std()\n",
        "n1=len(sample_one)\n",
        "n2=len(sample_two)\n",
        "t = (x1-x2)/math.sqrt(s1*s1/n1+s2*s2/n2)\n",
        "t_alpha_by_2 = 1.984                                # According to t table\n",
        "E = t_alpha_by_2*math.sqrt(s1*s1/n1+s2*s2/n2)\n",
        "Upper_limit = (x1-x2)+E\n",
        "Lower_limit = (x1-x2)-E\n",
        "P=(1-scipy.stats.norm.sf(t))*2                      #since two tailed\n",
        "print(\"Population mean: \"+str(Mu))\n",
        "print(\"Population standard deviation: \"+str(S))\n",
        "print(\"sample mean1: \"+str(x1))\n",
        "print(\"sample standard deviation1: \"+str(s1))\n",
        "print(\"sample mean2: \"+str(x2))\n",
        "print(\"sample standard deviation2: \"+str(s2))\n",
        "print(\"t statistic: \"+str(t))\n",
        "print(\"Area: \"+str(P))\n",
        "print(\"Lowerlimit: \"+str(Lower_limit))\n",
        "print(\"Upperlimit: \"+str(Upper_limit))"
      ],
      "metadata": {
        "colab": {
          "base_uri": "https://localhost:8080/"
        },
        "id": "vY0p9SSKzP70",
        "outputId": "56c4c6c3-bc1c-48b6-b143-f5d837b5e08f"
      },
      "execution_count": null,
      "outputs": [
        {
          "output_type": "stream",
          "name": "stdout",
          "text": [
            "Population mean: 54.12915851272016\n",
            "Population standard deviation: 8.12566444199144\n",
            "sample mean1: 49.75\n",
            "sample standard deviation1: 7.8058835618921565\n",
            "sample mean2: 52.93103448275862\n",
            "sample standard deviation2: 7.482985626848793\n",
            "t statistic: -3.3732288451910795\n",
            "Area: 0.0007429217915539965\n",
            "Lowerlimit: -5.051993348413522\n",
            "Upperlimit: -1.310075617103716\n"
          ]
        }
      ]
    },
    {
      "cell_type": "markdown",
      "source": [
        "QUESTION 3"
      ],
      "metadata": {
        "id": "uX3Ep7Gc-YSg"
      }
    },
    {
      "cell_type": "markdown",
      "source": [
        "CORRELATION BETWEEN VARIABLES independent variables and Heart Rate\n",
        "\n",
        "\n",
        "\n"
      ],
      "metadata": {
        "id": "qiBj3RCg6MCk"
      }
    },
    {
      "cell_type": "code",
      "source": [
        "def SOP(X,Y): #sum of products\n",
        "  n=len(X)\n",
        "  sop =0\n",
        "  for i in range(n):\n",
        "    sop += X[i]*Y[i]\n",
        "  return sop\n"
      ],
      "metadata": {
        "id": "IBX1TLa07l4g"
      },
      "execution_count": null,
      "outputs": []
    },
    {
      "cell_type": "code",
      "source": [
        "def SUM(X): #sum of all the terms in list\n",
        "  n=len(X)\n",
        "  s=0\n",
        "  for i in range(n):\n",
        "    s+=X[i]\n",
        "  return s"
      ],
      "metadata": {
        "id": "piyeemFq7par"
      },
      "execution_count": null,
      "outputs": []
    },
    {
      "cell_type": "code",
      "source": [
        "def SUM_OF_SQUARES(X): #sum of squares of all the values\n",
        "  n=len(X)\n",
        "  sq=0\n",
        "  for i in range(n):\n",
        "    sq+=X[i]*X[i]\n",
        "  return sq"
      ],
      "metadata": {
        "id": "XCDER-kR7sbF"
      },
      "execution_count": null,
      "outputs": []
    },
    {
      "cell_type": "code",
      "source": [
        "def Correlation_Coeff(X,Y): #correlation between X and Y calcualtion\n",
        "  n=len(X)\n",
        "  r= (n*SOP(X,Y)-SUM(X)*SUM(Y))/(math.sqrt(n*SUM_OF_SQUARES(X)-SUM(X)*SUM(X))*math.sqrt(n*SUM_OF_SQUARES(Y)-SUM(Y)*SUM(Y)))\n",
        "  return(r)"
      ],
      "metadata": {
        "id": "MLt8XyE26PHV"
      },
      "execution_count": null,
      "outputs": []
    },
    {
      "cell_type": "code",
      "source": [
        "def B_ONE(X,Y): #b1 value calculation using sum of products an other\n",
        "  n=len(X)\n",
        "  b1 = (n*(SOP(X,Y))-SUM(X)*SUM(Y))/(n*(SUM_OF_SQUARES(X))-SUM(X)*SUM(X))\n",
        "  return b1\n",
        "\n",
        "def B_0(X,Y): #b0 value calculation using sum of squares, sum of products etc\n",
        "  n=len(X)\n",
        "  b0 = (SUM(Y)*(SUM_OF_SQUARES(X))-SUM(X)*(SOP(X,Y)))/(n*(SUM_OF_SQUARES(X))-SUM(X)*SUM(X))\n",
        "  return b0"
      ],
      "metadata": {
        "id": "KOAHvS6MLXDp"
      },
      "execution_count": null,
      "outputs": []
    },
    {
      "cell_type": "code",
      "source": [
        "def T(r,n):  # t statistic for correlation coefficient\n",
        "  return r/math.sqrt((1-r*r)/(n-2))"
      ],
      "metadata": {
        "id": "6WzXeV-fO6Dg"
      },
      "execution_count": null,
      "outputs": []
    },
    {
      "cell_type": "code",
      "source": [
        "#filling the null values with the mean values in order to nullify the void\n",
        "\n",
        "(sample_one['heartRate'],sample_one['cigsPerDay'])=(sample_one['heartRate'].fillna(77),sample_one['cigsPerDay'].fillna(0))"
      ],
      "metadata": {
        "id": "fpx4k4vE-vM3"
      },
      "execution_count": null,
      "outputs": []
    },
    {
      "cell_type": "markdown",
      "source": [
        "COEFFICENT of CORRELATION AND  REGRESSION LINE FOR CIGSPERDAY AND HEARTRATE"
      ],
      "metadata": {
        "id": "met2VCR2PIOV"
      }
    },
    {
      "cell_type": "code",
      "source": [
        "print(\"Cigperday r Coefficient \"+str(Correlation_Coeff(sample_one['heartRate'], sample_one['cigsPerDay'])))\n",
        "t = T(Correlation_Coeff(sample_one['heartRate'], sample_one['cigsPerDay'].fillna(0)),len(sample_one))\n",
        "print(\"T cigperday is: \"+str(t))\n",
        "P=(scipy.stats.norm.sf(t))*2\n",
        "print(\"P value: \"+str(P))\n",
        "b1=(B_ONE(sample_one['cigsPerDay'],sample_one['heartRate']))\n",
        "b0=(B_0(sample_one['cigsPerDay'],sample_one['heartRate']))\n",
        "k=sample_one['cigsPerDay']\n",
        "j=sample_one['heartRate']\n",
        "\n",
        "mt.pyplot.plot(k, j, 'o', color='green')\n",
        "mt.pyplot.xlabel('cigaretts')\n",
        "mt.pyplot.ylabel('predictions')\n",
        "mt.pyplot.plot(k, b1*k+b0)\n",
        "mt.pyplot.title(\"Regression line between cigarettes vs heart attacks\")"
      ],
      "metadata": {
        "colab": {
          "base_uri": "https://localhost:8080/",
          "height": 367
        },
        "id": "qS-hdtuG-e1H",
        "outputId": "8b2a6c20-7f41-4ced-99bf-2e95211bd8b6"
      },
      "execution_count": null,
      "outputs": [
        {
          "output_type": "stream",
          "name": "stdout",
          "text": [
            "Cigperday r Coefficient 0.2346945372422322\n",
            "T cigperday is: 2.3901152831386874\n",
            "P value: 0.01684308494696288\n"
          ]
        },
        {
          "output_type": "execute_result",
          "data": {
            "text/plain": [
              "Text(0.5, 1.0, 'Regression line between cigarettes vs heart attacks')"
            ]
          },
          "metadata": {},
          "execution_count": 57
        },
        {
          "output_type": "display_data",
          "data": {
            "text/plain": [
              "<Figure size 432x288 with 1 Axes>"
            ],
            "image/png": "[encoded data removed]"
          },
          "metadata": {
            "needs_background": "light"
          }
        }
      ]
    },
    {
      "cell_type": "markdown",
      "source": [
        "COEFFICENT of CORRELATION AND REGRESSION LINE FOR BMI AND HEARTRATE"
      ],
      "metadata": {
        "id": "r0IKgoM7Ilmt"
      }
    },
    {
      "cell_type": "code",
      "source": [
        "#filling the null values with the mean values in order to nullify the void\n",
        "\n",
        "sample_one['BMI'] = sample_one['BMI'].fillna(25.97)"
      ],
      "metadata": {
        "id": "6E4jG-26Ip9a"
      },
      "execution_count": null,
      "outputs": []
    },
    {
      "cell_type": "code",
      "source": [
        "print(\"BMI r COEFFICENT \"+str(Correlation_Coeff(sample_one['heartRate'],sample_one['BMI'])))\n",
        "\n",
        "t = T(Correlation_Coeff(sample_one['heartRate'], sample_one['BMI']),len(sample_one))\n",
        "print(\"T BMI is: \"+str(t))\n",
        "P=(scipy.stats.norm.sf(t))*2\n",
        "print(\"P value: \"+str(P))\n",
        "\n",
        "b1=(B_ONE(sample_one['BMI'],sample_one['heartRate']))\n",
        "b0=(B_0(sample_one['BMI'],sample_one['heartRate']))\n",
        "\n",
        "k=sample_one['BMI']\n",
        "j=sample_one['heartRate']\n",
        "\n",
        "mt.pyplot.plot(k, j, 'o', color='green')\n",
        "mt.pyplot.xlabel('BMI')\n",
        "mt.pyplot.ylabel('predictions')\n",
        "mt.pyplot.plot(k, b1*k+b0)\n",
        "mt.pyplot.title(\"Regression line between BMI vs heart attacks\")"
      ],
      "metadata": {
        "colab": {
          "base_uri": "https://localhost:8080/",
          "height": 367
        },
        "id": "uRaO5IHDFrWf",
        "outputId": "fc6e512c-78f8-4c3c-88ac-d5fe84ad9309"
      },
      "execution_count": null,
      "outputs": [
        {
          "output_type": "stream",
          "name": "stdout",
          "text": [
            "BMI r COEFFICENT 0.06076710720815743\n",
            "T BMI is: 0.6026774350534181\n",
            "P value: 0.5467232956614548\n"
          ]
        },
        {
          "output_type": "execute_result",
          "data": {
            "text/plain": [
              "Text(0.5, 1.0, 'Regression line between BMI vs heart attacks')"
            ]
          },
          "metadata": {},
          "execution_count": 59
        },
        {
          "output_type": "display_data",
          "data": {
            "text/plain": [
              "<Figure size 432x288 with 1 Axes>"
            ],
            "image/png": "[encoded data removed]"
          },
          "metadata": {
            "needs_background": "light"
          }
        }
      ]
    },
    {
      "cell_type": "markdown",
      "source": [
        "COEFFICENT of CORRELATION AND REGRESSION LINE FOR SYSBP AND HEARTRATE"
      ],
      "metadata": {
        "id": "Cr6uABqXI-2g"
      }
    },
    {
      "cell_type": "code",
      "source": [
        "#filling the null values with the mean values in order to nullify the void\n",
        "\n",
        "sample_one['sysBP']=sample_one['sysBP'].fillna(143)"
      ],
      "metadata": {
        "id": "kdn3KwHhJ13t"
      },
      "execution_count": null,
      "outputs": []
    },
    {
      "cell_type": "code",
      "source": [
        "print(\"sysBP r COEFFICENT \"+str(Correlation_Coeff(sample_one['heartRate'],sample_one['sysBP'])))\n",
        "\n",
        "t = T(Correlation_Coeff(sample_one['heartRate'], sample_one['sysBP']),len(sample_one))\n",
        "print(\"T sysBP is: \"+str(t))\n",
        "P=(scipy.stats.norm.sf(t))*2\n",
        "print(\"P value: \"+str(P))\n",
        "\n",
        "b1=(B_ONE(sample_one['sysBP'],sample_one['heartRate']))\n",
        "b0=(B_0(sample_one['sysBP'],sample_one['heartRate']))\n",
        "\n",
        "k=sample_one['sysBP']\n",
        "j=sample_one['heartRate']\n",
        "\n",
        "mt.pyplot.plot(k, j, 'o', color='green')\n",
        "mt.pyplot.xlabel('sysBP')\n",
        "mt.pyplot.ylabel('predictions')\n",
        "mt.pyplot.plot(k, b1*k+b0)\n",
        "mt.pyplot.title(\"Regression line between sysBP vs heart attacks\")"
      ],
      "metadata": {
        "colab": {
          "base_uri": "https://localhost:8080/",
          "height": 367
        },
        "id": "z5ueoMa7GACK",
        "outputId": "55a0d662-2150-40e4-c85b-01fb7c8de527"
      },
      "execution_count": null,
      "outputs": [
        {
          "output_type": "stream",
          "name": "stdout",
          "text": [
            "sysBP r COEFFICENT 0.19765279254049417\n",
            "T sysBP is: 1.9960405235412186\n",
            "P value: 0.04592951205358933\n"
          ]
        },
        {
          "output_type": "execute_result",
          "data": {
            "text/plain": [
              "Text(0.5, 1.0, 'Regression line between sysBP vs heart attacks')"
            ]
          },
          "metadata": {},
          "execution_count": 61
        },
        {
          "output_type": "display_data",
          "data": {
            "text/plain": [
              "<Figure size 432x288 with 1 Axes>"
            ],
            "image/png": "[encoded data removed]"
          },
          "metadata": {
            "needs_background": "light"
          }
        }
      ]
    },
    {
      "cell_type": "markdown",
      "source": [
        "COEFFICENT of CORRELATION AND REGRESSION LINE FOR DIABP AND HEARTRATE"
      ],
      "metadata": {
        "id": "Ukv94DbxLGbZ"
      }
    },
    {
      "cell_type": "code",
      "source": [
        "#filling the null values with the mean values in order to nullify the void\n",
        "\n",
        "sample_one['diaBP']=sample_one['diaBP'].fillna(87)"
      ],
      "metadata": {
        "id": "R54_VJP7LG_7"
      },
      "execution_count": null,
      "outputs": []
    },
    {
      "cell_type": "code",
      "source": [
        "print(\"diaBP r COEFFICENT \"+str(Correlation_Coeff(sample_one['heartRate'],sample_one['diaBP'])))\n",
        "\n",
        "t = T(Correlation_Coeff(sample_one['heartRate'], sample_one['diaBP']),len(sample_one))\n",
        "print(\"T diaBP is: \"+str(t))\n",
        "P=(scipy.stats.norm.sf(t))*2\n",
        "print(\"P value: \"+str(P))\n",
        "\n",
        "b1=(B_ONE(sample_one['diaBP'],sample_one['heartRate']))\n",
        "b0=(B_0(sample_one['diaBP'],sample_one['heartRate']))\n",
        "\n",
        "k=sample_one['diaBP']\n",
        "j=sample_one['heartRate']\n",
        "\n",
        "mt.pyplot.plot(k, j, 'o', color='green')\n",
        "mt.pyplot.xlabel('diaBP')\n",
        "mt.pyplot.ylabel('predictions')\n",
        "mt.pyplot.plot(k, b1*k+b0)\n",
        "mt.pyplot.title(\"Regression line between diaBP vs heart attacks\")"
      ],
      "metadata": {
        "colab": {
          "base_uri": "https://localhost:8080/",
          "height": 367
        },
        "id": "qHHRgJe-GB8n",
        "outputId": "b4ed963d-eed3-4abb-ec42-67b66c1339aa"
      },
      "execution_count": null,
      "outputs": [
        {
          "output_type": "stream",
          "name": "stdout",
          "text": [
            "diaBP r COEFFICENT 0.24500851524750483\n",
            "T diaBP is: 2.501710369662078\n",
            "P value: 0.012359498943056046\n"
          ]
        },
        {
          "output_type": "execute_result",
          "data": {
            "text/plain": [
              "Text(0.5, 1.0, 'Regression line between diaBP vs heart attacks')"
            ]
          },
          "metadata": {},
          "execution_count": 63
        },
        {
          "output_type": "display_data",
          "data": {
            "text/plain": [
              "<Figure size 432x288 with 1 Axes>"
            ],
            "image/png": "[encoded data removed]"
          },
          "metadata": {
            "needs_background": "light"
          }
        }
      ]
    },
    {
      "cell_type": "markdown",
      "source": [
        "COEFFICENT of CORRELATION AND REGRESSION LINE FOR TOTAL CHOLESTROL AND HEARTRATE"
      ],
      "metadata": {
        "id": "_-Om50amL2pq"
      }
    },
    {
      "cell_type": "code",
      "source": [
        "#filling the null values with the mean values in order to nullify the void\n",
        "\n",
        "sample_one['totChol'] = sample_one['totChol'].fillna(247)"
      ],
      "metadata": {
        "id": "i1DnCJgoL26F"
      },
      "execution_count": null,
      "outputs": []
    },
    {
      "cell_type": "code",
      "source": [
        "print(\"totChol r COEFFICENT \"+str(Correlation_Coeff(sample_one['heartRate'],sample_one['totChol'])))\n",
        "\n",
        "t = T(Correlation_Coeff(sample_one['heartRate'], sample_one['totChol']),len(sample_one))\n",
        "print(\"T totChol is: \"+str(t))\n",
        "P=(1-scipy.stats.norm.sf(t))*2\n",
        "print(\"P value: \"+str(P))\n",
        "\n",
        "b1=(B_ONE(sample_one['totChol'],sample_one['heartRate']))\n",
        "b0=(B_0(sample_one['totChol'],sample_one['heartRate']))\n",
        "\n",
        "k=sample_one['totChol']\n",
        "j=sample_one['heartRate']\n",
        "\n",
        "mt.pyplot.plot(k, j, 'o', color='green')\n",
        "mt.pyplot.xlabel('totChol')\n",
        "mt.pyplot.ylabel('predictions')\n",
        "mt.pyplot.plot(k, b1*k+b0)\n",
        "mt.pyplot.title(\"Regression line between totChol vs heart attacks\")"
      ],
      "metadata": {
        "colab": {
          "base_uri": "https://localhost:8080/",
          "height": 367
        },
        "id": "DSKP868yGDED",
        "outputId": "3573c747-0fdb-4f34-c620-8501d50339d5"
      },
      "execution_count": null,
      "outputs": [
        {
          "output_type": "stream",
          "name": "stdout",
          "text": [
            "totChol r COEFFICENT -0.11268358269214011\n",
            "T totChol is: -1.1226608703651226\n",
            "P value: 0.26158155259482463\n"
          ]
        },
        {
          "output_type": "execute_result",
          "data": {
            "text/plain": [
              "Text(0.5, 1.0, 'Regression line between totChol vs heart attacks')"
            ]
          },
          "metadata": {},
          "execution_count": 93
        },
        {
          "output_type": "display_data",
          "data": {
            "text/plain": [
              "<Figure size 432x288 with 1 Axes>"
            ],
            "image/png": "[encoded data removed]"
          },
          "metadata": {
            "needs_background": "light"
          }
        }
      ]
    },
    {
      "cell_type": "markdown",
      "source": [
        "COEFFICENT of CORRELATION AND REGRESSION LINE FOR AGE AND HEARTRATE"
      ],
      "metadata": {
        "id": "0nkoYF4qNgjl"
      }
    },
    {
      "cell_type": "code",
      "source": [
        "#filling the null values with the mean values in order to nullify the void\n",
        "\n",
        "sample_one['age']= sample_one['age'].fillna(52)"
      ],
      "metadata": {
        "id": "oVFcvPrkNblE"
      },
      "execution_count": null,
      "outputs": []
    },
    {
      "cell_type": "code",
      "source": [
        "print(\"age r COEFFICENT \"+str(Correlation_Coeff(sample_one['heartRate'],sample_one['age'])))\n",
        "\n",
        "t = T(Correlation_Coeff(sample_one['heartRate'], sample_one['age']),len(sample_one))\n",
        "print(\"T age is: \"+str(t))\n",
        "P=(1-scipy.stats.norm.sf(t))*2\n",
        "print(\"P value: \"+str(P))\n",
        "\n",
        "b1=(B_ONE(sample_one['age'],sample_one['heartRate']))\n",
        "b0=(B_0(sample_one['age'],sample_one['heartRate']))\n",
        "\n",
        "k=sample_one['age']\n",
        "j=sample_one['heartRate']\n",
        "\n",
        "mt.pyplot.plot(k, j, 'o', color='green')\n",
        "mt.pyplot.xlabel('age')\n",
        "mt.pyplot.ylabel('predictions')\n",
        "mt.pyplot.plot(k, b1*k+b0)\n",
        "mt.pyplot.title(\"Regression line between age vs heart attacks\")"
      ],
      "metadata": {
        "colab": {
          "base_uri": "https://localhost:8080/",
          "height": 367
        },
        "id": "08BRpa-vGEDY",
        "outputId": "67b07fee-1c77-43d6-a1bb-1c34ef986fa8"
      },
      "execution_count": null,
      "outputs": [
        {
          "output_type": "stream",
          "name": "stdout",
          "text": [
            "age r COEFFICENT -0.1457335831408396\n",
            "T age is: -1.4582574118939133\n",
            "P value: 0.14476960428990182\n"
          ]
        },
        {
          "output_type": "execute_result",
          "data": {
            "text/plain": [
              "Text(0.5, 1.0, 'Regression line between age vs heart attacks')"
            ]
          },
          "metadata": {},
          "execution_count": 94
        },
        {
          "output_type": "display_data",
          "data": {
            "text/plain": [
              "<Figure size 432x288 with 1 Axes>"
            ],
            "image/png": "[encoded data removed]"
          },
          "metadata": {
            "needs_background": "light"
          }
        }
      ]
    },
    {
      "cell_type": "markdown",
      "source": [
        "QUESTION NUMBER 4 LINEAR REGRESSION LINE EQUATION"
      ],
      "metadata": {
        "id": "l-Cc4CVKIxoO"
      }
    },
    {
      "cell_type": "markdown",
      "source": [
        "HEART RATE"
      ],
      "metadata": {
        "id": "FInbCXovNhfp"
      }
    },
    {
      "cell_type": "code",
      "source": [
        "def RESIDUAL(B0,B1,independent_values,Observed_values): #finding residuals i.e difference between the actual and predicted values\n",
        "  residuals=[]\n",
        "  for i in range(len(independent_values)):\n",
        "    residuals.append((Observed_values[i]-(B0+B1*independent_values[i])))\n",
        "  return residuals\n",
        "\n"
      ],
      "metadata": {
        "id": "LhzHmDtdJCyY"
      },
      "execution_count": null,
      "outputs": []
    },
    {
      "cell_type": "code",
      "source": [
        "def predictions(B0,B1,independent_values): # finding the predicted values\n",
        "  pred=[]\n",
        "  for i in range(len(independent_values)):\n",
        "    pred.append(B0+B1*independent_values[i])\n",
        "  return pred"
      ],
      "metadata": {
        "id": "p4s5Gp3MZ7Yd"
      },
      "execution_count": null,
      "outputs": []
    },
    {
      "cell_type": "markdown",
      "source": [
        "B0 AND B1"
      ],
      "metadata": {
        "id": "9sqCSGP1Gx6Z"
      }
    },
    {
      "cell_type": "code",
      "source": [
        "print(\"B1: \"+str(B_ONE(sample_one['age'],sample_one['heartRate'])))\n",
        "print(\"B0: \"+str(B_0(sample_one['age'],sample_one['heartRate'])))\n",
        "print()\n",
        "print(\"         USING AGE AS INDEPENDENT VARIABLE\")\n",
        "b1 = B_ONE(sample_one['age'],sample_one['heartRate'])\n",
        "b0 = B_0(sample_one['age'],sample_one['heartRate'])\n",
        "\n",
        "# residual calculation\n",
        "\n",
        "res=RESIDUAL(b0,b1,sample_one['age'],sample_one['heartRate'])\n",
        "\n",
        "#creating a dataframe with predictions, residuals, and observed values\n",
        "\n",
        "zipped = list(zip(sample_one['heartRate'], predictions(b0,b1,sample_one['age']), res))\n",
        "df = pd.DataFrame(zipped, columns=['observed heartrate', 'prediction', 'residual'])\n",
        "df.head(5)"
      ],
      "metadata": {
        "colab": {
          "base_uri": "https://localhost:8080/",
          "height": 278
        },
        "id": "qw9GbdqpI3zN",
        "outputId": "b4e5d6f6-1e1c-4bbe-8e6f-e4d7bbb7bbb0"
      },
      "execution_count": null,
      "outputs": [
        {
          "output_type": "stream",
          "name": "stdout",
          "text": [
            "B1: -0.20106161090961946\n",
            "B0: 85.6695836740984\n",
            "\n",
            "         USING AGE AS INDEPENDENT VARIABLE\n"
          ]
        },
        {
          "output_type": "execute_result",
          "data": {
            "text/plain": [
              "   observed heartrate  prediction   residual\n",
              "0                72.0   77.023934  -5.023934\n",
              "1                68.0   75.013318  -7.013318\n",
              "2                70.0   75.214380  -5.214380\n",
              "3                80.0   73.605887   6.394113\n",
              "4                63.0   78.029242 -15.029242"
            ],
            "text/html": [
              "\n",
              "  <div id=\"df-227fe552-758c-4142-9aed-0c9f071ac31b\">\n",
              "    <div class=\"colab-df-container\">\n",
              "      <div>\n",
              "<style scoped>\n",
              "    .dataframe tbody tr th:only-of-type {\n",
              "        vertical-align: middle;\n",
              "    }\n",
              "\n",
              "    .dataframe tbody tr th {\n",
              "        vertical-align: top;\n",
              "    }\n",
              "\n",
              "    .dataframe thead th {\n",
              "        text-align: right;\n",
              "    }\n",
              "</style>\n",
              "<table border=\"1\" class=\"dataframe\">\n",
              "  <thead>\n",
              "    <tr style=\"text-align: right;\">\n",
              "      <th></th>\n",
              "      <th>observed heartrate</th>\n",
              "      <th>prediction</th>\n",
              "      <th>residual</th>\n",
              "    </tr>\n",
              "  </thead>\n",
              "  <tbody>\n",
              "    <tr>\n",
              "      <th>0</th>\n",
              "      <td>72.0</td>\n",
              "      <td>77.023934</td>\n",
              "      <td>-5.023934</td>\n",
              "    </tr>\n",
              "    <tr>\n",
              "      <th>1</th>\n",
              "      <td>68.0</td>\n",
              "      <td>75.013318</td>\n",
              "      <td>-7.013318</td>\n",
              "    </tr>\n",
              "    <tr>\n",
              "      <th>2</th>\n",
              "      <td>70.0</td>\n",
              "      <td>75.214380</td>\n",
              "      <td>-5.214380</td>\n",
              "    </tr>\n",
              "    <tr>\n",
              "      <th>3</th>\n",
              "      <td>80.0</td>\n",
              "      <td>73.605887</td>\n",
              "      <td>6.394113</td>\n",
              "    </tr>\n",
              "    <tr>\n",
              "      <th>4</th>\n",
              "      <td>63.0</td>\n",
              "      <td>78.029242</td>\n",
              "      <td>-15.029242</td>\n",
              "    </tr>\n",
              "  </tbody>\n",
              "</table>\n",
              "</div>\n",
              "      <button class=\"colab-df-convert\" onclick=\"convertToInteractive('df-227fe552-758c-4142-9aed-0c9f071ac31b')\"\n",
              "              title=\"Convert this dataframe to an interactive table.\"\n",
              "              style=\"display:none;\">\n",
              "        \n",
              "  <svg xmlns=\"http://www.w3.org/2000/svg\" height=\"24px\"viewBox=\"0 0 24 24\"\n",
              "       width=\"24px\">\n",
              "    <path d=\"M0 0h24v24H0V0z\" fill=\"none\"/>\n",
              "    <path d=\"M18.56 5.44l.94 2.06.94-2.06 2.06-.94-2.06-.94-.94-2.06-.94 2.06-2.06.94zm-11 1L8.5 8.5l.94-2.06 2.06-.94-2.06-.94L8.5 2.5l-.94 2.06-2.06.94zm10 10l.94 2.06.94-2.06 2.06-.94-2.06-.94-.94-2.06-.94 2.06-2.06.94z\"/><path d=\"M17.41 7.96l-1.37-1.37c-.4-.4-.92-.59-1.43-.59-.52 0-1.04.2-1.43.59L10.3 9.45l-7.72 7.72c-.78.78-.78 2.05 0 2.83L4 21.41c.39.39.9.59 1.41.59.51 0 1.02-.2 1.41-.59l7.78-7.78 2.81-2.81c.8-.78.8-2.07 0-2.86zM5.41 20L4 18.59l7.72-7.72 1.47 1.35L5.41 20z\"/>\n",
              "  </svg>\n",
              "      </button>\n",
              "      \n",
              "  <style>\n",
              "    .colab-df-container {\n",
              "      display:flex;\n",
              "      flex-wrap:wrap;\n",
              "      gap: 12px;\n",
              "    }\n",
              "\n",
              "    .colab-df-convert {\n",
              "      background-color: #E8F0FE;\n",
              "      border: none;\n",
              "      border-radius: 50%;\n",
              "      cursor: pointer;\n",
              "      display: none;\n",
              "      fill: #1967D2;\n",
              "      height: 32px;\n",
              "      padding: 0 0 0 0;\n",
              "      width: 32px;\n",
              "    }\n",
              "\n",
              "    .colab-df-convert:hover {\n",
              "      background-color: #E2EBFA;\n",
              "      box-shadow: 0px 1px 2px rgba(60, 64, 67, 0.3), 0px 1px 3px 1px rgba(60, 64, 67, 0.15);\n",
              "      fill: #174EA6;\n",
              "    }\n",
              "\n",
              "    [theme=dark] .colab-df-convert {\n",
              "      background-color: #3B4455;\n",
              "      fill: #D2E3FC;\n",
              "    }\n",
              "\n",
              "    [theme=dark] .colab-df-convert:hover {\n",
              "      background-color: #434B5C;\n",
              "      box-shadow: 0px 1px 3px 1px rgba(0, 0, 0, 0.15);\n",
              "      filter: drop-shadow(0px 1px 2px rgba(0, 0, 0, 0.3));\n",
              "      fill: #FFFFFF;\n",
              "    }\n",
              "  </style>\n",
              "\n",
              "      <script>\n",
              "        const buttonEl =\n",
              "          document.querySelector('#df-227fe552-758c-4142-9aed-0c9f071ac31b button.colab-df-convert');\n",
              "        buttonEl.style.display =\n",
              "          google.colab.kernel.accessAllowed ? 'block' : 'none';\n",
              "\n",
              "        async function convertToInteractive(key) {\n",
              "          const element = document.querySelector('#df-227fe552-758c-4142-9aed-0c9f071ac31b');\n",
              "          const dataTable =\n",
              "            await google.colab.kernel.invokeFunction('convertToInteractive',\n",
              "                                                     [key], {});\n",
              "          if (!dataTable) return;\n",
              "\n",
              "          const docLinkHtml = 'Like what you see? Visit the ' +\n",
              "            '<a target=\"_blank\" href=https://colab.research.google.com/notebooks/data_table.ipynb>data table notebook</a>'\n",
              "            + ' to learn more about interactive tables.';\n",
              "          element.innerHTML = '';\n",
              "          dataTable['output_type'] = 'display_data';\n",
              "          await google.colab.output.renderOutput(dataTable, element);\n",
              "          const docLink = document.createElement('div');\n",
              "          docLink.innerHTML = docLinkHtml;\n",
              "          element.appendChild(docLink);\n",
              "        }\n",
              "      </script>\n",
              "    </div>\n",
              "  </div>\n",
              "  "
            ]
          },
          "metadata": {},
          "execution_count": 86
        }
      ]
    },
    {
      "cell_type": "markdown",
      "source": [
        "residuals and b1, b0 for NUMBER OF CIGARETTES\n",
        "\n",
        "\n",
        "\n"
      ],
      "metadata": {
        "id": "YPXHCI9DNj8L"
      }
    },
    {
      "cell_type": "code",
      "source": [
        "print(\"B1: \"+str(B_ONE(sample_one['cigsPerDay'],sample_one['heartRate'])))\n",
        "print(\"B0: \"+str(B_0(sample_one['cigsPerDay'],sample_one['heartRate'])))\n",
        "print()\n",
        "print(\"   USING Cigarettes per day AS INDEPENDENT VARIABLE\")\n",
        "\n",
        "b1 = B_ONE(sample_one['cigsPerDay'],sample_one['heartRate'])\n",
        "b0 = B_0(sample_one['cigsPerDay'],sample_one['heartRate'])\n",
        "\n",
        "# residual calculation\n",
        "\n",
        "res=RESIDUAL(b0,b1,sample_one['cigsPerDay'],sample_one['heartRate'])\n",
        "\n",
        "#creating a dataframe with predictions, residuals, and observed values\n",
        "\n",
        "zipped = list(zip(sample_one['heartRate'], predictions(b0,b1,sample_one['cigsPerDay']), res))\n",
        "df = pd.DataFrame(zipped, columns=['observed heartrate', 'prediction', 'residual'])\n",
        "\n",
        "\n",
        "k=sample_one['cigsPerDay']\n",
        "j=res\n",
        "\n",
        "mt.pyplot.scatter(k, res, color='r', label='residual')\n",
        "mt.pyplot.plot(k,b1*k+b0, color='g', label='regression line')\n",
        "mt.pyplot.xlabel('cigsPerDay')\n",
        "mt.pyplot.ylabel('residuals')\n",
        "\n",
        "mt.pyplot.title(\"plot between cigsPerDay and residuals\")\n",
        "df.head(5)"
      ],
      "metadata": {
        "colab": {
          "base_uri": "https://localhost:8080/",
          "height": 556
        },
        "id": "FMTD46DFNnKu",
        "outputId": "04bf996c-1117-43ef-e44b-2ad8ca1c0c74"
      },
      "execution_count": null,
      "outputs": [
        {
          "output_type": "stream",
          "name": "stdout",
          "text": [
            "B1: 0.2320019779281203\n",
            "B0: 73.985983682093\n",
            "\n",
            "   USING Cigarettes per day AS INDEPENDENT VARIABLE\n"
          ]
        },
        {
          "output_type": "execute_result",
          "data": {
            "text/plain": [
              "   observed heartrate  prediction   residual\n",
              "0                72.0   73.985984  -1.985984\n",
              "1                68.0   76.306003  -8.306003\n",
              "2                70.0   78.626023  -8.626023\n",
              "3                80.0   73.985984   6.014016\n",
              "4                63.0   73.985984 -10.985984"
            ],
            "text/html": [
              "\n",
              "  <div id=\"df-b71c11fb-2e01-46b9-b834-c6f39251ee59\">\n",
              "    <div class=\"colab-df-container\">\n",
              "      <div>\n",
              "<style scoped>\n",
              "    .dataframe tbody tr th:only-of-type {\n",
              "        vertical-align: middle;\n",
              "    }\n",
              "\n",
              "    .dataframe tbody tr th {\n",
              "        vertical-align: top;\n",
              "    }\n",
              "\n",
              "    .dataframe thead th {\n",
              "        text-align: right;\n",
              "    }\n",
              "</style>\n",
              "<table border=\"1\" class=\"dataframe\">\n",
              "  <thead>\n",
              "    <tr style=\"text-align: right;\">\n",
              "      <th></th>\n",
              "      <th>observed heartrate</th>\n",
              "      <th>prediction</th>\n",
              "      <th>residual</th>\n",
              "    </tr>\n",
              "  </thead>\n",
              "  <tbody>\n",
              "    <tr>\n",
              "      <th>0</th>\n",
              "      <td>72.0</td>\n",
              "      <td>73.985984</td>\n",
              "      <td>-1.985984</td>\n",
              "    </tr>\n",
              "    <tr>\n",
              "      <th>1</th>\n",
              "      <td>68.0</td>\n",
              "      <td>76.306003</td>\n",
              "      <td>-8.306003</td>\n",
              "    </tr>\n",
              "    <tr>\n",
              "      <th>2</th>\n",
              "      <td>70.0</td>\n",
              "      <td>78.626023</td>\n",
              "      <td>-8.626023</td>\n",
              "    </tr>\n",
              "    <tr>\n",
              "      <th>3</th>\n",
              "      <td>80.0</td>\n",
              "      <td>73.985984</td>\n",
              "      <td>6.014016</td>\n",
              "    </tr>\n",
              "    <tr>\n",
              "      <th>4</th>\n",
              "      <td>63.0</td>\n",
              "      <td>73.985984</td>\n",
              "      <td>-10.985984</td>\n",
              "    </tr>\n",
              "  </tbody>\n",
              "</table>\n",
              "</div>\n",
              "      <button class=\"colab-df-convert\" onclick=\"convertToInteractive('df-b71c11fb-2e01-46b9-b834-c6f39251ee59')\"\n",
              "              title=\"Convert this dataframe to an interactive table.\"\n",
              "              style=\"display:none;\">\n",
              "        \n",
              "  <svg xmlns=\"http://www.w3.org/2000/svg\" height=\"24px\"viewBox=\"0 0 24 24\"\n",
              "       width=\"24px\">\n",
              "    <path d=\"M0 0h24v24H0V0z\" fill=\"none\"/>\n",
              "    <path d=\"M18.56 5.44l.94 2.06.94-2.06 2.06-.94-2.06-.94-.94-2.06-.94 2.06-2.06.94zm-11 1L8.5 8.5l.94-2.06 2.06-.94-2.06-.94L8.5 2.5l-.94 2.06-2.06.94zm10 10l.94 2.06.94-2.06 2.06-.94-2.06-.94-.94-2.06-.94 2.06-2.06.94z\"/><path d=\"M17.41 7.96l-1.37-1.37c-.4-.4-.92-.59-1.43-.59-.52 0-1.04.2-1.43.59L10.3 9.45l-7.72 7.72c-.78.78-.78 2.05 0 2.83L4 21.41c.39.39.9.59 1.41.59.51 0 1.02-.2 1.41-.59l7.78-7.78 2.81-2.81c.8-.78.8-2.07 0-2.86zM5.41 20L4 18.59l7.72-7.72 1.47 1.35L5.41 20z\"/>\n",
              "  </svg>\n",
              "      </button>\n",
              "      \n",
              "  <style>\n",
              "    .colab-df-container {\n",
              "      display:flex;\n",
              "      flex-wrap:wrap;\n",
              "      gap: 12px;\n",
              "    }\n",
              "\n",
              "    .colab-df-convert {\n",
              "      background-color: #E8F0FE;\n",
              "      border: none;\n",
              "      border-radius: 50%;\n",
              "      cursor: pointer;\n",
              "      display: none;\n",
              "      fill: #1967D2;\n",
              "      height: 32px;\n",
              "      padding: 0 0 0 0;\n",
              "      width: 32px;\n",
              "    }\n",
              "\n",
              "    .colab-df-convert:hover {\n",
              "      background-color: #E2EBFA;\n",
              "      box-shadow: 0px 1px 2px rgba(60, 64, 67, 0.3), 0px 1px 3px 1px rgba(60, 64, 67, 0.15);\n",
              "      fill: #174EA6;\n",
              "    }\n",
              "\n",
              "    [theme=dark] .colab-df-convert {\n",
              "      background-color: #3B4455;\n",
              "      fill: #D2E3FC;\n",
              "    }\n",
              "\n",
              "    [theme=dark] .colab-df-convert:hover {\n",
              "      background-color: #434B5C;\n",
              "      box-shadow: 0px 1px 3px 1px rgba(0, 0, 0, 0.15);\n",
              "      filter: drop-shadow(0px 1px 2px rgba(0, 0, 0, 0.3));\n",
              "      fill: #FFFFFF;\n",
              "    }\n",
              "  </style>\n",
              "\n",
              "      <script>\n",
              "        const buttonEl =\n",
              "          document.querySelector('#df-b71c11fb-2e01-46b9-b834-c6f39251ee59 button.colab-df-convert');\n",
              "        buttonEl.style.display =\n",
              "          google.colab.kernel.accessAllowed ? 'block' : 'none';\n",
              "\n",
              "        async function convertToInteractive(key) {\n",
              "          const element = document.querySelector('#df-b71c11fb-2e01-46b9-b834-c6f39251ee59');\n",
              "          const dataTable =\n",
              "            await google.colab.kernel.invokeFunction('convertToInteractive',\n",
              "                                                     [key], {});\n",
              "          if (!dataTable) return;\n",
              "\n",
              "          const docLinkHtml = 'Like what you see? Visit the ' +\n",
              "            '<a target=\"_blank\" href=https://colab.research.google.com/notebooks/data_table.ipynb>data table notebook</a>'\n",
              "            + ' to learn more about interactive tables.';\n",
              "          element.innerHTML = '';\n",
              "          dataTable['output_type'] = 'display_data';\n",
              "          await google.colab.output.renderOutput(dataTable, element);\n",
              "          const docLink = document.createElement('div');\n",
              "          docLink.innerHTML = docLinkHtml;\n",
              "          element.appendChild(docLink);\n",
              "        }\n",
              "      </script>\n",
              "    </div>\n",
              "  </div>\n",
              "  "
            ]
          },
          "metadata": {},
          "execution_count": 108
        },
        {
          "output_type": "display_data",
          "data": {
            "text/plain": [
              "<Figure size 432x288 with 1 Axes>"
            ],
            "image/png": "[encoded data removed]"
          },
          "metadata": {
            "needs_background": "light"
          }
        }
      ]
    },
    {
      "cell_type": "markdown",
      "source": [
        "residuals and b1, b0 for SYSBP"
      ],
      "metadata": {
        "id": "mvrw0DjmNp99"
      }
    },
    {
      "cell_type": "code",
      "source": [
        "print(\"B1: \"+str(B_ONE(sample_one['sysBP'],sample_one['heartRate'])))\n",
        "print(\"B0: \"+str(B_0(sample_one['sysBP'],sample_one['heartRate'])))\n",
        "print()\n",
        "print(\"         USING sysBP AS INDEPENDENT VARIABLE\")\n",
        "\n",
        "b1 = B_ONE(sample_one['sysBP'],sample_one['heartRate'])\n",
        "b0 = B_0(sample_one['sysBP'],sample_one['heartRate'])\n",
        "\n",
        "#calculation of residual values\n",
        "\n",
        "res=RESIDUAL(b0,b1,sample_one['sysBP'],sample_one['heartRate'])\n",
        "\n",
        "#creating a dataframe with predictions, residuals, and observed values\n",
        "\n",
        "zipped = list(zip(sample_one['heartRate'], predictions(b0,b1,sample_one['sysBP']), res))\n",
        "df = pd.DataFrame(zipped, columns=['observed heartrate', 'prediction', 'residual'])\n",
        "\n",
        "k=sample_one['sysBP']\n",
        "j=res\n",
        "\n",
        "mt.pyplot.scatter(k, res, color='r', label='residual')\n",
        "mt.pyplot.plot(k,b1*k+b0, color='g', label='regression line')\n",
        "mt.pyplot.xlabel('sysBP')\n",
        "mt.pyplot.ylabel('residuals')\n",
        "\n",
        "mt.pyplot.title(\"plot between sysBP and residuals\")\n",
        "df.head(5)"
      ],
      "metadata": {
        "colab": {
          "base_uri": "https://localhost:8080/",
          "height": 556
        },
        "id": "H80bs1WgNr_T",
        "outputId": "de7eaaad-3352-43a4-d5f9-73a5296e8f3b"
      },
      "execution_count": null,
      "outputs": [
        {
          "output_type": "stream",
          "name": "stdout",
          "text": [
            "B1: 0.08984662766215311\n",
            "B0: 63.82910557358973\n",
            "\n",
            "         USING sysBP AS INDEPENDENT VARIABLE\n"
          ]
        },
        {
          "output_type": "execute_result",
          "data": {
            "text/plain": [
              "   observed heartrate  prediction   residual\n",
              "0                72.0   74.970087  -2.970087\n",
              "1                68.0   74.251314  -6.251314\n",
              "2                70.0   76.497480  -6.497480\n",
              "3                80.0   77.755333   2.244667\n",
              "4                63.0   76.587327 -13.587327"
            ],
            "text/html": [
              "\n",
              "  <div id=\"df-8c70d6d5-d9ba-4a75-914f-8c9482b737df\">\n",
              "    <div class=\"colab-df-container\">\n",
              "      <div>\n",
              "<style scoped>\n",
              "    .dataframe tbody tr th:only-of-type {\n",
              "        vertical-align: middle;\n",
              "    }\n",
              "\n",
              "    .dataframe tbody tr th {\n",
              "        vertical-align: top;\n",
              "    }\n",
              "\n",
              "    .dataframe thead th {\n",
              "        text-align: right;\n",
              "    }\n",
              "</style>\n",
              "<table border=\"1\" class=\"dataframe\">\n",
              "  <thead>\n",
              "    <tr style=\"text-align: right;\">\n",
              "      <th></th>\n",
              "      <th>observed heartrate</th>\n",
              "      <th>prediction</th>\n",
              "      <th>residual</th>\n",
              "    </tr>\n",
              "  </thead>\n",
              "  <tbody>\n",
              "    <tr>\n",
              "      <th>0</th>\n",
              "      <td>72.0</td>\n",
              "      <td>74.970087</td>\n",
              "      <td>-2.970087</td>\n",
              "    </tr>\n",
              "    <tr>\n",
              "      <th>1</th>\n",
              "      <td>68.0</td>\n",
              "      <td>74.251314</td>\n",
              "      <td>-6.251314</td>\n",
              "    </tr>\n",
              "    <tr>\n",
              "      <th>2</th>\n",
              "      <td>70.0</td>\n",
              "      <td>76.497480</td>\n",
              "      <td>-6.497480</td>\n",
              "    </tr>\n",
              "    <tr>\n",
              "      <th>3</th>\n",
              "      <td>80.0</td>\n",
              "      <td>77.755333</td>\n",
              "      <td>2.244667</td>\n",
              "    </tr>\n",
              "    <tr>\n",
              "      <th>4</th>\n",
              "      <td>63.0</td>\n",
              "      <td>76.587327</td>\n",
              "      <td>-13.587327</td>\n",
              "    </tr>\n",
              "  </tbody>\n",
              "</table>\n",
              "</div>\n",
              "      <button class=\"colab-df-convert\" onclick=\"convertToInteractive('df-8c70d6d5-d9ba-4a75-914f-8c9482b737df')\"\n",
              "              title=\"Convert this dataframe to an interactive table.\"\n",
              "              style=\"display:none;\">\n",
              "        \n",
              "  <svg xmlns=\"http://www.w3.org/2000/svg\" height=\"24px\"viewBox=\"0 0 24 24\"\n",
              "       width=\"24px\">\n",
              "    <path d=\"M0 0h24v24H0V0z\" fill=\"none\"/>\n",
              "    <path d=\"M18.56 5.44l.94 2.06.94-2.06 2.06-.94-2.06-.94-.94-2.06-.94 2.06-2.06.94zm-11 1L8.5 8.5l.94-2.06 2.06-.94-2.06-.94L8.5 2.5l-.94 2.06-2.06.94zm10 10l.94 2.06.94-2.06 2.06-.94-2.06-.94-.94-2.06-.94 2.06-2.06.94z\"/><path d=\"M17.41 7.96l-1.37-1.37c-.4-.4-.92-.59-1.43-.59-.52 0-1.04.2-1.43.59L10.3 9.45l-7.72 7.72c-.78.78-.78 2.05 0 2.83L4 21.41c.39.39.9.59 1.41.59.51 0 1.02-.2 1.41-.59l7.78-7.78 2.81-2.81c.8-.78.8-2.07 0-2.86zM5.41 20L4 18.59l7.72-7.72 1.47 1.35L5.41 20z\"/>\n",
              "  </svg>\n",
              "      </button>\n",
              "      \n",
              "  <style>\n",
              "    .colab-df-container {\n",
              "      display:flex;\n",
              "      flex-wrap:wrap;\n",
              "      gap: 12px;\n",
              "    }\n",
              "\n",
              "    .colab-df-convert {\n",
              "      background-color: #E8F0FE;\n",
              "      border: none;\n",
              "      border-radius: 50%;\n",
              "      cursor: pointer;\n",
              "      display: none;\n",
              "      fill: #1967D2;\n",
              "      height: 32px;\n",
              "      padding: 0 0 0 0;\n",
              "      width: 32px;\n",
              "    }\n",
              "\n",
              "    .colab-df-convert:hover {\n",
              "      background-color: #E2EBFA;\n",
              "      box-shadow: 0px 1px 2px rgba(60, 64, 67, 0.3), 0px 1px 3px 1px rgba(60, 64, 67, 0.15);\n",
              "      fill: #174EA6;\n",
              "    }\n",
              "\n",
              "    [theme=dark] .colab-df-convert {\n",
              "      background-color: #3B4455;\n",
              "      fill: #D2E3FC;\n",
              "    }\n",
              "\n",
              "    [theme=dark] .colab-df-convert:hover {\n",
              "      background-color: #434B5C;\n",
              "      box-shadow: 0px 1px 3px 1px rgba(0, 0, 0, 0.15);\n",
              "      filter: drop-shadow(0px 1px 2px rgba(0, 0, 0, 0.3));\n",
              "      fill: #FFFFFF;\n",
              "    }\n",
              "  </style>\n",
              "\n",
              "      <script>\n",
              "        const buttonEl =\n",
              "          document.querySelector('#df-8c70d6d5-d9ba-4a75-914f-8c9482b737df button.colab-df-convert');\n",
              "        buttonEl.style.display =\n",
              "          google.colab.kernel.accessAllowed ? 'block' : 'none';\n",
              "\n",
              "        async function convertToInteractive(key) {\n",
              "          const element = document.querySelector('#df-8c70d6d5-d9ba-4a75-914f-8c9482b737df');\n",
              "          const dataTable =\n",
              "            await google.colab.kernel.invokeFunction('convertToInteractive',\n",
              "                                                     [key], {});\n",
              "          if (!dataTable) return;\n",
              "\n",
              "          const docLinkHtml = 'Like what you see? Visit the ' +\n",
              "            '<a target=\"_blank\" href=https://colab.research.google.com/notebooks/data_table.ipynb>data table notebook</a>'\n",
              "            + ' to learn more about interactive tables.';\n",
              "          element.innerHTML = '';\n",
              "          dataTable['output_type'] = 'display_data';\n",
              "          await google.colab.output.renderOutput(dataTable, element);\n",
              "          const docLink = document.createElement('div');\n",
              "          docLink.innerHTML = docLinkHtml;\n",
              "          element.appendChild(docLink);\n",
              "        }\n",
              "      </script>\n",
              "    </div>\n",
              "  </div>\n",
              "  "
            ]
          },
          "metadata": {},
          "execution_count": 107
        },
        {
          "output_type": "display_data",
          "data": {
            "text/plain": [
              "<Figure size 432x288 with 1 Axes>"
            ],
            "image/png": "[encoded data removed]"
          },
          "metadata": {
            "needs_background": "light"
          }
        }
      ]
    },
    {
      "cell_type": "markdown",
      "source": [
        "residuals and b1, b0 for DIABP"
      ],
      "metadata": {
        "id": "Ge62RzsWNsxU"
      }
    },
    {
      "cell_type": "code",
      "source": [
        "print(\"B1: \"+str(B_ONE(sample_one['diaBP'],sample_one['heartRate'])))\n",
        "print(\"B0: \"+str(B_0(sample_one['diaBP'],sample_one['heartRate'])))\n",
        "print()\n",
        "print(\"         USING diaBP AS INDEPENDENT VARIABLE\")\n",
        "\n",
        "b1 = B_ONE(sample_one['diaBP'],sample_one['heartRate'])\n",
        "b0 = B_0(sample_one['diaBP'],sample_one['heartRate'])\n",
        "\n",
        "#calculation of residuals\n",
        "\n",
        "res=RESIDUAL(b0,b1,sample_one['diaBP'],sample_one['heartRate'])\n",
        "\n",
        "#creating a dataframe with predictions, residuals, and observed values\n",
        "\n",
        "zipped = list(zip(sample_one['heartRate'], predictions(b0,b1,sample_one['diaBP']), res))\n",
        "df = pd.DataFrame(zipped, columns=['observed heartrate', 'prediction', 'residual'])\n",
        "\n",
        "\n",
        "k=sample_one['diaBP']\n",
        "j=res\n",
        "\n",
        "# mt.pyplot.plot(k, j, 'o', color='green')\n",
        "# mt.pyplot.xlabel('diaBP')\n",
        "# mt.pyplot.ylabel('residuals')\n",
        "# mt.pyplot.plot(j, b1*k+b0)\n",
        "\n",
        "mt.pyplot.scatter(k, res, color='r', label='residual')\n",
        "mt.pyplot.plot(k,b1*k+b0, color='g', label='regression line')\n",
        "\n",
        "\n",
        "mt.pyplot.title(\"plot between diaBP and residuals\")\n",
        "\n",
        "df.head(5)"
      ],
      "metadata": {
        "colab": {
          "base_uri": "https://localhost:8080/",
          "height": 542
        },
        "id": "PMFrgQbwNuw5",
        "outputId": "42faf4d0-7a8b-46a0-e6c3-3d04d9e24d91"
      },
      "execution_count": null,
      "outputs": [
        {
          "output_type": "stream",
          "name": "stdout",
          "text": [
            "B1: 0.19079644887003605\n",
            "B0: 60.032413329723454\n",
            "\n",
            "         USING diaBP AS INDEPENDENT VARIABLE\n"
          ]
        },
        {
          "output_type": "execute_result",
          "data": {
            "text/plain": [
              "   observed heartrate  prediction   residual\n",
              "0                72.0   75.105333  -3.105333\n",
              "1                68.0   75.868519  -7.868519\n",
              "2                70.0   75.582324  -5.582324\n",
              "3                80.0   77.681085   2.318915\n",
              "4                63.0   73.769758 -10.769758"
            ],
            "text/html": [
              "\n",
              "  <div id=\"df-f8432d98-06a4-42df-a4ee-97f392a3244b\">\n",
              "    <div class=\"colab-df-container\">\n",
              "      <div>\n",
              "<style scoped>\n",
              "    .dataframe tbody tr th:only-of-type {\n",
              "        vertical-align: middle;\n",
              "    }\n",
              "\n",
              "    .dataframe tbody tr th {\n",
              "        vertical-align: top;\n",
              "    }\n",
              "\n",
              "    .dataframe thead th {\n",
              "        text-align: right;\n",
              "    }\n",
              "</style>\n",
              "<table border=\"1\" class=\"dataframe\">\n",
              "  <thead>\n",
              "    <tr style=\"text-align: right;\">\n",
              "      <th></th>\n",
              "      <th>observed heartrate</th>\n",
              "      <th>prediction</th>\n",
              "      <th>residual</th>\n",
              "    </tr>\n",
              "  </thead>\n",
              "  <tbody>\n",
              "    <tr>\n",
              "      <th>0</th>\n",
              "      <td>72.0</td>\n",
              "      <td>75.105333</td>\n",
              "      <td>-3.105333</td>\n",
              "    </tr>\n",
              "    <tr>\n",
              "      <th>1</th>\n",
              "      <td>68.0</td>\n",
              "      <td>75.868519</td>\n",
              "      <td>-7.868519</td>\n",
              "    </tr>\n",
              "    <tr>\n",
              "      <th>2</th>\n",
              "      <td>70.0</td>\n",
              "      <td>75.582324</td>\n",
              "      <td>-5.582324</td>\n",
              "    </tr>\n",
              "    <tr>\n",
              "      <th>3</th>\n",
              "      <td>80.0</td>\n",
              "      <td>77.681085</td>\n",
              "      <td>2.318915</td>\n",
              "    </tr>\n",
              "    <tr>\n",
              "      <th>4</th>\n",
              "      <td>63.0</td>\n",
              "      <td>73.769758</td>\n",
              "      <td>-10.769758</td>\n",
              "    </tr>\n",
              "  </tbody>\n",
              "</table>\n",
              "</div>\n",
              "      <button class=\"colab-df-convert\" onclick=\"convertToInteractive('df-f8432d98-06a4-42df-a4ee-97f392a3244b')\"\n",
              "              title=\"Convert this dataframe to an interactive table.\"\n",
              "              style=\"display:none;\">\n",
              "        \n",
              "  <svg xmlns=\"http://www.w3.org/2000/svg\" height=\"24px\"viewBox=\"0 0 24 24\"\n",
              "       width=\"24px\">\n",
              "    <path d=\"M0 0h24v24H0V0z\" fill=\"none\"/>\n",
              "    <path d=\"M18.56 5.44l.94 2.06.94-2.06 2.06-.94-2.06-.94-.94-2.06-.94 2.06-2.06.94zm-11 1L8.5 8.5l.94-2.06 2.06-.94-2.06-.94L8.5 2.5l-.94 2.06-2.06.94zm10 10l.94 2.06.94-2.06 2.06-.94-2.06-.94-.94-2.06-.94 2.06-2.06.94z\"/><path d=\"M17.41 7.96l-1.37-1.37c-.4-.4-.92-.59-1.43-.59-.52 0-1.04.2-1.43.59L10.3 9.45l-7.72 7.72c-.78.78-.78 2.05 0 2.83L4 21.41c.39.39.9.59 1.41.59.51 0 1.02-.2 1.41-.59l7.78-7.78 2.81-2.81c.8-.78.8-2.07 0-2.86zM5.41 20L4 18.59l7.72-7.72 1.47 1.35L5.41 20z\"/>\n",
              "  </svg>\n",
              "      </button>\n",
              "      \n",
              "  <style>\n",
              "    .colab-df-container {\n",
              "      display:flex;\n",
              "      flex-wrap:wrap;\n",
              "      gap: 12px;\n",
              "    }\n",
              "\n",
              "    .colab-df-convert {\n",
              "      background-color: #E8F0FE;\n",
              "      border: none;\n",
              "      border-radius: 50%;\n",
              "      cursor: pointer;\n",
              "      display: none;\n",
              "      fill: #1967D2;\n",
              "      height: 32px;\n",
              "      padding: 0 0 0 0;\n",
              "      width: 32px;\n",
              "    }\n",
              "\n",
              "    .colab-df-convert:hover {\n",
              "      background-color: #E2EBFA;\n",
              "      box-shadow: 0px 1px 2px rgba(60, 64, 67, 0.3), 0px 1px 3px 1px rgba(60, 64, 67, 0.15);\n",
              "      fill: #174EA6;\n",
              "    }\n",
              "\n",
              "    [theme=dark] .colab-df-convert {\n",
              "      background-color: #3B4455;\n",
              "      fill: #D2E3FC;\n",
              "    }\n",
              "\n",
              "    [theme=dark] .colab-df-convert:hover {\n",
              "      background-color: #434B5C;\n",
              "      box-shadow: 0px 1px 3px 1px rgba(0, 0, 0, 0.15);\n",
              "      filter: drop-shadow(0px 1px 2px rgba(0, 0, 0, 0.3));\n",
              "      fill: #FFFFFF;\n",
              "    }\n",
              "  </style>\n",
              "\n",
              "      <script>\n",
              "        const buttonEl =\n",
              "          document.querySelector('#df-f8432d98-06a4-42df-a4ee-97f392a3244b button.colab-df-convert');\n",
              "        buttonEl.style.display =\n",
              "          google.colab.kernel.accessAllowed ? 'block' : 'none';\n",
              "\n",
              "        async function convertToInteractive(key) {\n",
              "          const element = document.querySelector('#df-f8432d98-06a4-42df-a4ee-97f392a3244b');\n",
              "          const dataTable =\n",
              "            await google.colab.kernel.invokeFunction('convertToInteractive',\n",
              "                                                     [key], {});\n",
              "          if (!dataTable) return;\n",
              "\n",
              "          const docLinkHtml = 'Like what you see? Visit the ' +\n",
              "            '<a target=\"_blank\" href=https://colab.research.google.com/notebooks/data_table.ipynb>data table notebook</a>'\n",
              "            + ' to learn more about interactive tables.';\n",
              "          element.innerHTML = '';\n",
              "          dataTable['output_type'] = 'display_data';\n",
              "          await google.colab.output.renderOutput(dataTable, element);\n",
              "          const docLink = document.createElement('div');\n",
              "          docLink.innerHTML = docLinkHtml;\n",
              "          element.appendChild(docLink);\n",
              "        }\n",
              "      </script>\n",
              "    </div>\n",
              "  </div>\n",
              "  "
            ]
          },
          "metadata": {},
          "execution_count": 102
        },
        {
          "output_type": "display_data",
          "data": {
            "text/plain": [
              "<Figure size 432x288 with 1 Axes>"
            ],
            "image/png": "[encoded data removed]"
          },
          "metadata": {
            "needs_background": "light"
          }
        }
      ]
    },
    {
      "cell_type": "markdown",
      "source": [
        "residuals and b1, b0 for TOTAL CHOLESTRAL"
      ],
      "metadata": {
        "id": "hm12PCbYNv14"
      }
    },
    {
      "cell_type": "code",
      "source": [
        "print(\"B1: \"+str(B_ONE(sample_one['totChol'].fillna(247),sample_one['heartRate'])))\n",
        "print(\"B0: \"+str(B_0(sample_one['totChol'].fillna(247),sample_one['heartRate'])))\n",
        "print()\n",
        "print(\"     USING total cholestrol AS INDEPENDENT VARIABLE\")\n",
        "\n",
        "b1 = B_ONE(sample_one['totChol'],sample_one['heartRate'])\n",
        "b0 = B_0(sample_one['totChol'],sample_one['heartRate'])\n",
        "\n",
        "#calculation of residuals\n",
        "\n",
        "res=RESIDUAL(b0,b1,sample_one['totChol'],sample_one['heartRate'])\n",
        "\n",
        "#creating a dataframe with predictions, residuals, and observed values\n",
        "\n",
        "zipped = list(zip(sample_one['heartRate'], predictions(b0,b1,sample_one['totChol']), res))\n",
        "df = pd.DataFrame(zipped, columns=['observed heartrate', 'prediction', 'residual'])\n",
        "\n",
        "k=sample_one['totChol']\n",
        "j=res\n",
        "\n",
        "mt.pyplot.scatter(k, res, color='r', label='residual')\n",
        "mt.pyplot.plot(k,b1*k+b0, color='g', label='regression line')\n",
        "mt.pyplot.xlabel('totChol')\n",
        "mt.pyplot.ylabel('residuals')\n",
        "\n",
        "mt.pyplot.title(\"plot between totChol and residuals\")\n",
        "\n",
        "df.head(5)\n"
      ],
      "metadata": {
        "colab": {
          "base_uri": "https://localhost:8080/",
          "height": 556
        },
        "id": "JMgZMr-oNyDD",
        "outputId": "17254659-c868-4f9f-918e-bcf912294c38"
      },
      "execution_count": null,
      "outputs": [
        {
          "output_type": "stream",
          "name": "stdout",
          "text": [
            "B1: -0.028255861357166456\n",
            "B0: 82.78793132303646\n",
            "\n",
            "     USING total cholestrol AS INDEPENDENT VARIABLE\n"
          ]
        },
        {
          "output_type": "execute_result",
          "data": {
            "text/plain": [
              "   observed heartrate  prediction   residual\n",
              "0                72.0   76.317339  -4.317339\n",
              "1                68.0   72.446286  -4.446286\n",
              "2                70.0   77.136759  -7.136759\n",
              "3                80.0   76.402107   3.597893\n",
              "4                63.0   76.684665 -13.684665"
            ],
            "text/html": [
              "\n",
              "  <div id=\"df-a3b66f36-4e5f-448a-aa07-910b9c6ee6c8\">\n",
              "    <div class=\"colab-df-container\">\n",
              "      <div>\n",
              "<style scoped>\n",
              "    .dataframe tbody tr th:only-of-type {\n",
              "        vertical-align: middle;\n",
              "    }\n",
              "\n",
              "    .dataframe tbody tr th {\n",
              "        vertical-align: top;\n",
              "    }\n",
              "\n",
              "    .dataframe thead th {\n",
              "        text-align: right;\n",
              "    }\n",
              "</style>\n",
              "<table border=\"1\" class=\"dataframe\">\n",
              "  <thead>\n",
              "    <tr style=\"text-align: right;\">\n",
              "      <th></th>\n",
              "      <th>observed heartrate</th>\n",
              "      <th>prediction</th>\n",
              "      <th>residual</th>\n",
              "    </tr>\n",
              "  </thead>\n",
              "  <tbody>\n",
              "    <tr>\n",
              "      <th>0</th>\n",
              "      <td>72.0</td>\n",
              "      <td>76.317339</td>\n",
              "      <td>-4.317339</td>\n",
              "    </tr>\n",
              "    <tr>\n",
              "      <th>1</th>\n",
              "      <td>68.0</td>\n",
              "      <td>72.446286</td>\n",
              "      <td>-4.446286</td>\n",
              "    </tr>\n",
              "    <tr>\n",
              "      <th>2</th>\n",
              "      <td>70.0</td>\n",
              "      <td>77.136759</td>\n",
              "      <td>-7.136759</td>\n",
              "    </tr>\n",
              "    <tr>\n",
              "      <th>3</th>\n",
              "      <td>80.0</td>\n",
              "      <td>76.402107</td>\n",
              "      <td>3.597893</td>\n",
              "    </tr>\n",
              "    <tr>\n",
              "      <th>4</th>\n",
              "      <td>63.0</td>\n",
              "      <td>76.684665</td>\n",
              "      <td>-13.684665</td>\n",
              "    </tr>\n",
              "  </tbody>\n",
              "</table>\n",
              "</div>\n",
              "      <button class=\"colab-df-convert\" onclick=\"convertToInteractive('df-a3b66f36-4e5f-448a-aa07-910b9c6ee6c8')\"\n",
              "              title=\"Convert this dataframe to an interactive table.\"\n",
              "              style=\"display:none;\">\n",
              "        \n",
              "  <svg xmlns=\"http://www.w3.org/2000/svg\" height=\"24px\"viewBox=\"0 0 24 24\"\n",
              "       width=\"24px\">\n",
              "    <path d=\"M0 0h24v24H0V0z\" fill=\"none\"/>\n",
              "    <path d=\"M18.56 5.44l.94 2.06.94-2.06 2.06-.94-2.06-.94-.94-2.06-.94 2.06-2.06.94zm-11 1L8.5 8.5l.94-2.06 2.06-.94-2.06-.94L8.5 2.5l-.94 2.06-2.06.94zm10 10l.94 2.06.94-2.06 2.06-.94-2.06-.94-.94-2.06-.94 2.06-2.06.94z\"/><path d=\"M17.41 7.96l-1.37-1.37c-.4-.4-.92-.59-1.43-.59-.52 0-1.04.2-1.43.59L10.3 9.45l-7.72 7.72c-.78.78-.78 2.05 0 2.83L4 21.41c.39.39.9.59 1.41.59.51 0 1.02-.2 1.41-.59l7.78-7.78 2.81-2.81c.8-.78.8-2.07 0-2.86zM5.41 20L4 18.59l7.72-7.72 1.47 1.35L5.41 20z\"/>\n",
              "  </svg>\n",
              "      </button>\n",
              "      \n",
              "  <style>\n",
              "    .colab-df-container {\n",
              "      display:flex;\n",
              "      flex-wrap:wrap;\n",
              "      gap: 12px;\n",
              "    }\n",
              "\n",
              "    .colab-df-convert {\n",
              "      background-color: #E8F0FE;\n",
              "      border: none;\n",
              "      border-radius: 50%;\n",
              "      cursor: pointer;\n",
              "      display: none;\n",
              "      fill: #1967D2;\n",
              "      height: 32px;\n",
              "      padding: 0 0 0 0;\n",
              "      width: 32px;\n",
              "    }\n",
              "\n",
              "    .colab-df-convert:hover {\n",
              "      background-color: #E2EBFA;\n",
              "      box-shadow: 0px 1px 2px rgba(60, 64, 67, 0.3), 0px 1px 3px 1px rgba(60, 64, 67, 0.15);\n",
              "      fill: #174EA6;\n",
              "    }\n",
              "\n",
              "    [theme=dark] .colab-df-convert {\n",
              "      background-color: #3B4455;\n",
              "      fill: #D2E3FC;\n",
              "    }\n",
              "\n",
              "    [theme=dark] .colab-df-convert:hover {\n",
              "      background-color: #434B5C;\n",
              "      box-shadow: 0px 1px 3px 1px rgba(0, 0, 0, 0.15);\n",
              "      filter: drop-shadow(0px 1px 2px rgba(0, 0, 0, 0.3));\n",
              "      fill: #FFFFFF;\n",
              "    }\n",
              "  </style>\n",
              "\n",
              "      <script>\n",
              "        const buttonEl =\n",
              "          document.querySelector('#df-a3b66f36-4e5f-448a-aa07-910b9c6ee6c8 button.colab-df-convert');\n",
              "        buttonEl.style.display =\n",
              "          google.colab.kernel.accessAllowed ? 'block' : 'none';\n",
              "\n",
              "        async function convertToInteractive(key) {\n",
              "          const element = document.querySelector('#df-a3b66f36-4e5f-448a-aa07-910b9c6ee6c8');\n",
              "          const dataTable =\n",
              "            await google.colab.kernel.invokeFunction('convertToInteractive',\n",
              "                                                     [key], {});\n",
              "          if (!dataTable) return;\n",
              "\n",
              "          const docLinkHtml = 'Like what you see? Visit the ' +\n",
              "            '<a target=\"_blank\" href=https://colab.research.google.com/notebooks/data_table.ipynb>data table notebook</a>'\n",
              "            + ' to learn more about interactive tables.';\n",
              "          element.innerHTML = '';\n",
              "          dataTable['output_type'] = 'display_data';\n",
              "          await google.colab.output.renderOutput(dataTable, element);\n",
              "          const docLink = document.createElement('div');\n",
              "          docLink.innerHTML = docLinkHtml;\n",
              "          element.appendChild(docLink);\n",
              "        }\n",
              "      </script>\n",
              "    </div>\n",
              "  </div>\n",
              "  "
            ]
          },
          "metadata": {},
          "execution_count": 103
        },
        {
          "output_type": "display_data",
          "data": {
            "text/plain": [
              "<Figure size 432x288 with 1 Axes>"
            ],
            "image/png": "[encoded data removed]"
          },
          "metadata": {
            "needs_background": "light"
          }
        }
      ]
    },
    {
      "cell_type": "markdown",
      "source": [
        "residuals and b1, b0 for BMI"
      ],
      "metadata": {
        "id": "OAu84odeN1jW"
      }
    },
    {
      "cell_type": "code",
      "source": [
        "print(\"B1: \"+str(B_ONE(sample_one['BMI'].fillna(25),sample_one['heartRate'])))\n",
        "print(\"B0: \"+str(B_0(sample_one['BMI'].fillna(25),sample_one['heartRate'])))\n",
        "print()\n",
        "print(\"         USING BMI AS INDEPENDENT VARIABLE\")\n",
        "b1 = B_ONE(sample_one['BMI'],sample_one['heartRate'])\n",
        "b0 = B_0(sample_one['BMI'],sample_one['heartRate'])\n",
        "#calculation of residuals\n",
        "res=RESIDUAL(b0,b1,sample_one['BMI'],sample_one['heartRate'])\n",
        "#creating a dataframe with predictions, residuals, and observed values\n",
        "zipped = list(zip(sample_one['heartRate'], predictions(b0,b1,sample_one['BMI']), res))\n",
        "df = pd.DataFrame(zipped, columns=['observed heartrate', 'prediction', 'residual'])\n",
        "k=sample_one['BMI']\n",
        "j=res\n",
        "mt.pyplot.scatter(k, res, color='r', label='residual')\n",
        "mt.pyplot.plot(k,b1*k+b0, color='g', label='regression line')\n",
        "mt.pyplot.xlabel('BMI')\n",
        "mt.pyplot.ylabel('residuals')\n",
        "mt.pyplot.title(\"plot between BMI and residuals\")\n",
        "df.head(5)"
      ],
      "metadata": {
        "colab": {
          "base_uri": "https://localhost:8080/",
          "height": 556
        },
        "id": "5kYLVIN0em7t",
        "outputId": "bde11b85-5400-4264-c2ae-8ff27382a1f2"
      },
      "execution_count": null,
      "outputs": [
        {
          "output_type": "stream",
          "name": "stdout",
          "text": [
            "B1: 0.15644309075548088\n",
            "B0: 71.86409678899929\n",
            "\n",
            "         USING BMI AS INDEPENDENT VARIABLE\n"
          ]
        },
        {
          "output_type": "execute_result",
          "data": {
            "text/plain": [
              "   observed heartrate  prediction   residual\n",
              "0                72.0   76.601194  -4.601194\n",
              "1                68.0   76.224166  -8.224166\n",
              "2                70.0   76.019225  -6.019225\n",
              "3                80.0   76.690366   3.309634\n",
              "4                63.0   75.307409 -12.307409"
            ],
            "text/html": [
              "\n",
              "  <div id=\"df-828c2177-a8cc-4c4b-a5b4-a1c3d3a2ce2b\">\n",
              "    <div class=\"colab-df-container\">\n",
              "      <div>\n",
              "<style scoped>\n",
              "    .dataframe tbody tr th:only-of-type {\n",
              "        vertical-align: middle;\n",
              "    }\n",
              "\n",
              "    .dataframe tbody tr th {\n",
              "        vertical-align: top;\n",
              "    }\n",
              "\n",
              "    .dataframe thead th {\n",
              "        text-align: right;\n",
              "    }\n",
              "</style>\n",
              "<table border=\"1\" class=\"dataframe\">\n",
              "  <thead>\n",
              "    <tr style=\"text-align: right;\">\n",
              "      <th></th>\n",
              "      <th>observed heartrate</th>\n",
              "      <th>prediction</th>\n",
              "      <th>residual</th>\n",
              "    </tr>\n",
              "  </thead>\n",
              "  <tbody>\n",
              "    <tr>\n",
              "      <th>0</th>\n",
              "      <td>72.0</td>\n",
              "      <td>76.601194</td>\n",
              "      <td>-4.601194</td>\n",
              "    </tr>\n",
              "    <tr>\n",
              "      <th>1</th>\n",
              "      <td>68.0</td>\n",
              "      <td>76.224166</td>\n",
              "      <td>-8.224166</td>\n",
              "    </tr>\n",
              "    <tr>\n",
              "      <th>2</th>\n",
              "      <td>70.0</td>\n",
              "      <td>76.019225</td>\n",
              "      <td>-6.019225</td>\n",
              "    </tr>\n",
              "    <tr>\n",
              "      <th>3</th>\n",
              "      <td>80.0</td>\n",
              "      <td>76.690366</td>\n",
              "      <td>3.309634</td>\n",
              "    </tr>\n",
              "    <tr>\n",
              "      <th>4</th>\n",
              "      <td>63.0</td>\n",
              "      <td>75.307409</td>\n",
              "      <td>-12.307409</td>\n",
              "    </tr>\n",
              "  </tbody>\n",
              "</table>\n",
              "</div>\n",
              "      <button class=\"colab-df-convert\" onclick=\"convertToInteractive('df-828c2177-a8cc-4c4b-a5b4-a1c3d3a2ce2b')\"\n",
              "              title=\"Convert this dataframe to an interactive table.\"\n",
              "              style=\"display:none;\">\n",
              "        \n",
              "  <svg xmlns=\"http://www.w3.org/2000/svg\" height=\"24px\"viewBox=\"0 0 24 24\"\n",
              "       width=\"24px\">\n",
              "    <path d=\"M0 0h24v24H0V0z\" fill=\"none\"/>\n",
              "    <path d=\"M18.56 5.44l.94 2.06.94-2.06 2.06-.94-2.06-.94-.94-2.06-.94 2.06-2.06.94zm-11 1L8.5 8.5l.94-2.06 2.06-.94-2.06-.94L8.5 2.5l-.94 2.06-2.06.94zm10 10l.94 2.06.94-2.06 2.06-.94-2.06-.94-.94-2.06-.94 2.06-2.06.94z\"/><path d=\"M17.41 7.96l-1.37-1.37c-.4-.4-.92-.59-1.43-.59-.52 0-1.04.2-1.43.59L10.3 9.45l-7.72 7.72c-.78.78-.78 2.05 0 2.83L4 21.41c.39.39.9.59 1.41.59.51 0 1.02-.2 1.41-.59l7.78-7.78 2.81-2.81c.8-.78.8-2.07 0-2.86zM5.41 20L4 18.59l7.72-7.72 1.47 1.35L5.41 20z\"/>\n",
              "  </svg>\n",
              "      </button>\n",
              "      \n",
              "  <style>\n",
              "    .colab-df-container {\n",
              "      display:flex;\n",
              "      flex-wrap:wrap;\n",
              "      gap: 12px;\n",
              "    }\n",
              "\n",
              "    .colab-df-convert {\n",
              "      background-color: #E8F0FE;\n",
              "      border: none;\n",
              "      border-radius: 50%;\n",
              "      cursor: pointer;\n",
              "      display: none;\n",
              "      fill: #1967D2;\n",
              "      height: 32px;\n",
              "      padding: 0 0 0 0;\n",
              "      width: 32px;\n",
              "    }\n",
              "\n",
              "    .colab-df-convert:hover {\n",
              "      background-color: #E2EBFA;\n",
              "      box-shadow: 0px 1px 2px rgba(60, 64, 67, 0.3), 0px 1px 3px 1px rgba(60, 64, 67, 0.15);\n",
              "      fill: #174EA6;\n",
              "    }\n",
              "\n",
              "    [theme=dark] .colab-df-convert {\n",
              "      background-color: #3B4455;\n",
              "      fill: #D2E3FC;\n",
              "    }\n",
              "\n",
              "    [theme=dark] .colab-df-convert:hover {\n",
              "      background-color: #434B5C;\n",
              "      box-shadow: 0px 1px 3px 1px rgba(0, 0, 0, 0.15);\n",
              "      filter: drop-shadow(0px 1px 2px rgba(0, 0, 0, 0.3));\n",
              "      fill: #FFFFFF;\n",
              "    }\n",
              "  </style>\n",
              "\n",
              "      <script>\n",
              "        const buttonEl =\n",
              "          document.querySelector('#df-828c2177-a8cc-4c4b-a5b4-a1c3d3a2ce2b button.colab-df-convert');\n",
              "        buttonEl.style.display =\n",
              "          google.colab.kernel.accessAllowed ? 'block' : 'none';\n",
              "\n",
              "        async function convertToInteractive(key) {\n",
              "          const element = document.querySelector('#df-828c2177-a8cc-4c4b-a5b4-a1c3d3a2ce2b');\n",
              "          const dataTable =\n",
              "            await google.colab.kernel.invokeFunction('convertToInteractive',\n",
              "                                                     [key], {});\n",
              "          if (!dataTable) return;\n",
              "\n",
              "          const docLinkHtml = 'Like what you see? Visit the ' +\n",
              "            '<a target=\"_blank\" href=https://colab.research.google.com/notebooks/data_table.ipynb>data table notebook</a>'\n",
              "            + ' to learn more about interactive tables.';\n",
              "          element.innerHTML = '';\n",
              "          dataTable['output_type'] = 'display_data';\n",
              "          await google.colab.output.renderOutput(dataTable, element);\n",
              "          const docLink = document.createElement('div');\n",
              "          docLink.innerHTML = docLinkHtml;\n",
              "          element.appendChild(docLink);\n",
              "        }\n",
              "      </script>\n",
              "    </div>\n",
              "  </div>\n",
              "  "
            ]
          },
          "metadata": {},
          "execution_count": 104
        },
        {
          "output_type": "display_data",
          "data": {
            "text/plain": [
              "<Figure size 432x288 with 1 Axes>"
            ],
            "image/png": "[encoded data removed]"
          },
          "metadata": {
            "needs_background": "light"
          }
        }
      ]
    },
    {
      "cell_type": "markdown",
      "source": [
        "residuals and b1, b0 for AGE"
      ],
      "metadata": {
        "id": "MjZnm4hqeo6Z"
      }
    },
    {
      "cell_type": "code",
      "source": [
        "print(\"B1: \"+str(B_ONE(sample_one['age'].fillna(25),sample_one['heartRate'])))\n",
        "print(\"B0: \"+str(B_0(sample_one['age'].fillna(25),sample_one['heartRate'])))\n",
        "print()\n",
        "print(\"         USING AGE AS INDEPENDENT VARIABLE\")\n",
        "b1 = B_ONE(sample_one['age'],sample_one['heartRate'])\n",
        "b0 = B_0(sample_one['age'],sample_one['heartRate'])\n",
        "\n",
        "#calculation of residuals\n",
        "\n",
        "res=RESIDUAL(b0,b1,sample_one['age'],sample_one['heartRate'])\n",
        "\n",
        "#creating a dataframe with predictions, residuals, and observed values\n",
        "\n",
        "zipped = list(zip(sample_one['heartRate'], predictions(b0,b1,sample_one['age']), res))\n",
        "df = pd.DataFrame(zipped, columns=['observed heartrate', 'prediction', 'residual'])\n",
        "\n",
        "k=sample_one['age']\n",
        "j=res\n",
        "mt.pyplot.scatter(k, res, color='r', label='residual')\n",
        "mt.pyplot.plot(k,b1*k+b0, color='g', label='regression line')\n",
        "mt.pyplot.xlabel('age')\n",
        "mt.pyplot.ylabel('residuals')\n",
        "\n",
        "mt.pyplot.title(\"plot between age and residuals\")\n",
        "\n",
        "df.head(5)"
      ],
      "metadata": {
        "colab": {
          "base_uri": "https://localhost:8080/",
          "height": 556
        },
        "id": "Jg5NzZ7TerL_",
        "outputId": "5cc16184-1590-407e-c4b9-11efd4830e90"
      },
      "execution_count": null,
      "outputs": [
        {
          "output_type": "stream",
          "name": "stdout",
          "text": [
            "B1: -0.20106161090961946\n",
            "B0: 85.6695836740984\n",
            "\n",
            "         USING AGE AS INDEPENDENT VARIABLE\n"
          ]
        },
        {
          "output_type": "execute_result",
          "data": {
            "text/plain": [
              "   observed heartrate  prediction   residual\n",
              "0                72.0   77.023934  -5.023934\n",
              "1                68.0   75.013318  -7.013318\n",
              "2                70.0   75.214380  -5.214380\n",
              "3                80.0   73.605887   6.394113\n",
              "4                63.0   78.029242 -15.029242"
            ],
            "text/html": [
              "\n",
              "  <div id=\"df-50a42e26-fc00-4af3-88e0-1b21c4301f4e\">\n",
              "    <div class=\"colab-df-container\">\n",
              "      <div>\n",
              "<style scoped>\n",
              "    .dataframe tbody tr th:only-of-type {\n",
              "        vertical-align: middle;\n",
              "    }\n",
              "\n",
              "    .dataframe tbody tr th {\n",
              "        vertical-align: top;\n",
              "    }\n",
              "\n",
              "    .dataframe thead th {\n",
              "        text-align: right;\n",
              "    }\n",
              "</style>\n",
              "<table border=\"1\" class=\"dataframe\">\n",
              "  <thead>\n",
              "    <tr style=\"text-align: right;\">\n",
              "      <th></th>\n",
              "      <th>observed heartrate</th>\n",
              "      <th>prediction</th>\n",
              "      <th>residual</th>\n",
              "    </tr>\n",
              "  </thead>\n",
              "  <tbody>\n",
              "    <tr>\n",
              "      <th>0</th>\n",
              "      <td>72.0</td>\n",
              "      <td>77.023934</td>\n",
              "      <td>-5.023934</td>\n",
              "    </tr>\n",
              "    <tr>\n",
              "      <th>1</th>\n",
              "      <td>68.0</td>\n",
              "      <td>75.013318</td>\n",
              "      <td>-7.013318</td>\n",
              "    </tr>\n",
              "    <tr>\n",
              "      <th>2</th>\n",
              "      <td>70.0</td>\n",
              "      <td>75.214380</td>\n",
              "      <td>-5.214380</td>\n",
              "    </tr>\n",
              "    <tr>\n",
              "      <th>3</th>\n",
              "      <td>80.0</td>\n",
              "      <td>73.605887</td>\n",
              "      <td>6.394113</td>\n",
              "    </tr>\n",
              "    <tr>\n",
              "      <th>4</th>\n",
              "      <td>63.0</td>\n",
              "      <td>78.029242</td>\n",
              "      <td>-15.029242</td>\n",
              "    </tr>\n",
              "  </tbody>\n",
              "</table>\n",
              "</div>\n",
              "      <button class=\"colab-df-convert\" onclick=\"convertToInteractive('df-50a42e26-fc00-4af3-88e0-1b21c4301f4e')\"\n",
              "              title=\"Convert this dataframe to an interactive table.\"\n",
              "              style=\"display:none;\">\n",
              "        \n",
              "  <svg xmlns=\"http://www.w3.org/2000/svg\" height=\"24px\"viewBox=\"0 0 24 24\"\n",
              "       width=\"24px\">\n",
              "    <path d=\"M0 0h24v24H0V0z\" fill=\"none\"/>\n",
              "    <path d=\"M18.56 5.44l.94 2.06.94-2.06 2.06-.94-2.06-.94-.94-2.06-.94 2.06-2.06.94zm-11 1L8.5 8.5l.94-2.06 2.06-.94-2.06-.94L8.5 2.5l-.94 2.06-2.06.94zm10 10l.94 2.06.94-2.06 2.06-.94-2.06-.94-.94-2.06-.94 2.06-2.06.94z\"/><path d=\"M17.41 7.96l-1.37-1.37c-.4-.4-.92-.59-1.43-.59-.52 0-1.04.2-1.43.59L10.3 9.45l-7.72 7.72c-.78.78-.78 2.05 0 2.83L4 21.41c.39.39.9.59 1.41.59.51 0 1.02-.2 1.41-.59l7.78-7.78 2.81-2.81c.8-.78.8-2.07 0-2.86zM5.41 20L4 18.59l7.72-7.72 1.47 1.35L5.41 20z\"/>\n",
              "  </svg>\n",
              "      </button>\n",
              "      \n",
              "  <style>\n",
              "    .colab-df-container {\n",
              "      display:flex;\n",
              "      flex-wrap:wrap;\n",
              "      gap: 12px;\n",
              "    }\n",
              "\n",
              "    .colab-df-convert {\n",
              "      background-color: #E8F0FE;\n",
              "      border: none;\n",
              "      border-radius: 50%;\n",
              "      cursor: pointer;\n",
              "      display: none;\n",
              "      fill: #1967D2;\n",
              "      height: 32px;\n",
              "      padding: 0 0 0 0;\n",
              "      width: 32px;\n",
              "    }\n",
              "\n",
              "    .colab-df-convert:hover {\n",
              "      background-color: #E2EBFA;\n",
              "      box-shadow: 0px 1px 2px rgba(60, 64, 67, 0.3), 0px 1px 3px 1px rgba(60, 64, 67, 0.15);\n",
              "      fill: #174EA6;\n",
              "    }\n",
              "\n",
              "    [theme=dark] .colab-df-convert {\n",
              "      background-color: #3B4455;\n",
              "      fill: #D2E3FC;\n",
              "    }\n",
              "\n",
              "    [theme=dark] .colab-df-convert:hover {\n",
              "      background-color: #434B5C;\n",
              "      box-shadow: 0px 1px 3px 1px rgba(0, 0, 0, 0.15);\n",
              "      filter: drop-shadow(0px 1px 2px rgba(0, 0, 0, 0.3));\n",
              "      fill: #FFFFFF;\n",
              "    }\n",
              "  </style>\n",
              "\n",
              "      <script>\n",
              "        const buttonEl =\n",
              "          document.querySelector('#df-50a42e26-fc00-4af3-88e0-1b21c4301f4e button.colab-df-convert');\n",
              "        buttonEl.style.display =\n",
              "          google.colab.kernel.accessAllowed ? 'block' : 'none';\n",
              "\n",
              "        async function convertToInteractive(key) {\n",
              "          const element = document.querySelector('#df-50a42e26-fc00-4af3-88e0-1b21c4301f4e');\n",
              "          const dataTable =\n",
              "            await google.colab.kernel.invokeFunction('convertToInteractive',\n",
              "                                                     [key], {});\n",
              "          if (!dataTable) return;\n",
              "\n",
              "          const docLinkHtml = 'Like what you see? Visit the ' +\n",
              "            '<a target=\"_blank\" href=https://colab.research.google.com/notebooks/data_table.ipynb>data table notebook</a>'\n",
              "            + ' to learn more about interactive tables.';\n",
              "          element.innerHTML = '';\n",
              "          dataTable['output_type'] = 'display_data';\n",
              "          await google.colab.output.renderOutput(dataTable, element);\n",
              "          const docLink = document.createElement('div');\n",
              "          docLink.innerHTML = docLinkHtml;\n",
              "          element.appendChild(docLink);\n",
              "        }\n",
              "      </script>\n",
              "    </div>\n",
              "  </div>\n",
              "  "
            ]
          },
          "metadata": {},
          "execution_count": 106
        },
        {
          "output_type": "display_data",
          "data": {
            "text/plain": [
              "<Figure size 432x288 with 1 Axes>"
            ],
            "image/png": "[encoded data removed]"
          },
          "metadata": {
            "needs_background": "light"
          }
        }
      ]
    },
    {
      "cell_type": "markdown",
      "source": [
        "HEATMAP FOR ALL THE VARIABLES"
      ],
      "metadata": {
        "id": "LOlQKNthxJ3C"
      }
    },
    {
      "cell_type": "code",
      "source": [
        "sns.heatmap(sample_one[[ 'age', 'cigsPerDay',  'totChol', 'sysBP','diaBP', 'BMI', 'heartRate', 'TenYearCHD']].corr()).set_title('Correlation Heatmap', fontdict={'fontsize':18}, pad=12)"
      ],
      "metadata": {
        "colab": {
          "base_uri": "https://localhost:8080/",
          "height": 359
        },
        "id": "mBFFcIG3wjwz",
        "outputId": "a1208f39-1845-4802-8e75-9853f7b521ff"
      },
      "execution_count": null,
      "outputs": [
        {
          "output_type": "execute_result",
          "data": {
            "text/plain": [
              "Text(0.5, 1.0, 'Correlation Heatmap')"
            ]
          },
          "metadata": {},
          "execution_count": 113
        },
        {
          "output_type": "display_data",
          "data": {
            "text/plain": [
              "<Figure size 432x288 with 2 Axes>"
            ],
            "image/png": "[encoded data removed]"
          },
          "metadata": {
            "needs_background": "light"
          }
        }
      ]
    }
  ]
}